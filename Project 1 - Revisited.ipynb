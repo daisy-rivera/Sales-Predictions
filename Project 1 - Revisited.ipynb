{
 "cells": [
  {
   "cell_type": "markdown",
   "metadata": {
    "id": "4MYLWNATYfJO"
   },
   "source": [
    "#Project 1 - Revisited"
   ]
  },
  {
   "cell_type": "markdown",
   "metadata": {
    "id": "st-CUWZiZXGx"
   },
   "source": [
    "The goal of this project is to help the retailer understand the properties of products and outlets that play crucial roles in increasing sales.\n",
    "\n",
    "Link to original datasource [Here](https://datahack.analyticsvidhya.com/contest/practice-problem-big-mart-sales-iii/)"
   ]
  },
  {
   "cell_type": "markdown",
   "metadata": {
    "id": "1CPyINtFZZp6"
   },
   "source": [
    "### Import Libraries\n"
   ]
  },
  {
   "cell_type": "code",
   "execution_count": 1,
   "metadata": {
    "executionInfo": {
     "elapsed": 1932,
     "status": "ok",
     "timestamp": 1685078429819,
     "user": {
      "displayName": "Daisy Rivera",
      "userId": "10557679735270633011"
     },
     "user_tz": 300
    },
    "id": "Z4-AKb1FYUqT"
   },
   "outputs": [],
   "source": [
    "# standard imports\n",
    "import pandas as pd\n",
    "import numpy as np\n",
    "\n",
    "#Visualization\n",
    "import seaborn as sns\n",
    "import matplotlib.pyplot as plt\n",
    "\n",
    "## Preprocessing\n",
    "from sklearn.model_selection import train_test_split,GridSearchCV\n",
    "from sklearn.compose import make_column_selector, make_column_transformer\n",
    "from sklearn.preprocessing import StandardScaler, OneHotEncoder\n",
    "from sklearn.pipeline import make_pipeline\n",
    "from sklearn.impute import SimpleImputer\n",
    "\n",
    "## Models\n",
    "from sklearn.linear_model import LinearRegression\n",
    "from sklearn.tree import DecisionTreeRegressor\n",
    "\n",
    "## Regression Metrics\n",
    "from sklearn import metrics\n",
    "\n",
    "#permutation Importance\n",
    "from sklearn.inspection import permutation_importance\n",
    "\n",
    "#saving model\n",
    "import joblib\n",
    "\n",
    "## setting random state for reproducibility\n",
    "SEED = 321\n",
    "np.random.seed(SEED)\n",
    "\n",
    "## Set global scikit-learn configuration \n",
    "from sklearn import set_config\n",
    "## Display estimators as a diagram\n",
    "set_config(display='diagram') # 'text' or 'diagram'}\n",
    "\n",
    "## set pandas to display more columns\n",
    "pd.set_option('display.max_columns',50)\n",
    "\n",
    "#suppressing scientific notation, add comma & round 2 decimal pts\n",
    "pd.set_option('display.float_format', lambda x: f\"{x:,.2f}\")"
   ]
  },
  {
   "cell_type": "markdown",
   "metadata": {
    "id": "TOorby1dbLTo"
   },
   "source": [
    "### Functions"
   ]
  },
  {
   "cell_type": "code",
   "execution_count": 2,
   "metadata": {
    "executionInfo": {
     "elapsed": 9,
     "status": "ok",
     "timestamp": 1685078429820,
     "user": {
      "displayName": "Daisy Rivera",
      "userId": "10557679735270633011"
     },
     "user_tz": 300
    },
    "id": "wic3x1VzbNjN"
   },
   "outputs": [],
   "source": [
    "\"\"\"Evaluates regression model with MAE, r-squared and RMSE and prints Dataframe\"\"\" \n",
    "def model_metrics(pipe, X_train, y_train, X_test, y_test, \n",
    "                       model_name='Regression Model', ):\n",
    "  train_pred = pipe.predict(X_train)\n",
    "  test_preds = pipe.predict(X_test)\n",
    "  \n",
    "  metrics = ['train_MAE','test_MAE', \n",
    "             'train_RMSE', 'test_RMSE', \n",
    "             'train_R2', 'test_R2']\n",
    "  \n",
    "  ## Train\n",
    "  train_mae = round(mean_absolute_error(y_train, train_pred),4)\n",
    "  train_rmse = round(np.sqrt(mean_squared_error(y_train, train_pred)),4)\n",
    "  train_r2 = round(r2_score(y_train, train_pred),7)\n",
    "\n",
    "  ## Test\n",
    "  test_mae = round(mean_absolute_error(y_test, test_preds),4)\n",
    "  test_rmse = round(np.sqrt(mean_squared_error(y_test, test_preds)),4)\n",
    "  test_r2 = round(r2_score(y_test, test_preds),7)\n",
    "\n",
    "  ## Output Dataframe\n",
    "  scores = pd.DataFrame(index=metrics, columns=[f'{model_name}_test'])\n",
    "  scores.loc[metrics, f'{model_name}_test'] = [train_mae, test_mae,\n",
    "                                               train_rmse, test_rmse,\n",
    "                                               train_r2, test_r2]\n",
    "\n",
    "  return scores\n",
    "\n",
    "\n",
    "\"\"\"Evaluates a scikit learn regression model using r-squared and RMSE\"\"\"    \n",
    "def evaluate_regression(model, X_train,y_train, X_test, y_test): \n",
    "    \n",
    "    ## Training Data\n",
    "    y_pred_train = model.predict(X_train)\n",
    "    r2_train = metrics.r2_score(y_train, y_pred_train)\n",
    "    rmse_train = metrics.mean_squared_error(y_train, y_pred_train, \n",
    "                                            squared=False)\n",
    "    \n",
    "    print(f\"Training Data:\\tR^2= {r2_train:.2f}\\tRMSE= {rmse_train:.2f}\")\n",
    "        \n",
    "    \n",
    "    ## Test Data\n",
    "    y_pred_test = model.predict(X_test)\n",
    "    r2_test = metrics.r2_score(y_test, y_pred_test)\n",
    "    rmse_test = metrics.mean_squared_error(y_test, y_pred_test, \n",
    "                                            squared=False)\n",
    "    \n",
    "    print(f\"Test Data:\\tR^2= {r2_test:.2f}\\tRMSE= {rmse_test:.2f}\")\n",
    "\n",
    "\n",
    "\"\"\" Function for extracting important features\"\"\"\n",
    "def get_importances(model, feature_names=None,name='Feature Importance',\n",
    "                   sort=False, ascending=True):\n",
    "    \n",
    "    ## checking for feature names\n",
    "    if feature_names == None:\n",
    "        feature_names = model.feature_names_in_\n",
    "        \n",
    "    ## Saving the feature importances\n",
    "    importances = pd.Series(model.feature_importances_, index= feature_names,\n",
    "                           name=name)\n",
    "    \n",
    "    # sort importances\n",
    "    if sort == True:\n",
    "        importances = importances.sort_values(ascending=ascending)\n",
    "        \n",
    "    return importances\n",
    "\n",
    "\n",
    "\"\"\" Function for plotting important features\"\"\"\n",
    "def plot_importance(importances, top_n=None,  figsize=(8,6)):\n",
    "    # sorting with asc=false for correct order of bars\n",
    "    if top_n==None:\n",
    "        ## sort all features and set title\n",
    "        plot_vals = importances.sort_values()\n",
    "        title = \"All Features - Ranked by Importance\"\n",
    "    else:\n",
    "        ## sort features and keep top_n and set title\n",
    "        plot_vals = importances.sort_values().tail(top_n)\n",
    "        title = f\"Top {top_n} Most Important Features\"\n",
    "    ## plotting top N importances\n",
    "    ax = plot_vals.plot(kind='barh', figsize=figsize)\n",
    "    ax.set(xlabel='Importance',\n",
    "            ylabel='Feature Names',\n",
    "            title=title)\n",
    "    ## return ax in case want to continue to update/modify figure\n",
    "    return ax\n",
    "\n",
    "\n",
    "\"\"\" Function to get coefficients from a linear regression model\"\"\"\n",
    "def get_coeffs_linreg(lin_reg, feature_names = None, sort=True,ascending=True,\n",
    "                     name='LinearRegression Coefficients'):\n",
    "    if feature_names is None:\n",
    "        feature_names = lin_reg.feature_names_in_\n",
    "    ## Saving the coefficients\n",
    "    coeffs = pd.Series(lin_reg.coef_, index= feature_names)\n",
    "    coeffs['intercept'] = lin_reg.intercept_\n",
    "    if sort==True:\n",
    "        coeffs = coeffs.sort_values(ascending=ascending)\n",
    "    return coeffs\n",
    "\n",
    "\"\"\" Function to annotate horizontal bars in coefficient graph\"\"\"\n",
    "def annotate_hbars(ax, ha='left', va='center', size=12, xytext=(4,0),\n",
    "                  textcoords='offset points'):\n",
    "    for bar in ax.patches:\n",
    "    \n",
    "        ## calculate center of bar\n",
    "        bar_ax = bar.get_y() + bar.get_height() / 2\n",
    "        ## get the value to annotate\n",
    "        val = bar.get_width()\n",
    "        if val < 0:\n",
    "            val_pos = 0\n",
    "        else:\n",
    "            val_pos = val\n",
    "        # ha and va stand for the horizontal and vertical alignment\n",
    "        ax.annotate(f\"{val:.3f}\", (val_pos,bar_ax), ha=ha, va=va, size=size,\n",
    "                        xytext=xytext, textcoords=textcoords)\n",
    "\n",
    "\n",
    "\"\"\" Function to plot coefficients\"\"\"\n",
    "def plot_coeffs(coeffs, top_n=None, figsize=(4,5), \n",
    "                intercept=False, intercept_name=\"intercept\", \n",
    "                annotate=False, ha='left', va='center', size=12, \n",
    "                xytext=(4,0), textcoords='offset points'):\n",
    "    \"\"\" Plots the top_n coefficients from a Series, with optional annotations.\n",
    "    \"\"\"\n",
    "    # Drop intercept if intercept=False and \n",
    "    if (intercept == False) & (intercept_name in coeffs.index):\n",
    "        coeffs = coeffs.drop(intercept_name)\n",
    "    if top_n == None:\n",
    "        ## sort all features and set title\n",
    "        plot_vals = coeffs.sort_values()\n",
    "        title = \"All Coefficients - Ranked by Magnitude\"\n",
    "    else:\n",
    "        ## rank the coeffs and select the top_n\n",
    "        coeff_rank = coeffs.abs().rank().sort_values(ascending=False)\n",
    "        top_n_features = coeff_rank.head(top_n)\n",
    "        \n",
    "        ## sort features and keep top_n and set title\n",
    "        plot_vals = coeffs.loc[top_n_features.index].sort_values()\n",
    "        title = f\"Top {top_n} Largest Coefficients\"\n",
    "    ## plotting top N importances\n",
    "    ax = plot_vals.plot(kind='barh', figsize=figsize)\n",
    "    ax.set(xlabel='Coefficient', \n",
    "            ylabel='Feature Names', \n",
    "            title=title)\n",
    "    ax.axvline(0, color='k')\n",
    "    if annotate == True:\n",
    "        annotate_hbars(ax, ha=ha, va=va, size=size, xytext=xytext, textcoords=textcoords)\n",
    "    return ax"
   ]
  },
  {
   "cell_type": "markdown",
   "metadata": {
    "id": "KntP1almZbyq"
   },
   "source": [
    "### Upload Data"
   ]
  },
  {
   "cell_type": "code",
   "execution_count": 3,
   "metadata": {
    "colab": {
     "base_uri": "https://localhost:8080/"
    },
    "executionInfo": {
     "elapsed": 24547,
     "status": "ok",
     "timestamp": 1685078454359,
     "user": {
      "displayName": "Daisy Rivera",
      "userId": "10557679735270633011"
     },
     "user_tz": 300
    },
    "id": "yBwp1fXAZeQX",
    "outputId": "0a6c71a7-bbec-470f-ca3b-1b48baa0ed82"
   },
   "outputs": [
    {
     "name": "stdout",
     "output_type": "stream",
     "text": [
      "Mounted at /content/drive\n"
     ]
    }
   ],
   "source": [
    "#Mounting drive\n",
    "from google.colab import drive\n",
    "drive.mount('/content/drive')"
   ]
  },
  {
   "cell_type": "code",
   "execution_count": 4,
   "metadata": {
    "colab": {
     "base_uri": "https://localhost:8080/",
     "height": 187
    },
    "executionInfo": {
     "elapsed": 1511,
     "status": "ok",
     "timestamp": 1685078455866,
     "user": {
      "displayName": "Daisy Rivera",
      "userId": "10557679735270633011"
     },
     "user_tz": 300
    },
    "id": "LLMooqwqizXI",
    "outputId": "5c3faf07-bdf7-4e9d-9502-aa816ea1693e"
   },
   "outputs": [
    {
     "data": {
      "text/html": [
       "\n",
       "  <div id=\"df-04f8e120-5268-458b-9d81-43cad1f8ef11\">\n",
       "    <div class=\"colab-df-container\">\n",
       "      <div>\n",
       "<style scoped>\n",
       "    .dataframe tbody tr th:only-of-type {\n",
       "        vertical-align: middle;\n",
       "    }\n",
       "\n",
       "    .dataframe tbody tr th {\n",
       "        vertical-align: top;\n",
       "    }\n",
       "\n",
       "    .dataframe thead th {\n",
       "        text-align: right;\n",
       "    }\n",
       "</style>\n",
       "<table border=\"1\" class=\"dataframe\">\n",
       "  <thead>\n",
       "    <tr style=\"text-align: right;\">\n",
       "      <th></th>\n",
       "      <th>Item_Identifier</th>\n",
       "      <th>Item_Weight</th>\n",
       "      <th>Item_Fat_Content</th>\n",
       "      <th>Item_Visibility</th>\n",
       "      <th>Item_Type</th>\n",
       "      <th>Item_MRP</th>\n",
       "      <th>Outlet_Identifier</th>\n",
       "      <th>Outlet_Establishment_Year</th>\n",
       "      <th>Outlet_Size</th>\n",
       "      <th>Outlet_Location_Type</th>\n",
       "      <th>Outlet_Type</th>\n",
       "      <th>Item_Outlet_Sales</th>\n",
       "    </tr>\n",
       "  </thead>\n",
       "  <tbody>\n",
       "    <tr>\n",
       "      <th>0</th>\n",
       "      <td>FDA15</td>\n",
       "      <td>9.30</td>\n",
       "      <td>Low Fat</td>\n",
       "      <td>0.02</td>\n",
       "      <td>Dairy</td>\n",
       "      <td>249.81</td>\n",
       "      <td>OUT049</td>\n",
       "      <td>1999</td>\n",
       "      <td>Medium</td>\n",
       "      <td>Tier 1</td>\n",
       "      <td>Supermarket Type1</td>\n",
       "      <td>3,735.14</td>\n",
       "    </tr>\n",
       "    <tr>\n",
       "      <th>1</th>\n",
       "      <td>DRC01</td>\n",
       "      <td>5.92</td>\n",
       "      <td>Regular</td>\n",
       "      <td>0.02</td>\n",
       "      <td>Soft Drinks</td>\n",
       "      <td>48.27</td>\n",
       "      <td>OUT018</td>\n",
       "      <td>2009</td>\n",
       "      <td>Medium</td>\n",
       "      <td>Tier 3</td>\n",
       "      <td>Supermarket Type2</td>\n",
       "      <td>443.42</td>\n",
       "    </tr>\n",
       "    <tr>\n",
       "      <th>2</th>\n",
       "      <td>FDN15</td>\n",
       "      <td>17.50</td>\n",
       "      <td>Low Fat</td>\n",
       "      <td>0.02</td>\n",
       "      <td>Meat</td>\n",
       "      <td>141.62</td>\n",
       "      <td>OUT049</td>\n",
       "      <td>1999</td>\n",
       "      <td>Medium</td>\n",
       "      <td>Tier 1</td>\n",
       "      <td>Supermarket Type1</td>\n",
       "      <td>2,097.27</td>\n",
       "    </tr>\n",
       "  </tbody>\n",
       "</table>\n",
       "</div>\n",
       "      <button class=\"colab-df-convert\" onclick=\"convertToInteractive('df-04f8e120-5268-458b-9d81-43cad1f8ef11')\"\n",
       "              title=\"Convert this dataframe to an interactive table.\"\n",
       "              style=\"display:none;\">\n",
       "        \n",
       "  <svg xmlns=\"http://www.w3.org/2000/svg\" height=\"24px\"viewBox=\"0 0 24 24\"\n",
       "       width=\"24px\">\n",
       "    <path d=\"M0 0h24v24H0V0z\" fill=\"none\"/>\n",
       "    <path d=\"M18.56 5.44l.94 2.06.94-2.06 2.06-.94-2.06-.94-.94-2.06-.94 2.06-2.06.94zm-11 1L8.5 8.5l.94-2.06 2.06-.94-2.06-.94L8.5 2.5l-.94 2.06-2.06.94zm10 10l.94 2.06.94-2.06 2.06-.94-2.06-.94-.94-2.06-.94 2.06-2.06.94z\"/><path d=\"M17.41 7.96l-1.37-1.37c-.4-.4-.92-.59-1.43-.59-.52 0-1.04.2-1.43.59L10.3 9.45l-7.72 7.72c-.78.78-.78 2.05 0 2.83L4 21.41c.39.39.9.59 1.41.59.51 0 1.02-.2 1.41-.59l7.78-7.78 2.81-2.81c.8-.78.8-2.07 0-2.86zM5.41 20L4 18.59l7.72-7.72 1.47 1.35L5.41 20z\"/>\n",
       "  </svg>\n",
       "      </button>\n",
       "      \n",
       "  <style>\n",
       "    .colab-df-container {\n",
       "      display:flex;\n",
       "      flex-wrap:wrap;\n",
       "      gap: 12px;\n",
       "    }\n",
       "\n",
       "    .colab-df-convert {\n",
       "      background-color: #E8F0FE;\n",
       "      border: none;\n",
       "      border-radius: 50%;\n",
       "      cursor: pointer;\n",
       "      display: none;\n",
       "      fill: #1967D2;\n",
       "      height: 32px;\n",
       "      padding: 0 0 0 0;\n",
       "      width: 32px;\n",
       "    }\n",
       "\n",
       "    .colab-df-convert:hover {\n",
       "      background-color: #E2EBFA;\n",
       "      box-shadow: 0px 1px 2px rgba(60, 64, 67, 0.3), 0px 1px 3px 1px rgba(60, 64, 67, 0.15);\n",
       "      fill: #174EA6;\n",
       "    }\n",
       "\n",
       "    [theme=dark] .colab-df-convert {\n",
       "      background-color: #3B4455;\n",
       "      fill: #D2E3FC;\n",
       "    }\n",
       "\n",
       "    [theme=dark] .colab-df-convert:hover {\n",
       "      background-color: #434B5C;\n",
       "      box-shadow: 0px 1px 3px 1px rgba(0, 0, 0, 0.15);\n",
       "      filter: drop-shadow(0px 1px 2px rgba(0, 0, 0, 0.3));\n",
       "      fill: #FFFFFF;\n",
       "    }\n",
       "  </style>\n",
       "\n",
       "      <script>\n",
       "        const buttonEl =\n",
       "          document.querySelector('#df-04f8e120-5268-458b-9d81-43cad1f8ef11 button.colab-df-convert');\n",
       "        buttonEl.style.display =\n",
       "          google.colab.kernel.accessAllowed ? 'block' : 'none';\n",
       "\n",
       "        async function convertToInteractive(key) {\n",
       "          const element = document.querySelector('#df-04f8e120-5268-458b-9d81-43cad1f8ef11');\n",
       "          const dataTable =\n",
       "            await google.colab.kernel.invokeFunction('convertToInteractive',\n",
       "                                                     [key], {});\n",
       "          if (!dataTable) return;\n",
       "\n",
       "          const docLinkHtml = 'Like what you see? Visit the ' +\n",
       "            '<a target=\"_blank\" href=https://colab.research.google.com/notebooks/data_table.ipynb>data table notebook</a>'\n",
       "            + ' to learn more about interactive tables.';\n",
       "          element.innerHTML = '';\n",
       "          dataTable['output_type'] = 'display_data';\n",
       "          await google.colab.output.renderOutput(dataTable, element);\n",
       "          const docLink = document.createElement('div');\n",
       "          docLink.innerHTML = docLinkHtml;\n",
       "          element.appendChild(docLink);\n",
       "        }\n",
       "      </script>\n",
       "    </div>\n",
       "  </div>\n",
       "  "
      ],
      "text/plain": [
       "  Item_Identifier  Item_Weight Item_Fat_Content  Item_Visibility    Item_Type  \\\n",
       "0           FDA15         9.30          Low Fat             0.02        Dairy   \n",
       "1           DRC01         5.92          Regular             0.02  Soft Drinks   \n",
       "2           FDN15        17.50          Low Fat             0.02         Meat   \n",
       "\n",
       "   Item_MRP Outlet_Identifier  Outlet_Establishment_Year Outlet_Size  \\\n",
       "0    249.81            OUT049                       1999      Medium   \n",
       "1     48.27            OUT018                       2009      Medium   \n",
       "2    141.62            OUT049                       1999      Medium   \n",
       "\n",
       "  Outlet_Location_Type        Outlet_Type  Item_Outlet_Sales  \n",
       "0               Tier 1  Supermarket Type1           3,735.14  \n",
       "1               Tier 3  Supermarket Type2             443.42  \n",
       "2               Tier 1  Supermarket Type1           2,097.27  "
      ]
     },
     "execution_count": 4,
     "metadata": {},
     "output_type": "execute_result"
    }
   ],
   "source": [
    "filename = '/content/drive/MyDrive/Coding Dojo/Stack 2 - Machine Learning/06 Wk 6 Regression Models/Data Files/sales_predictions (2).csv'\n",
    "df = pd.read_csv(filename)\n",
    "#displaying first 3 rows\n",
    "df.head(3)"
   ]
  },
  {
   "cell_type": "markdown",
   "metadata": {
    "id": "THz25dj7i1P2"
   },
   "source": [
    "##Inspecting Data"
   ]
  },
  {
   "cell_type": "code",
   "execution_count": 5,
   "metadata": {
    "colab": {
     "base_uri": "https://localhost:8080/"
    },
    "executionInfo": {
     "elapsed": 182,
     "status": "ok",
     "timestamp": 1685078456045,
     "user": {
      "displayName": "Daisy Rivera",
      "userId": "10557679735270633011"
     },
     "user_tz": 300
    },
    "id": "_VzkWap6jIEM",
    "outputId": "09332d04-7d9e-4949-cbae-5a8cae8c45a1"
   },
   "outputs": [
    {
     "name": "stdout",
     "output_type": "stream",
     "text": [
      "<class 'pandas.core.frame.DataFrame'>\n",
      "RangeIndex: 8523 entries, 0 to 8522\n",
      "Data columns (total 12 columns):\n",
      " #   Column                     Non-Null Count  Dtype  \n",
      "---  ------                     --------------  -----  \n",
      " 0   Item_Identifier            8523 non-null   object \n",
      " 1   Item_Weight                7060 non-null   float64\n",
      " 2   Item_Fat_Content           8523 non-null   object \n",
      " 3   Item_Visibility            8523 non-null   float64\n",
      " 4   Item_Type                  8523 non-null   object \n",
      " 5   Item_MRP                   8523 non-null   float64\n",
      " 6   Outlet_Identifier          8523 non-null   object \n",
      " 7   Outlet_Establishment_Year  8523 non-null   int64  \n",
      " 8   Outlet_Size                6113 non-null   object \n",
      " 9   Outlet_Location_Type       8523 non-null   object \n",
      " 10  Outlet_Type                8523 non-null   object \n",
      " 11  Item_Outlet_Sales          8523 non-null   float64\n",
      "dtypes: float64(4), int64(1), object(7)\n",
      "memory usage: 799.2+ KB\n",
      "None\n",
      "------------------------------\n",
      "There are 0 duplicate rows.\n",
      "------------------------------\n",
      "There are 3873 missing values.\n"
     ]
    }
   ],
   "source": [
    "#verifying how many rows/columns, datatypes, missing items and duplicate rows\n",
    "print(df.info())\n",
    "print(('-'*30))\n",
    "print(f'There are {df.duplicated().sum()} duplicate rows.')\n",
    "print(('-'*30))\n",
    "print(f'There are {df.isna().sum().sum()} missing values.')"
   ]
  },
  {
   "cell_type": "markdown",
   "metadata": {
    "id": "Ire78_pGn3r6"
   },
   "source": [
    "###Checking for any outliers or odd values in the data"
   ]
  },
  {
   "cell_type": "code",
   "execution_count": 6,
   "metadata": {
    "colab": {
     "base_uri": "https://localhost:8080/",
     "height": 300
    },
    "executionInfo": {
     "elapsed": 145,
     "status": "ok",
     "timestamp": 1685078456188,
     "user": {
      "displayName": "Daisy Rivera",
      "userId": "10557679735270633011"
     },
     "user_tz": 300
    },
    "id": "FU0u3v4tmccj",
    "outputId": "21fdb7d4-cfa2-4e5c-ec4e-60a0075ae049"
   },
   "outputs": [
    {
     "data": {
      "text/html": [
       "\n",
       "  <div id=\"df-4f6c4503-5560-47e8-9fdc-bf2dfe0eb234\">\n",
       "    <div class=\"colab-df-container\">\n",
       "      <div>\n",
       "<style scoped>\n",
       "    .dataframe tbody tr th:only-of-type {\n",
       "        vertical-align: middle;\n",
       "    }\n",
       "\n",
       "    .dataframe tbody tr th {\n",
       "        vertical-align: top;\n",
       "    }\n",
       "\n",
       "    .dataframe thead th {\n",
       "        text-align: right;\n",
       "    }\n",
       "</style>\n",
       "<table border=\"1\" class=\"dataframe\">\n",
       "  <thead>\n",
       "    <tr style=\"text-align: right;\">\n",
       "      <th></th>\n",
       "      <th>Item_Weight</th>\n",
       "      <th>Item_Visibility</th>\n",
       "      <th>Item_MRP</th>\n",
       "      <th>Outlet_Establishment_Year</th>\n",
       "      <th>Item_Outlet_Sales</th>\n",
       "    </tr>\n",
       "  </thead>\n",
       "  <tbody>\n",
       "    <tr>\n",
       "      <th>count</th>\n",
       "      <td>7,060.00</td>\n",
       "      <td>8,523.00</td>\n",
       "      <td>8,523.00</td>\n",
       "      <td>8,523.00</td>\n",
       "      <td>8,523.00</td>\n",
       "    </tr>\n",
       "    <tr>\n",
       "      <th>mean</th>\n",
       "      <td>12.86</td>\n",
       "      <td>0.07</td>\n",
       "      <td>140.99</td>\n",
       "      <td>1,997.83</td>\n",
       "      <td>2,181.29</td>\n",
       "    </tr>\n",
       "    <tr>\n",
       "      <th>std</th>\n",
       "      <td>4.64</td>\n",
       "      <td>0.05</td>\n",
       "      <td>62.28</td>\n",
       "      <td>8.37</td>\n",
       "      <td>1,706.50</td>\n",
       "    </tr>\n",
       "    <tr>\n",
       "      <th>min</th>\n",
       "      <td>4.55</td>\n",
       "      <td>0.00</td>\n",
       "      <td>31.29</td>\n",
       "      <td>1,985.00</td>\n",
       "      <td>33.29</td>\n",
       "    </tr>\n",
       "    <tr>\n",
       "      <th>25%</th>\n",
       "      <td>8.77</td>\n",
       "      <td>0.03</td>\n",
       "      <td>93.83</td>\n",
       "      <td>1,987.00</td>\n",
       "      <td>834.25</td>\n",
       "    </tr>\n",
       "    <tr>\n",
       "      <th>50%</th>\n",
       "      <td>12.60</td>\n",
       "      <td>0.05</td>\n",
       "      <td>143.01</td>\n",
       "      <td>1,999.00</td>\n",
       "      <td>1,794.33</td>\n",
       "    </tr>\n",
       "    <tr>\n",
       "      <th>75%</th>\n",
       "      <td>16.85</td>\n",
       "      <td>0.09</td>\n",
       "      <td>185.64</td>\n",
       "      <td>2,004.00</td>\n",
       "      <td>3,101.30</td>\n",
       "    </tr>\n",
       "    <tr>\n",
       "      <th>max</th>\n",
       "      <td>21.35</td>\n",
       "      <td>0.33</td>\n",
       "      <td>266.89</td>\n",
       "      <td>2,009.00</td>\n",
       "      <td>13,086.96</td>\n",
       "    </tr>\n",
       "  </tbody>\n",
       "</table>\n",
       "</div>\n",
       "      <button class=\"colab-df-convert\" onclick=\"convertToInteractive('df-4f6c4503-5560-47e8-9fdc-bf2dfe0eb234')\"\n",
       "              title=\"Convert this dataframe to an interactive table.\"\n",
       "              style=\"display:none;\">\n",
       "        \n",
       "  <svg xmlns=\"http://www.w3.org/2000/svg\" height=\"24px\"viewBox=\"0 0 24 24\"\n",
       "       width=\"24px\">\n",
       "    <path d=\"M0 0h24v24H0V0z\" fill=\"none\"/>\n",
       "    <path d=\"M18.56 5.44l.94 2.06.94-2.06 2.06-.94-2.06-.94-.94-2.06-.94 2.06-2.06.94zm-11 1L8.5 8.5l.94-2.06 2.06-.94-2.06-.94L8.5 2.5l-.94 2.06-2.06.94zm10 10l.94 2.06.94-2.06 2.06-.94-2.06-.94-.94-2.06-.94 2.06-2.06.94z\"/><path d=\"M17.41 7.96l-1.37-1.37c-.4-.4-.92-.59-1.43-.59-.52 0-1.04.2-1.43.59L10.3 9.45l-7.72 7.72c-.78.78-.78 2.05 0 2.83L4 21.41c.39.39.9.59 1.41.59.51 0 1.02-.2 1.41-.59l7.78-7.78 2.81-2.81c.8-.78.8-2.07 0-2.86zM5.41 20L4 18.59l7.72-7.72 1.47 1.35L5.41 20z\"/>\n",
       "  </svg>\n",
       "      </button>\n",
       "      \n",
       "  <style>\n",
       "    .colab-df-container {\n",
       "      display:flex;\n",
       "      flex-wrap:wrap;\n",
       "      gap: 12px;\n",
       "    }\n",
       "\n",
       "    .colab-df-convert {\n",
       "      background-color: #E8F0FE;\n",
       "      border: none;\n",
       "      border-radius: 50%;\n",
       "      cursor: pointer;\n",
       "      display: none;\n",
       "      fill: #1967D2;\n",
       "      height: 32px;\n",
       "      padding: 0 0 0 0;\n",
       "      width: 32px;\n",
       "    }\n",
       "\n",
       "    .colab-df-convert:hover {\n",
       "      background-color: #E2EBFA;\n",
       "      box-shadow: 0px 1px 2px rgba(60, 64, 67, 0.3), 0px 1px 3px 1px rgba(60, 64, 67, 0.15);\n",
       "      fill: #174EA6;\n",
       "    }\n",
       "\n",
       "    [theme=dark] .colab-df-convert {\n",
       "      background-color: #3B4455;\n",
       "      fill: #D2E3FC;\n",
       "    }\n",
       "\n",
       "    [theme=dark] .colab-df-convert:hover {\n",
       "      background-color: #434B5C;\n",
       "      box-shadow: 0px 1px 3px 1px rgba(0, 0, 0, 0.15);\n",
       "      filter: drop-shadow(0px 1px 2px rgba(0, 0, 0, 0.3));\n",
       "      fill: #FFFFFF;\n",
       "    }\n",
       "  </style>\n",
       "\n",
       "      <script>\n",
       "        const buttonEl =\n",
       "          document.querySelector('#df-4f6c4503-5560-47e8-9fdc-bf2dfe0eb234 button.colab-df-convert');\n",
       "        buttonEl.style.display =\n",
       "          google.colab.kernel.accessAllowed ? 'block' : 'none';\n",
       "\n",
       "        async function convertToInteractive(key) {\n",
       "          const element = document.querySelector('#df-4f6c4503-5560-47e8-9fdc-bf2dfe0eb234');\n",
       "          const dataTable =\n",
       "            await google.colab.kernel.invokeFunction('convertToInteractive',\n",
       "                                                     [key], {});\n",
       "          if (!dataTable) return;\n",
       "\n",
       "          const docLinkHtml = 'Like what you see? Visit the ' +\n",
       "            '<a target=\"_blank\" href=https://colab.research.google.com/notebooks/data_table.ipynb>data table notebook</a>'\n",
       "            + ' to learn more about interactive tables.';\n",
       "          element.innerHTML = '';\n",
       "          dataTable['output_type'] = 'display_data';\n",
       "          await google.colab.output.renderOutput(dataTable, element);\n",
       "          const docLink = document.createElement('div');\n",
       "          docLink.innerHTML = docLinkHtml;\n",
       "          element.appendChild(docLink);\n",
       "        }\n",
       "      </script>\n",
       "    </div>\n",
       "  </div>\n",
       "  "
      ],
      "text/plain": [
       "       Item_Weight  Item_Visibility  Item_MRP  Outlet_Establishment_Year  \\\n",
       "count     7,060.00         8,523.00  8,523.00                   8,523.00   \n",
       "mean         12.86             0.07    140.99                   1,997.83   \n",
       "std           4.64             0.05     62.28                       8.37   \n",
       "min           4.55             0.00     31.29                   1,985.00   \n",
       "25%           8.77             0.03     93.83                   1,987.00   \n",
       "50%          12.60             0.05    143.01                   1,999.00   \n",
       "75%          16.85             0.09    185.64                   2,004.00   \n",
       "max          21.35             0.33    266.89                   2,009.00   \n",
       "\n",
       "       Item_Outlet_Sales  \n",
       "count           8,523.00  \n",
       "mean            2,181.29  \n",
       "std             1,706.50  \n",
       "min                33.29  \n",
       "25%               834.25  \n",
       "50%             1,794.33  \n",
       "75%             3,101.30  \n",
       "max            13,086.96  "
      ]
     },
     "execution_count": 6,
     "metadata": {},
     "output_type": "execute_result"
    }
   ],
   "source": [
    "#Summary statistics for the integer values\n",
    "df.describe().round(4)"
   ]
  },
  {
   "cell_type": "code",
   "execution_count": 7,
   "metadata": {
    "colab": {
     "base_uri": "https://localhost:8080/",
     "height": 175
    },
    "executionInfo": {
     "elapsed": 550,
     "status": "ok",
     "timestamp": 1685078456735,
     "user": {
      "displayName": "Daisy Rivera",
      "userId": "10557679735270633011"
     },
     "user_tz": 300
    },
    "id": "RsDkbC01mfr7",
    "outputId": "2f4133de-6caa-40ca-9626-5083ca4e4fae"
   },
   "outputs": [
    {
     "data": {
      "text/html": [
       "\n",
       "  <div id=\"df-835b70fa-5908-492b-a5c6-69228951e54e\">\n",
       "    <div class=\"colab-df-container\">\n",
       "      <div>\n",
       "<style scoped>\n",
       "    .dataframe tbody tr th:only-of-type {\n",
       "        vertical-align: middle;\n",
       "    }\n",
       "\n",
       "    .dataframe tbody tr th {\n",
       "        vertical-align: top;\n",
       "    }\n",
       "\n",
       "    .dataframe thead th {\n",
       "        text-align: right;\n",
       "    }\n",
       "</style>\n",
       "<table border=\"1\" class=\"dataframe\">\n",
       "  <thead>\n",
       "    <tr style=\"text-align: right;\">\n",
       "      <th></th>\n",
       "      <th>Item_Identifier</th>\n",
       "      <th>Item_Fat_Content</th>\n",
       "      <th>Item_Type</th>\n",
       "      <th>Outlet_Identifier</th>\n",
       "      <th>Outlet_Size</th>\n",
       "      <th>Outlet_Location_Type</th>\n",
       "      <th>Outlet_Type</th>\n",
       "    </tr>\n",
       "  </thead>\n",
       "  <tbody>\n",
       "    <tr>\n",
       "      <th>count</th>\n",
       "      <td>8523</td>\n",
       "      <td>8523</td>\n",
       "      <td>8523</td>\n",
       "      <td>8523</td>\n",
       "      <td>6113</td>\n",
       "      <td>8523</td>\n",
       "      <td>8523</td>\n",
       "    </tr>\n",
       "    <tr>\n",
       "      <th>unique</th>\n",
       "      <td>1559</td>\n",
       "      <td>5</td>\n",
       "      <td>16</td>\n",
       "      <td>10</td>\n",
       "      <td>3</td>\n",
       "      <td>3</td>\n",
       "      <td>4</td>\n",
       "    </tr>\n",
       "    <tr>\n",
       "      <th>top</th>\n",
       "      <td>FDW13</td>\n",
       "      <td>Low Fat</td>\n",
       "      <td>Fruits and Vegetables</td>\n",
       "      <td>OUT027</td>\n",
       "      <td>Medium</td>\n",
       "      <td>Tier 3</td>\n",
       "      <td>Supermarket Type1</td>\n",
       "    </tr>\n",
       "    <tr>\n",
       "      <th>freq</th>\n",
       "      <td>10</td>\n",
       "      <td>5089</td>\n",
       "      <td>1232</td>\n",
       "      <td>935</td>\n",
       "      <td>2793</td>\n",
       "      <td>3350</td>\n",
       "      <td>5577</td>\n",
       "    </tr>\n",
       "  </tbody>\n",
       "</table>\n",
       "</div>\n",
       "      <button class=\"colab-df-convert\" onclick=\"convertToInteractive('df-835b70fa-5908-492b-a5c6-69228951e54e')\"\n",
       "              title=\"Convert this dataframe to an interactive table.\"\n",
       "              style=\"display:none;\">\n",
       "        \n",
       "  <svg xmlns=\"http://www.w3.org/2000/svg\" height=\"24px\"viewBox=\"0 0 24 24\"\n",
       "       width=\"24px\">\n",
       "    <path d=\"M0 0h24v24H0V0z\" fill=\"none\"/>\n",
       "    <path d=\"M18.56 5.44l.94 2.06.94-2.06 2.06-.94-2.06-.94-.94-2.06-.94 2.06-2.06.94zm-11 1L8.5 8.5l.94-2.06 2.06-.94-2.06-.94L8.5 2.5l-.94 2.06-2.06.94zm10 10l.94 2.06.94-2.06 2.06-.94-2.06-.94-.94-2.06-.94 2.06-2.06.94z\"/><path d=\"M17.41 7.96l-1.37-1.37c-.4-.4-.92-.59-1.43-.59-.52 0-1.04.2-1.43.59L10.3 9.45l-7.72 7.72c-.78.78-.78 2.05 0 2.83L4 21.41c.39.39.9.59 1.41.59.51 0 1.02-.2 1.41-.59l7.78-7.78 2.81-2.81c.8-.78.8-2.07 0-2.86zM5.41 20L4 18.59l7.72-7.72 1.47 1.35L5.41 20z\"/>\n",
       "  </svg>\n",
       "      </button>\n",
       "      \n",
       "  <style>\n",
       "    .colab-df-container {\n",
       "      display:flex;\n",
       "      flex-wrap:wrap;\n",
       "      gap: 12px;\n",
       "    }\n",
       "\n",
       "    .colab-df-convert {\n",
       "      background-color: #E8F0FE;\n",
       "      border: none;\n",
       "      border-radius: 50%;\n",
       "      cursor: pointer;\n",
       "      display: none;\n",
       "      fill: #1967D2;\n",
       "      height: 32px;\n",
       "      padding: 0 0 0 0;\n",
       "      width: 32px;\n",
       "    }\n",
       "\n",
       "    .colab-df-convert:hover {\n",
       "      background-color: #E2EBFA;\n",
       "      box-shadow: 0px 1px 2px rgba(60, 64, 67, 0.3), 0px 1px 3px 1px rgba(60, 64, 67, 0.15);\n",
       "      fill: #174EA6;\n",
       "    }\n",
       "\n",
       "    [theme=dark] .colab-df-convert {\n",
       "      background-color: #3B4455;\n",
       "      fill: #D2E3FC;\n",
       "    }\n",
       "\n",
       "    [theme=dark] .colab-df-convert:hover {\n",
       "      background-color: #434B5C;\n",
       "      box-shadow: 0px 1px 3px 1px rgba(0, 0, 0, 0.15);\n",
       "      filter: drop-shadow(0px 1px 2px rgba(0, 0, 0, 0.3));\n",
       "      fill: #FFFFFF;\n",
       "    }\n",
       "  </style>\n",
       "\n",
       "      <script>\n",
       "        const buttonEl =\n",
       "          document.querySelector('#df-835b70fa-5908-492b-a5c6-69228951e54e button.colab-df-convert');\n",
       "        buttonEl.style.display =\n",
       "          google.colab.kernel.accessAllowed ? 'block' : 'none';\n",
       "\n",
       "        async function convertToInteractive(key) {\n",
       "          const element = document.querySelector('#df-835b70fa-5908-492b-a5c6-69228951e54e');\n",
       "          const dataTable =\n",
       "            await google.colab.kernel.invokeFunction('convertToInteractive',\n",
       "                                                     [key], {});\n",
       "          if (!dataTable) return;\n",
       "\n",
       "          const docLinkHtml = 'Like what you see? Visit the ' +\n",
       "            '<a target=\"_blank\" href=https://colab.research.google.com/notebooks/data_table.ipynb>data table notebook</a>'\n",
       "            + ' to learn more about interactive tables.';\n",
       "          element.innerHTML = '';\n",
       "          dataTable['output_type'] = 'display_data';\n",
       "          await google.colab.output.renderOutput(dataTable, element);\n",
       "          const docLink = document.createElement('div');\n",
       "          docLink.innerHTML = docLinkHtml;\n",
       "          element.appendChild(docLink);\n",
       "        }\n",
       "      </script>\n",
       "    </div>\n",
       "  </div>\n",
       "  "
      ],
      "text/plain": [
       "       Item_Identifier Item_Fat_Content              Item_Type  \\\n",
       "count             8523             8523                   8523   \n",
       "unique            1559                5                     16   \n",
       "top              FDW13          Low Fat  Fruits and Vegetables   \n",
       "freq                10             5089                   1232   \n",
       "\n",
       "       Outlet_Identifier Outlet_Size Outlet_Location_Type        Outlet_Type  \n",
       "count               8523        6113                 8523               8523  \n",
       "unique                10           3                    3                  4  \n",
       "top               OUT027      Medium               Tier 3  Supermarket Type1  \n",
       "freq                 935        2793                 3350               5577  "
      ]
     },
     "execution_count": 7,
     "metadata": {},
     "output_type": "execute_result"
    }
   ],
   "source": [
    "#Summary statistics for the object values\n",
    "df.describe(include=object)"
   ]
  },
  {
   "cell_type": "markdown",
   "metadata": {
    "id": "Noi-YqQVj-VG"
   },
   "source": [
    "###Checking for inconsistencies in categorical columns and their counts"
   ]
  },
  {
   "cell_type": "code",
   "execution_count": 8,
   "metadata": {
    "executionInfo": {
     "elapsed": 11,
     "status": "ok",
     "timestamp": 1685078456736,
     "user": {
      "displayName": "Daisy Rivera",
      "userId": "10557679735270633011"
     },
     "user_tz": 300
    },
    "id": "Cda2inkwlqaG"
   },
   "outputs": [],
   "source": [
    "#creating a list of object columns\n",
    "object_list = list(df.select_dtypes(include='object'))"
   ]
  },
  {
   "cell_type": "code",
   "execution_count": 9,
   "metadata": {
    "colab": {
     "base_uri": "https://localhost:8080/"
    },
    "executionInfo": {
     "elapsed": 10,
     "status": "ok",
     "timestamp": 1685078456736,
     "user": {
      "displayName": "Daisy Rivera",
      "userId": "10557679735270633011"
     },
     "user_tz": 300
    },
    "id": "XVQPu9oEmwoh",
    "outputId": "c0a6edf5-2c69-4f9c-b299-87504f3d2c94"
   },
   "outputs": [
    {
     "name": "stdout",
     "output_type": "stream",
     "text": [
      "Column Name: Item_Identifier\n",
      "FDW13    10\n",
      "FDG33    10\n",
      "NCY18     9\n",
      "FDD38     9\n",
      "DRE49     9\n",
      "         ..\n",
      "FDY43     1\n",
      "FDQ60     1\n",
      "FDO33     1\n",
      "DRF48     1\n",
      "FDC23     1\n",
      "Name: Item_Identifier, Length: 1559, dtype: int64\n",
      "\n",
      "\n",
      "Column Name: Item_Fat_Content\n",
      "Low Fat    5089\n",
      "Regular    2889\n",
      "LF          316\n",
      "reg         117\n",
      "low fat     112\n",
      "Name: Item_Fat_Content, dtype: int64\n",
      "\n",
      "\n",
      "Column Name: Item_Type\n",
      "Fruits and Vegetables    1232\n",
      "Snack Foods              1200\n",
      "Household                 910\n",
      "Frozen Foods              856\n",
      "Dairy                     682\n",
      "Canned                    649\n",
      "Baking Goods              648\n",
      "Health and Hygiene        520\n",
      "Soft Drinks               445\n",
      "Meat                      425\n",
      "Breads                    251\n",
      "Hard Drinks               214\n",
      "Others                    169\n",
      "Starchy Foods             148\n",
      "Breakfast                 110\n",
      "Seafood                    64\n",
      "Name: Item_Type, dtype: int64\n",
      "\n",
      "\n",
      "Column Name: Outlet_Identifier\n",
      "OUT027    935\n",
      "OUT013    932\n",
      "OUT049    930\n",
      "OUT046    930\n",
      "OUT035    930\n",
      "OUT045    929\n",
      "OUT018    928\n",
      "OUT017    926\n",
      "OUT010    555\n",
      "OUT019    528\n",
      "Name: Outlet_Identifier, dtype: int64\n",
      "\n",
      "\n",
      "Column Name: Outlet_Size\n",
      "Medium    2793\n",
      "Small     2388\n",
      "High       932\n",
      "Name: Outlet_Size, dtype: int64\n",
      "\n",
      "\n",
      "Column Name: Outlet_Location_Type\n",
      "Tier 3    3350\n",
      "Tier 2    2785\n",
      "Tier 1    2388\n",
      "Name: Outlet_Location_Type, dtype: int64\n",
      "\n",
      "\n",
      "Column Name: Outlet_Type\n",
      "Supermarket Type1    5577\n",
      "Grocery Store        1083\n",
      "Supermarket Type3     935\n",
      "Supermarket Type2     928\n",
      "Name: Outlet_Type, dtype: int64\n",
      "\n",
      "\n"
     ]
    }
   ],
   "source": [
    "#looping thru object columns to verify inconsistencies and how many categories in each\n",
    "for each in object_list:\n",
    "  print(f'Column Name: {each}')\n",
    "  print(df[each].value_counts())\n",
    "  print('\\n')"
   ]
  },
  {
   "cell_type": "code",
   "execution_count": 10,
   "metadata": {
    "colab": {
     "base_uri": "https://localhost:8080/"
    },
    "executionInfo": {
     "elapsed": 315,
     "status": "ok",
     "timestamp": 1685078457046,
     "user": {
      "displayName": "Daisy Rivera",
      "userId": "10557679735270633011"
     },
     "user_tz": 300
    },
    "id": "Rir0ku85nFJo",
    "outputId": "1e50c51d-5da6-4526-cbb7-8e7e9e9b923e"
   },
   "outputs": [
    {
     "data": {
      "text/plain": [
       "Low Fat    5517\n",
       "Regular    3006\n",
       "Name: Item_Fat_Content, dtype: int64"
      ]
     },
     "execution_count": 10,
     "metadata": {},
     "output_type": "execute_result"
    }
   ],
   "source": [
    "#Addressing inconsistencies in 'Item_Fat_Content' columnn\n",
    "df.replace({'LF': 'Low Fat', 'reg': 'Regular', 'low fat': 'Low Fat'}, inplace = True)\n",
    "#verifying changes were made\n",
    "df['Item_Fat_Content'].value_counts()"
   ]
  },
  {
   "cell_type": "markdown",
   "metadata": {
    "id": "XazUt4FBoKlH"
   },
   "source": [
    "###Types of Values\n",
    "\n",
    "Numeric Values\n",
    "- Item_Visibility\n",
    "- Item_Weight (Will be addressing missing values using Mean weight value)\n",
    "- Item_MRP\n",
    "- Outlet_Establishment_Year\n",
    "\n",
    "Ordinal Values\n",
    "- Outlet_Location_Type (Tier1,Tier2,Tier3)\n",
    "\n",
    "Nominal Values\n",
    "- Item_Identifier (Will be dropping column due to high cardinality)                           \n",
    "- Item_Fat_Content\n",
    "- Item_Type\n",
    "- Outlet_Identifier\n",
    "- Outlet_Size (This is Small, Medium and High but I will be filling missing items with a new Unknown category)\n",
    "- Outlet_Type "
   ]
  },
  {
   "cell_type": "markdown",
   "metadata": {
    "id": "zmU6nLaeoRUr"
   },
   "source": [
    "##Exploratory Data Analysis"
   ]
  },
  {
   "cell_type": "markdown",
   "metadata": {
    "id": "rU7Q9palouI5"
   },
   "source": [
    "###Correlation Heat Map"
   ]
  },
  {
   "cell_type": "code",
   "execution_count": 11,
   "metadata": {
    "colab": {
     "base_uri": "https://localhost:8080/",
     "height": 755
    },
    "executionInfo": {
     "elapsed": 591,
     "status": "ok",
     "timestamp": 1685078457632,
     "user": {
      "displayName": "Daisy Rivera",
      "userId": "10557679735270633011"
     },
     "user_tz": 300
    },
    "id": "ycVH8eNcoz63",
    "outputId": "4f05632d-a165-4b4d-cd0a-1e62c290d9b0"
   },
   "outputs": [
    {
     "name": "stderr",
     "output_type": "stream",
     "text": [
      "<ipython-input-11-027b51488610>:4: FutureWarning: The default value of numeric_only in DataFrame.corr is deprecated. In a future version, it will default to False. Select only valid columns or specify the value of numeric_only to silence this warning.\n",
      "  sns.heatmap(df.corr(),annot=True,cmap='Blues');\n"
     ]
    },
    {
     "data": {
      "image/png": "[encoded data removed]",
      "text/plain": [
       "<Figure size 1145x600 with 2 Axes>"
      ]
     },
     "metadata": {},
     "output_type": "display_data"
    }
   ],
   "source": [
    "#creating a heat map\n",
    "plt.style.use('ggplot')\n",
    "plt.figure(figsize=(11.45,6))\n",
    "sns.heatmap(df.corr(),annot=True,cmap='Blues');"
   ]
  },
  {
   "cell_type": "markdown",
   "metadata": {
    "id": "IFPtQjwGo3Ig"
   },
   "source": [
    ">From the Correlation Heatmap above the only decent correlation I see is between the Item_Outlet_Sales and the Item_MRP (0.57). Besides that, there is pretty much no correlation between any of the other columns."
   ]
  },
  {
   "cell_type": "markdown",
   "metadata": {
    "id": "Ud0yKReIpp-_"
   },
   "source": [
    "###Creating a graph to show Item Outlet Sales by Item Type"
   ]
  },
  {
   "cell_type": "code",
   "execution_count": 12,
   "metadata": {
    "colab": {
     "base_uri": "https://localhost:8080/"
    },
    "executionInfo": {
     "elapsed": 5,
     "status": "ok",
     "timestamp": 1685078457632,
     "user": {
      "displayName": "Daisy Rivera",
      "userId": "10557679735270633011"
     },
     "user_tz": 300
    },
    "id": "5rTS8myypzZy",
    "outputId": "b0bd0392-3ab6-4dbd-b5ea-043ff1ad876e"
   },
   "outputs": [
    {
     "data": {
      "text/plain": [
       "Item_Type\n",
       "Others                  1,926.14\n",
       "Baking Goods            1,952.97\n",
       "Soft Drinks             2,006.51\n",
       "Health and Hygiene      2,010.00\n",
       "Breakfast               2,111.81\n",
       "Frozen Foods            2,132.87\n",
       "Hard Drinks             2,139.22\n",
       "Meat                    2,158.98\n",
       "Breads                  2,204.13\n",
       "Canned                  2,225.19\n",
       "Dairy                   2,232.54\n",
       "Household               2,258.78\n",
       "Snack Foods             2,277.32\n",
       "Fruits and Vegetables   2,289.01\n",
       "Seafood                 2,326.07\n",
       "Starchy Foods           2,374.33\n",
       "Name: Item_Outlet_Sales, dtype: float64"
      ]
     },
     "execution_count": 12,
     "metadata": {},
     "output_type": "execute_result"
    }
   ],
   "source": [
    "#filtering data\n",
    "SalesbyItemType = df.groupby('Item_Type')['Item_Outlet_Sales'].mean().round(2)\n",
    "#sorting data\n",
    "SortedSalesbyItemType = SalesbyItemType.sort_values()\n",
    "SortedSalesbyItemType"
   ]
  },
  {
   "cell_type": "code",
   "execution_count": 13,
   "metadata": {
    "colab": {
     "base_uri": "https://localhost:8080/",
     "height": 1000
    },
    "executionInfo": {
     "elapsed": 1324,
     "status": "ok",
     "timestamp": 1685078458954,
     "user": {
      "displayName": "Daisy Rivera",
      "userId": "10557679735270633011"
     },
     "user_tz": 300
    },
    "id": "gEAyYUhcqQl6",
    "outputId": "753ccb0e-b46f-47fe-c101-e00e06d05472"
   },
   "outputs": [
    {
     "data": {
      "image/png": "[encoded data removed]",
      "text/plain": [
       "<Figure size 1500x1000 with 1 Axes>"
      ]
     },
     "metadata": {},
     "output_type": "display_data"
    }
   ],
   "source": [
    "#plot graph\n",
    "plt.figure(figsize=(15,10))\n",
    "plt.bar(SortedSalesbyItemType.index, SortedSalesbyItemType.values)\n",
    "plt.ylabel('Item Outlet Sales')\n",
    "plt.xlabel('Item Type')\n",
    "plt.title('Item Outlet Sales by Type')\n",
    "plt.xticks(rotation=75);"
   ]
  },
  {
   "cell_type": "markdown",
   "metadata": {
    "id": "LiE2k5WCqXI2"
   },
   "source": [
    ">Based on the graph above we know that the Starchy Food Items have the most Outlet Sales and Others has the least sales. There isn't an item with overwhelmingly more sales in comparison to other items. Sales are pretty similar across the board."
   ]
  },
  {
   "cell_type": "markdown",
   "metadata": {
    "id": "f2r1403d5-JD"
   },
   "source": [
    "###Creating a graph to show Item Outlet Sales by Outlet Identifier"
   ]
  },
  {
   "cell_type": "code",
   "execution_count": 14,
   "metadata": {
    "colab": {
     "base_uri": "https://localhost:8080/"
    },
    "executionInfo": {
     "elapsed": 8,
     "status": "ok",
     "timestamp": 1685078458955,
     "user": {
      "displayName": "Daisy Rivera",
      "userId": "10557679735270633011"
     },
     "user_tz": 300
    },
    "id": "aQ9Tat8Z5SWh",
    "outputId": "5eaaa33b-e467-45d5-e453-8dc7cbd818e9"
   },
   "outputs": [
    {
     "data": {
      "text/plain": [
       "Outlet_Identifier\n",
       "OUT010     339.35\n",
       "OUT019     340.33\n",
       "OUT018   1,995.50\n",
       "OUT045   2,192.38\n",
       "OUT046   2,277.84\n",
       "OUT013   2,299.00\n",
       "OUT017   2,340.68\n",
       "OUT049   2,348.35\n",
       "OUT035   2,438.84\n",
       "OUT027   3,694.04\n",
       "Name: Item_Outlet_Sales, dtype: float64"
      ]
     },
     "execution_count": 14,
     "metadata": {},
     "output_type": "execute_result"
    }
   ],
   "source": [
    "#filtering data\n",
    "SalesbyOutlet = df.groupby('Outlet_Identifier')['Item_Outlet_Sales'].mean().round(2)\n",
    "#sorting data\n",
    "SortedSalesbyOutlet = SalesbyOutlet.sort_values()\n",
    "SortedSalesbyOutlet"
   ]
  },
  {
   "cell_type": "code",
   "execution_count": 15,
   "metadata": {
    "colab": {
     "base_uri": "https://localhost:8080/",
     "height": 921
    },
    "executionInfo": {
     "elapsed": 775,
     "status": "ok",
     "timestamp": 1685078459726,
     "user": {
      "displayName": "Daisy Rivera",
      "userId": "10557679735270633011"
     },
     "user_tz": 300
    },
    "id": "k6maxA0s6EoD",
    "outputId": "1b083f58-b81e-4941-9f8b-d47bf82b7eb4"
   },
   "outputs": [
    {
     "data": {
      "image/png": "[encoded data removed]",
      "text/plain": [
       "<Figure size 1500x1000 with 1 Axes>"
      ]
     },
     "metadata": {},
     "output_type": "display_data"
    }
   ],
   "source": [
    "#plot graph\n",
    "plt.figure(figsize=(15,10))\n",
    "plt.bar(SortedSalesbyOutlet.index, SortedSalesbyOutlet.values)\n",
    "plt.ylabel('Item Outlet Sales')\n",
    "plt.xlabel('Outlet Identifier')\n",
    "plt.title('Item Outlet Sales by Outlet Identifier')\n",
    "plt.xticks(rotation=75);"
   ]
  },
  {
   "cell_type": "markdown",
   "metadata": {
    "id": "dLsIsOvl6o6s"
   },
   "source": [
    "> I am showing based on the graph above that Outlet # OUT027 has the most sales while the outlets OUT010 and OUT019 have the least amount of sales. All the other outlets have somewhat similar sales compared to one another."
   ]
  },
  {
   "cell_type": "markdown",
   "metadata": {
    "id": "cuy5ei4dqle2"
   },
   "source": [
    "###Creating a graph to show Item Outlet Sales by Outlet Type"
   ]
  },
  {
   "cell_type": "code",
   "execution_count": 16,
   "metadata": {
    "colab": {
     "base_uri": "https://localhost:8080/"
    },
    "executionInfo": {
     "elapsed": 3,
     "status": "ok",
     "timestamp": 1685078459726,
     "user": {
      "displayName": "Daisy Rivera",
      "userId": "10557679735270633011"
     },
     "user_tz": 300
    },
    "id": "ZqDVRIyRqnMW",
    "outputId": "2bbad8c7-8027-4ece-cdd2-1b9238bd5996"
   },
   "outputs": [
    {
     "data": {
      "text/plain": [
       "Outlet_Type\n",
       "Grocery Store         339.83\n",
       "Supermarket Type2   1,995.50\n",
       "Supermarket Type1   2,316.18\n",
       "Supermarket Type3   3,694.04\n",
       "Name: Item_Outlet_Sales, dtype: float64"
      ]
     },
     "execution_count": 16,
     "metadata": {},
     "output_type": "execute_result"
    }
   ],
   "source": [
    "#filtering data\n",
    "SalesbyOutletType = df.groupby('Outlet_Type')['Item_Outlet_Sales'].mean().round(2)\n",
    "#sorting data\n",
    "SortedSalesbyOutletType = SalesbyOutletType.sort_values()\n",
    "SortedSalesbyOutletType"
   ]
  },
  {
   "cell_type": "code",
   "execution_count": 17,
   "metadata": {
    "colab": {
     "base_uri": "https://localhost:8080/",
     "height": 997
    },
    "executionInfo": {
     "elapsed": 627,
     "status": "ok",
     "timestamp": 1685078460351,
     "user": {
      "displayName": "Daisy Rivera",
      "userId": "10557679735270633011"
     },
     "user_tz": 300
    },
    "id": "S1KLBOv0rCPx",
    "outputId": "74ac1fed-6068-48b4-93a4-8eef11958e9b"
   },
   "outputs": [
    {
     "data": {
      "image/png": "[encoded data removed]",
      "text/plain": [
       "<Figure size 1500x1000 with 1 Axes>"
      ]
     },
     "metadata": {},
     "output_type": "display_data"
    }
   ],
   "source": [
    "#plot graph\n",
    "plt.figure(figsize=(15,10))\n",
    "plt.bar(SortedSalesbyOutletType.index, SortedSalesbyOutletType.values)\n",
    "plt.ylabel('Item Outlet Sales')\n",
    "plt.xlabel('Outlet Type')\n",
    "plt.title('Item Outlet Sales by Outlet Type')\n",
    "plt.xticks(rotation=75);"
   ]
  },
  {
   "cell_type": "markdown",
   "metadata": {
    "id": "eibH9jY8rOon"
   },
   "source": [
    ">I am seeing from the above graph that there is definitely a difference between the Outlet with the most and least sales. Supermarket Type 3 has the most Outlet Item Sales and Grocery Store has the least amount of Item Outlet Sales."
   ]
  },
  {
   "cell_type": "markdown",
   "metadata": {
    "id": "BlmzPrZG8wYZ"
   },
   "source": [
    "###Creating a graph to show Item Outlet Sales by Outlet Size"
   ]
  },
  {
   "cell_type": "code",
   "execution_count": 18,
   "metadata": {
    "colab": {
     "base_uri": "https://localhost:8080/"
    },
    "executionInfo": {
     "elapsed": 10,
     "status": "ok",
     "timestamp": 1685078460352,
     "user": {
      "displayName": "Daisy Rivera",
      "userId": "10557679735270633011"
     },
     "user_tz": 300
    },
    "id": "EtWM_vUW8zIF",
    "outputId": "8b034343-fb92-4c70-eda2-57c8b1f8b4cb"
   },
   "outputs": [
    {
     "data": {
      "text/plain": [
       "Outlet_Size\n",
       "Small    1,912.15\n",
       "High     2,299.00\n",
       "Medium   2,681.60\n",
       "Name: Item_Outlet_Sales, dtype: float64"
      ]
     },
     "execution_count": 18,
     "metadata": {},
     "output_type": "execute_result"
    }
   ],
   "source": [
    "#filtering data\n",
    "SalesbyOutletSize = df.groupby('Outlet_Size')['Item_Outlet_Sales'].mean().round(2)\n",
    "#sorting data\n",
    "SortedSalesbyOutletSize = SalesbyOutletSize.sort_values()\n",
    "SortedSalesbyOutletSize"
   ]
  },
  {
   "cell_type": "code",
   "execution_count": 19,
   "metadata": {
    "colab": {
     "base_uri": "https://localhost:8080/",
     "height": 920
    },
    "executionInfo": {
     "elapsed": 705,
     "status": "ok",
     "timestamp": 1685078461053,
     "user": {
      "displayName": "Daisy Rivera",
      "userId": "10557679735270633011"
     },
     "user_tz": 300
    },
    "id": "Upm1Bt8X8zyf",
    "outputId": "4d28c0e3-b38a-48fe-ab4a-cff99c510a61"
   },
   "outputs": [
    {
     "data": {
      "image/png": "[encoded data removed]",
      "text/plain": [
       "<Figure size 1500x1000 with 1 Axes>"
      ]
     },
     "metadata": {},
     "output_type": "display_data"
    }
   ],
   "source": [
    "#plot graph\n",
    "plt.figure(figsize=(15,10))\n",
    "plt.bar(SortedSalesbyOutletSize.index, SortedSalesbyOutletSize.values)\n",
    "plt.ylabel('Item Outlet Sales')\n",
    "plt.xlabel('Outlet Size')\n",
    "plt.title('Item Outlet Sales by Outlet Size')\n",
    "plt.xticks(rotation=75);"
   ]
  },
  {
   "cell_type": "markdown",
   "metadata": {
    "id": "ZiWv2jWp9UF5"
   },
   "source": [
    ">The graph above shows that Medium sized outlets sell the most and Small outlets sell the least."
   ]
  },
  {
   "cell_type": "markdown",
   "metadata": {
    "id": "ZC0vRiPvrXzx"
   },
   "source": [
    "###Creating a Chart showing Sales grouped by both Item Types and the Item Fat Content"
   ]
  },
  {
   "cell_type": "code",
   "execution_count": 20,
   "metadata": {
    "colab": {
     "base_uri": "https://localhost:8080/",
     "height": 262
    },
    "executionInfo": {
     "elapsed": 13,
     "status": "ok",
     "timestamp": 1685078461054,
     "user": {
      "displayName": "Daisy Rivera",
      "userId": "10557679735270633011"
     },
     "user_tz": 300
    },
    "id": "iepuewqNralU",
    "outputId": "bf94cfc1-e56c-4215-dbc8-101c64c2380a"
   },
   "outputs": [
    {
     "name": "stderr",
     "output_type": "stream",
     "text": [
      "<ipython-input-20-333c59eeba08>:2: FutureWarning: The default value of numeric_only in DataFrameGroupBy.mean is deprecated. In a future version, numeric_only will default to False. Either specify numeric_only or select only columns which should be valid for the function.\n",
      "  Itemtypes = df.groupby(['Item_Type','Item_Fat_Content']).mean().reset_index()\n"
     ]
    },
    {
     "data": {
      "text/html": [
       "\n",
       "  <div id=\"df-8f4d05ba-f451-4d39-bd22-ffccb2aef11b\">\n",
       "    <div class=\"colab-df-container\">\n",
       "      <div>\n",
       "<style scoped>\n",
       "    .dataframe tbody tr th:only-of-type {\n",
       "        vertical-align: middle;\n",
       "    }\n",
       "\n",
       "    .dataframe tbody tr th {\n",
       "        vertical-align: top;\n",
       "    }\n",
       "\n",
       "    .dataframe thead th {\n",
       "        text-align: right;\n",
       "    }\n",
       "</style>\n",
       "<table border=\"1\" class=\"dataframe\">\n",
       "  <thead>\n",
       "    <tr style=\"text-align: right;\">\n",
       "      <th></th>\n",
       "      <th>Item_Type</th>\n",
       "      <th>Item_Fat_Content</th>\n",
       "      <th>Item_Weight</th>\n",
       "      <th>Item_Visibility</th>\n",
       "      <th>Item_MRP</th>\n",
       "      <th>Outlet_Establishment_Year</th>\n",
       "      <th>Item_Outlet_Sales</th>\n",
       "    </tr>\n",
       "  </thead>\n",
       "  <tbody>\n",
       "    <tr>\n",
       "      <th>0</th>\n",
       "      <td>Baking Goods</td>\n",
       "      <td>Low Fat</td>\n",
       "      <td>12.55</td>\n",
       "      <td>0.07</td>\n",
       "      <td>120.53</td>\n",
       "      <td>1,997.31</td>\n",
       "      <td>1,764.51</td>\n",
       "    </tr>\n",
       "    <tr>\n",
       "      <th>25</th>\n",
       "      <td>Soft Drinks</td>\n",
       "      <td>Regular</td>\n",
       "      <td>11.23</td>\n",
       "      <td>0.07</td>\n",
       "      <td>121.77</td>\n",
       "      <td>1,997.80</td>\n",
       "      <td>1,854.07</td>\n",
       "    </tr>\n",
       "    <tr>\n",
       "      <th>20</th>\n",
       "      <td>Seafood</td>\n",
       "      <td>Low Fat</td>\n",
       "      <td>13.81</td>\n",
       "      <td>0.05</td>\n",
       "      <td>113.51</td>\n",
       "      <td>1,997.19</td>\n",
       "      <td>1,907.79</td>\n",
       "    </tr>\n",
       "    <tr>\n",
       "      <th>5</th>\n",
       "      <td>Breakfast</td>\n",
       "      <td>Regular</td>\n",
       "      <td>13.34</td>\n",
       "      <td>0.08</td>\n",
       "      <td>127.84</td>\n",
       "      <td>1,997.36</td>\n",
       "      <td>1,925.46</td>\n",
       "    </tr>\n",
       "    <tr>\n",
       "      <th>19</th>\n",
       "      <td>Others</td>\n",
       "      <td>Low Fat</td>\n",
       "      <td>13.85</td>\n",
       "      <td>0.06</td>\n",
       "      <td>132.85</td>\n",
       "      <td>1,997.66</td>\n",
       "      <td>1,926.14</td>\n",
       "    </tr>\n",
       "  </tbody>\n",
       "</table>\n",
       "</div>\n",
       "      <button class=\"colab-df-convert\" onclick=\"convertToInteractive('df-8f4d05ba-f451-4d39-bd22-ffccb2aef11b')\"\n",
       "              title=\"Convert this dataframe to an interactive table.\"\n",
       "              style=\"display:none;\">\n",
       "        \n",
       "  <svg xmlns=\"http://www.w3.org/2000/svg\" height=\"24px\"viewBox=\"0 0 24 24\"\n",
       "       width=\"24px\">\n",
       "    <path d=\"M0 0h24v24H0V0z\" fill=\"none\"/>\n",
       "    <path d=\"M18.56 5.44l.94 2.06.94-2.06 2.06-.94-2.06-.94-.94-2.06-.94 2.06-2.06.94zm-11 1L8.5 8.5l.94-2.06 2.06-.94-2.06-.94L8.5 2.5l-.94 2.06-2.06.94zm10 10l.94 2.06.94-2.06 2.06-.94-2.06-.94-.94-2.06-.94 2.06-2.06.94z\"/><path d=\"M17.41 7.96l-1.37-1.37c-.4-.4-.92-.59-1.43-.59-.52 0-1.04.2-1.43.59L10.3 9.45l-7.72 7.72c-.78.78-.78 2.05 0 2.83L4 21.41c.39.39.9.59 1.41.59.51 0 1.02-.2 1.41-.59l7.78-7.78 2.81-2.81c.8-.78.8-2.07 0-2.86zM5.41 20L4 18.59l7.72-7.72 1.47 1.35L5.41 20z\"/>\n",
       "  </svg>\n",
       "      </button>\n",
       "      \n",
       "  <style>\n",
       "    .colab-df-container {\n",
       "      display:flex;\n",
       "      flex-wrap:wrap;\n",
       "      gap: 12px;\n",
       "    }\n",
       "\n",
       "    .colab-df-convert {\n",
       "      background-color: #E8F0FE;\n",
       "      border: none;\n",
       "      border-radius: 50%;\n",
       "      cursor: pointer;\n",
       "      display: none;\n",
       "      fill: #1967D2;\n",
       "      height: 32px;\n",
       "      padding: 0 0 0 0;\n",
       "      width: 32px;\n",
       "    }\n",
       "\n",
       "    .colab-df-convert:hover {\n",
       "      background-color: #E2EBFA;\n",
       "      box-shadow: 0px 1px 2px rgba(60, 64, 67, 0.3), 0px 1px 3px 1px rgba(60, 64, 67, 0.15);\n",
       "      fill: #174EA6;\n",
       "    }\n",
       "\n",
       "    [theme=dark] .colab-df-convert {\n",
       "      background-color: #3B4455;\n",
       "      fill: #D2E3FC;\n",
       "    }\n",
       "\n",
       "    [theme=dark] .colab-df-convert:hover {\n",
       "      background-color: #434B5C;\n",
       "      box-shadow: 0px 1px 3px 1px rgba(0, 0, 0, 0.15);\n",
       "      filter: drop-shadow(0px 1px 2px rgba(0, 0, 0, 0.3));\n",
       "      fill: #FFFFFF;\n",
       "    }\n",
       "  </style>\n",
       "\n",
       "      <script>\n",
       "        const buttonEl =\n",
       "          document.querySelector('#df-8f4d05ba-f451-4d39-bd22-ffccb2aef11b button.colab-df-convert');\n",
       "        buttonEl.style.display =\n",
       "          google.colab.kernel.accessAllowed ? 'block' : 'none';\n",
       "\n",
       "        async function convertToInteractive(key) {\n",
       "          const element = document.querySelector('#df-8f4d05ba-f451-4d39-bd22-ffccb2aef11b');\n",
       "          const dataTable =\n",
       "            await google.colab.kernel.invokeFunction('convertToInteractive',\n",
       "                                                     [key], {});\n",
       "          if (!dataTable) return;\n",
       "\n",
       "          const docLinkHtml = 'Like what you see? Visit the ' +\n",
       "            '<a target=\"_blank\" href=https://colab.research.google.com/notebooks/data_table.ipynb>data table notebook</a>'\n",
       "            + ' to learn more about interactive tables.';\n",
       "          element.innerHTML = '';\n",
       "          dataTable['output_type'] = 'display_data';\n",
       "          await google.colab.output.renderOutput(dataTable, element);\n",
       "          const docLink = document.createElement('div');\n",
       "          docLink.innerHTML = docLinkHtml;\n",
       "          element.appendChild(docLink);\n",
       "        }\n",
       "      </script>\n",
       "    </div>\n",
       "  </div>\n",
       "  "
      ],
      "text/plain": [
       "       Item_Type Item_Fat_Content  Item_Weight  Item_Visibility  Item_MRP  \\\n",
       "0   Baking Goods          Low Fat        12.55             0.07    120.53   \n",
       "25   Soft Drinks          Regular        11.23             0.07    121.77   \n",
       "20       Seafood          Low Fat        13.81             0.05    113.51   \n",
       "5      Breakfast          Regular        13.34             0.08    127.84   \n",
       "19        Others          Low Fat        13.85             0.06    132.85   \n",
       "\n",
       "    Outlet_Establishment_Year  Item_Outlet_Sales  \n",
       "0                    1,997.31           1,764.51  \n",
       "25                   1,997.80           1,854.07  \n",
       "20                   1,997.19           1,907.79  \n",
       "5                    1,997.36           1,925.46  \n",
       "19                   1,997.66           1,926.14  "
      ]
     },
     "execution_count": 20,
     "metadata": {},
     "output_type": "execute_result"
    }
   ],
   "source": [
    "#filtering data\n",
    "Itemtypes = df.groupby(['Item_Type','Item_Fat_Content']).mean().reset_index()\n",
    "#sorting data\n",
    "Itemtypes = Itemtypes.sort_values(by = 'Item_Outlet_Sales')\n",
    "#displaying last 5 rows\n",
    "Itemtypes[:5]"
   ]
  },
  {
   "cell_type": "code",
   "execution_count": 21,
   "metadata": {
    "colab": {
     "base_uri": "https://localhost:8080/",
     "height": 877
    },
    "executionInfo": {
     "elapsed": 921,
     "status": "ok",
     "timestamp": 1685078461970,
     "user": {
      "displayName": "Daisy Rivera",
      "userId": "10557679735270633011"
     },
     "user_tz": 300
    },
    "id": "4k6tR7axrbeI",
    "outputId": "455bddec-d37f-4f31-85d6-07ae59b0b9d0"
   },
   "outputs": [
    {
     "data": {
      "image/png": "[encoded data removed]",
      "text/plain": [
       "<Figure size 1500x1000 with 1 Axes>"
      ]
     },
     "metadata": {},
     "output_type": "display_data"
    }
   ],
   "source": [
    "#plot graph\n",
    "plt.figure(figsize=(15,10))\n",
    "sns.barplot(data = Itemtypes, x = 'Item_Outlet_Sales', y = 'Item_Type', hue = 'Item_Fat_Content')\n",
    "plt.title('Average Item Sales by Type and Fat Content')\n",
    "plt.ylabel('Item Type')\n",
    "plt.xlabel('Item Outlet Sales');"
   ]
  },
  {
   "cell_type": "markdown",
   "metadata": {
    "id": "3Zpi6Vf1sG6d"
   },
   "source": [
    "Based on the above graph:\n",
    "\n",
    "Item Outlet Sales sell more Low Fat items in the following categories:\n",
    "- Soft Drinks\n",
    "- Breakfast\n",
    "- Snack Foods\n",
    "-Starchy Foods\n",
    "\n",
    "Item Outlet Sales sell more Regular items in the following categories:\n",
    "- Baking Goods\n",
    "- Seafood\n",
    "- Mean\n",
    "- Frozen Foods\n",
    "- Dairy\n",
    "- Fruits & Vegetables\n",
    "- Breads\n",
    "- Canned\n",
    "\n",
    "The below items only have one category of items since they would fall outside of the what is considered Low Fat and Regular:\n",
    "- Household\n",
    "- Others\n",
    "- Health & Hygiene\n",
    "- Hard Drinks"
   ]
  },
  {
   "cell_type": "markdown",
   "metadata": {
    "id": "zJkTn3jTsYXx"
   },
   "source": [
    "##Preprocessing data for ML"
   ]
  },
  {
   "cell_type": "markdown",
   "metadata": {
    "id": "b3Cav94yuiVh"
   },
   "source": [
    "###Dropping irrevelant columns"
   ]
  },
  {
   "cell_type": "code",
   "execution_count": 22,
   "metadata": {
    "colab": {
     "base_uri": "https://localhost:8080/"
    },
    "executionInfo": {
     "elapsed": 20,
     "status": "ok",
     "timestamp": 1685078461971,
     "user": {
      "displayName": "Daisy Rivera",
      "userId": "10557679735270633011"
     },
     "user_tz": 300
    },
    "id": "Ux0D2VdtsXvJ",
    "outputId": "6cec2cac-1bbb-43e6-aaa6-a790cf6cc24d"
   },
   "outputs": [
    {
     "data": {
      "text/plain": [
       "Index(['Item_Weight', 'Item_Fat_Content', 'Item_Visibility', 'Item_Type',\n",
       "       'Item_MRP', 'Outlet_Identifier', 'Outlet_Establishment_Year',\n",
       "       'Outlet_Size', 'Outlet_Location_Type', 'Outlet_Type',\n",
       "       'Item_Outlet_Sales'],\n",
       "      dtype='object')"
      ]
     },
     "execution_count": 22,
     "metadata": {},
     "output_type": "execute_result"
    }
   ],
   "source": [
    "#dropping Item_Identifier due to high cardinality(too many unique values)\n",
    "df.drop(columns='Item_Identifier', inplace=True)\n",
    "#confirming column was dropped\n",
    "df.columns"
   ]
  },
  {
   "cell_type": "markdown",
   "metadata": {
    "id": "fL8fdAQ6uxCC"
   },
   "source": [
    "###Addressing Ordinal Values"
   ]
  },
  {
   "cell_type": "code",
   "execution_count": 23,
   "metadata": {
    "colab": {
     "base_uri": "https://localhost:8080/"
    },
    "executionInfo": {
     "elapsed": 15,
     "status": "ok",
     "timestamp": 1685078461971,
     "user": {
      "displayName": "Daisy Rivera",
      "userId": "10557679735270633011"
     },
     "user_tz": 300
    },
    "id": "69ghu-FmsgGv",
    "outputId": "94a7d8fa-dd08-4292-f790-3fafda5c16ef"
   },
   "outputs": [
    {
     "data": {
      "text/plain": [
       "Tier 3    3350\n",
       "Tier 2    2785\n",
       "Tier 1    2388\n",
       "Name: Outlet_Location_Type, dtype: int64"
      ]
     },
     "execution_count": 23,
     "metadata": {},
     "output_type": "execute_result"
    }
   ],
   "source": [
    "#checking category counts prior to converting\n",
    "df['Outlet_Location_Type'].value_counts()"
   ]
  },
  {
   "cell_type": "code",
   "execution_count": 24,
   "metadata": {
    "colab": {
     "base_uri": "https://localhost:8080/"
    },
    "executionInfo": {
     "elapsed": 13,
     "status": "ok",
     "timestamp": 1685078461972,
     "user": {
      "displayName": "Daisy Rivera",
      "userId": "10557679735270633011"
     },
     "user_tz": 300
    },
    "id": "AQPPHWnUvHqk",
    "outputId": "fd0e4b16-3c2f-4bf6-e5c9-d0747b4a3b96"
   },
   "outputs": [
    {
     "data": {
      "text/plain": [
       "2    3350\n",
       "1    2785\n",
       "0    2388\n",
       "Name: Outlet_Location_Type, dtype: int64"
      ]
     },
     "execution_count": 24,
     "metadata": {},
     "output_type": "execute_result"
    }
   ],
   "source": [
    "#replacing category values\n",
    "df['Outlet_Location_Type'].replace({'Tier 1':0, 'Tier 2':1, 'Tier 3':2}, inplace=True)\n",
    "\n",
    "#confirming changes were made\n",
    "df['Outlet_Location_Type'].value_counts()"
   ]
  },
  {
   "cell_type": "markdown",
   "metadata": {
    "id": "PQhLRqq6vqPE"
   },
   "source": [
    "### Verifying Missing Values"
   ]
  },
  {
   "cell_type": "code",
   "execution_count": 25,
   "metadata": {
    "colab": {
     "base_uri": "https://localhost:8080/"
    },
    "executionInfo": {
     "elapsed": 11,
     "status": "ok",
     "timestamp": 1685078461973,
     "user": {
      "displayName": "Daisy Rivera",
      "userId": "10557679735270633011"
     },
     "user_tz": 300
    },
    "id": "h6e8yMkuvtLt",
    "outputId": "2a945d32-14b3-46cc-8b99-4f3534ae318f"
   },
   "outputs": [
    {
     "data": {
      "text/plain": [
       "Item_Weight                  1463\n",
       "Item_Fat_Content                0\n",
       "Item_Visibility                 0\n",
       "Item_Type                       0\n",
       "Item_MRP                        0\n",
       "Outlet_Identifier               0\n",
       "Outlet_Establishment_Year       0\n",
       "Outlet_Size                  2410\n",
       "Outlet_Location_Type            0\n",
       "Outlet_Type                     0\n",
       "Item_Outlet_Sales               0\n",
       "dtype: int64"
      ]
     },
     "execution_count": 25,
     "metadata": {},
     "output_type": "execute_result"
    }
   ],
   "source": [
    "#Identifying missing values\n",
    "df.isna().sum()"
   ]
  },
  {
   "cell_type": "markdown",
   "metadata": {
    "id": "jFM_D9KAwDHs"
   },
   "source": [
    "* I will address the missing items in the 'Item_Weight' column with a Mean SimpleImputer after splitting my data. \n",
    "* For 'Outlet_Size' I decided to add an 'Unknown' category since the amount of missing data (2410) is very similar to the counts of other categories."
   ]
  },
  {
   "cell_type": "markdown",
   "metadata": {
    "id": "kfCzBAbWxdNB"
   },
   "source": [
    "##Validation Split"
   ]
  },
  {
   "cell_type": "markdown",
   "metadata": {
    "id": "XcenDFc9wM8m"
   },
   "source": [
    "###Assigning values for Features(X) and Target(y)"
   ]
  },
  {
   "cell_type": "code",
   "execution_count": 26,
   "metadata": {
    "executionInfo": {
     "elapsed": 197,
     "status": "ok",
     "timestamp": 1685078462161,
     "user": {
      "displayName": "Daisy Rivera",
      "userId": "10557679735270633011"
     },
     "user_tz": 300
    },
    "id": "n-seVT2GwOrw"
   },
   "outputs": [],
   "source": [
    "## Make X and y variables\n",
    "y = df['Item_Outlet_Sales'].copy()\n",
    "X = df.drop(columns=['Item_Outlet_Sales']).copy()"
   ]
  },
  {
   "cell_type": "markdown",
   "metadata": {
    "id": "1GNVnjSIxraO"
   },
   "source": [
    "###Splitting data into Training and Testing datasets"
   ]
  },
  {
   "cell_type": "code",
   "execution_count": 27,
   "metadata": {
    "colab": {
     "base_uri": "https://localhost:8080/",
     "height": 143
    },
    "executionInfo": {
     "elapsed": 20,
     "status": "ok",
     "timestamp": 1685078462161,
     "user": {
      "displayName": "Daisy Rivera",
      "userId": "10557679735270633011"
     },
     "user_tz": 300
    },
    "id": "dyU9rdEcxJO8",
    "outputId": "6aaced5c-858c-424f-dc25-5ad9aa7fc032"
   },
   "outputs": [
    {
     "data": {
      "text/html": [
       "\n",
       "  <div id=\"df-ceb0d0d9-6845-4b1e-a7ca-10c76870239e\">\n",
       "    <div class=\"colab-df-container\">\n",
       "      <div>\n",
       "<style scoped>\n",
       "    .dataframe tbody tr th:only-of-type {\n",
       "        vertical-align: middle;\n",
       "    }\n",
       "\n",
       "    .dataframe tbody tr th {\n",
       "        vertical-align: top;\n",
       "    }\n",
       "\n",
       "    .dataframe thead th {\n",
       "        text-align: right;\n",
       "    }\n",
       "</style>\n",
       "<table border=\"1\" class=\"dataframe\">\n",
       "  <thead>\n",
       "    <tr style=\"text-align: right;\">\n",
       "      <th></th>\n",
       "      <th>Item_Weight</th>\n",
       "      <th>Item_Fat_Content</th>\n",
       "      <th>Item_Visibility</th>\n",
       "      <th>Item_Type</th>\n",
       "      <th>Item_MRP</th>\n",
       "      <th>Outlet_Identifier</th>\n",
       "      <th>Outlet_Establishment_Year</th>\n",
       "      <th>Outlet_Size</th>\n",
       "      <th>Outlet_Location_Type</th>\n",
       "      <th>Outlet_Type</th>\n",
       "    </tr>\n",
       "  </thead>\n",
       "  <tbody>\n",
       "    <tr>\n",
       "      <th>8269</th>\n",
       "      <td>7.22</td>\n",
       "      <td>Regular</td>\n",
       "      <td>0.06</td>\n",
       "      <td>Baking Goods</td>\n",
       "      <td>61.25</td>\n",
       "      <td>OUT010</td>\n",
       "      <td>1998</td>\n",
       "      <td>NaN</td>\n",
       "      <td>2</td>\n",
       "      <td>Grocery Store</td>\n",
       "    </tr>\n",
       "    <tr>\n",
       "      <th>7604</th>\n",
       "      <td>6.13</td>\n",
       "      <td>Low Fat</td>\n",
       "      <td>0.08</td>\n",
       "      <td>Soft Drinks</td>\n",
       "      <td>111.29</td>\n",
       "      <td>OUT018</td>\n",
       "      <td>2009</td>\n",
       "      <td>Medium</td>\n",
       "      <td>2</td>\n",
       "      <td>Supermarket Type2</td>\n",
       "    </tr>\n",
       "    <tr>\n",
       "      <th>2762</th>\n",
       "      <td>12.15</td>\n",
       "      <td>Low Fat</td>\n",
       "      <td>0.03</td>\n",
       "      <td>Household</td>\n",
       "      <td>151.07</td>\n",
       "      <td>OUT035</td>\n",
       "      <td>2004</td>\n",
       "      <td>Small</td>\n",
       "      <td>1</td>\n",
       "      <td>Supermarket Type1</td>\n",
       "    </tr>\n",
       "  </tbody>\n",
       "</table>\n",
       "</div>\n",
       "      <button class=\"colab-df-convert\" onclick=\"convertToInteractive('df-ceb0d0d9-6845-4b1e-a7ca-10c76870239e')\"\n",
       "              title=\"Convert this dataframe to an interactive table.\"\n",
       "              style=\"display:none;\">\n",
       "        \n",
       "  <svg xmlns=\"http://www.w3.org/2000/svg\" height=\"24px\"viewBox=\"0 0 24 24\"\n",
       "       width=\"24px\">\n",
       "    <path d=\"M0 0h24v24H0V0z\" fill=\"none\"/>\n",
       "    <path d=\"M18.56 5.44l.94 2.06.94-2.06 2.06-.94-2.06-.94-.94-2.06-.94 2.06-2.06.94zm-11 1L8.5 8.5l.94-2.06 2.06-.94-2.06-.94L8.5 2.5l-.94 2.06-2.06.94zm10 10l.94 2.06.94-2.06 2.06-.94-2.06-.94-.94-2.06-.94 2.06-2.06.94z\"/><path d=\"M17.41 7.96l-1.37-1.37c-.4-.4-.92-.59-1.43-.59-.52 0-1.04.2-1.43.59L10.3 9.45l-7.72 7.72c-.78.78-.78 2.05 0 2.83L4 21.41c.39.39.9.59 1.41.59.51 0 1.02-.2 1.41-.59l7.78-7.78 2.81-2.81c.8-.78.8-2.07 0-2.86zM5.41 20L4 18.59l7.72-7.72 1.47 1.35L5.41 20z\"/>\n",
       "  </svg>\n",
       "      </button>\n",
       "      \n",
       "  <style>\n",
       "    .colab-df-container {\n",
       "      display:flex;\n",
       "      flex-wrap:wrap;\n",
       "      gap: 12px;\n",
       "    }\n",
       "\n",
       "    .colab-df-convert {\n",
       "      background-color: #E8F0FE;\n",
       "      border: none;\n",
       "      border-radius: 50%;\n",
       "      cursor: pointer;\n",
       "      display: none;\n",
       "      fill: #1967D2;\n",
       "      height: 32px;\n",
       "      padding: 0 0 0 0;\n",
       "      width: 32px;\n",
       "    }\n",
       "\n",
       "    .colab-df-convert:hover {\n",
       "      background-color: #E2EBFA;\n",
       "      box-shadow: 0px 1px 2px rgba(60, 64, 67, 0.3), 0px 1px 3px 1px rgba(60, 64, 67, 0.15);\n",
       "      fill: #174EA6;\n",
       "    }\n",
       "\n",
       "    [theme=dark] .colab-df-convert {\n",
       "      background-color: #3B4455;\n",
       "      fill: #D2E3FC;\n",
       "    }\n",
       "\n",
       "    [theme=dark] .colab-df-convert:hover {\n",
       "      background-color: #434B5C;\n",
       "      box-shadow: 0px 1px 3px 1px rgba(0, 0, 0, 0.15);\n",
       "      filter: drop-shadow(0px 1px 2px rgba(0, 0, 0, 0.3));\n",
       "      fill: #FFFFFF;\n",
       "    }\n",
       "  </style>\n",
       "\n",
       "      <script>\n",
       "        const buttonEl =\n",
       "          document.querySelector('#df-ceb0d0d9-6845-4b1e-a7ca-10c76870239e button.colab-df-convert');\n",
       "        buttonEl.style.display =\n",
       "          google.colab.kernel.accessAllowed ? 'block' : 'none';\n",
       "\n",
       "        async function convertToInteractive(key) {\n",
       "          const element = document.querySelector('#df-ceb0d0d9-6845-4b1e-a7ca-10c76870239e');\n",
       "          const dataTable =\n",
       "            await google.colab.kernel.invokeFunction('convertToInteractive',\n",
       "                                                     [key], {});\n",
       "          if (!dataTable) return;\n",
       "\n",
       "          const docLinkHtml = 'Like what you see? Visit the ' +\n",
       "            '<a target=\"_blank\" href=https://colab.research.google.com/notebooks/data_table.ipynb>data table notebook</a>'\n",
       "            + ' to learn more about interactive tables.';\n",
       "          element.innerHTML = '';\n",
       "          dataTable['output_type'] = 'display_data';\n",
       "          await google.colab.output.renderOutput(dataTable, element);\n",
       "          const docLink = document.createElement('div');\n",
       "          docLink.innerHTML = docLinkHtml;\n",
       "          element.appendChild(docLink);\n",
       "        }\n",
       "      </script>\n",
       "    </div>\n",
       "  </div>\n",
       "  "
      ],
      "text/plain": [
       "      Item_Weight Item_Fat_Content  Item_Visibility     Item_Type  Item_MRP  \\\n",
       "8269         7.22          Regular             0.06  Baking Goods     61.25   \n",
       "7604         6.13          Low Fat             0.08   Soft Drinks    111.29   \n",
       "2762        12.15          Low Fat             0.03     Household    151.07   \n",
       "\n",
       "     Outlet_Identifier  Outlet_Establishment_Year Outlet_Size  \\\n",
       "8269            OUT010                       1998         NaN   \n",
       "7604            OUT018                       2009      Medium   \n",
       "2762            OUT035                       2004       Small   \n",
       "\n",
       "      Outlet_Location_Type        Outlet_Type  \n",
       "8269                     2      Grocery Store  \n",
       "7604                     2  Supermarket Type2  \n",
       "2762                     1  Supermarket Type1  "
      ]
     },
     "execution_count": 27,
     "metadata": {},
     "output_type": "execute_result"
    }
   ],
   "source": [
    "## train-test-split with random state for reproducibility\n",
    "X_train, X_test, y_train, y_test = train_test_split(X,y, random_state=SEED)\n",
    "#displaying training features first 3 rows\n",
    "X_train.head(3)"
   ]
  },
  {
   "cell_type": "markdown",
   "metadata": {
    "id": "6PZd-JK0x6gq"
   },
   "source": [
    "##Creating Preprocessor"
   ]
  },
  {
   "cell_type": "code",
   "execution_count": 28,
   "metadata": {
    "executionInfo": {
     "elapsed": 19,
     "status": "ok",
     "timestamp": 1685078462162,
     "user": {
      "displayName": "Daisy Rivera",
      "userId": "10557679735270633011"
     },
     "user_tz": 300
    },
    "id": "Ja_A8tnqyflf"
   },
   "outputs": [],
   "source": [
    "## make categorical and numerical selectors\n",
    "cat_sel = make_column_selector(dtype_include='object')\n",
    "num_sel = make_column_selector(dtype_include='number')"
   ]
  },
  {
   "cell_type": "code",
   "execution_count": 29,
   "metadata": {
    "colab": {
     "base_uri": "https://localhost:8080/"
    },
    "executionInfo": {
     "elapsed": 18,
     "status": "ok",
     "timestamp": 1685078462162,
     "user": {
      "displayName": "Daisy Rivera",
      "userId": "10557679735270633011"
     },
     "user_tz": 300
    },
    "id": "cpCVxN0J7u6c",
    "outputId": "e59e1095-41dd-4bbd-e467-52bed471b797"
   },
   "outputs": [
    {
     "name": "stdout",
     "output_type": "stream",
     "text": [
      "For Item_Fat_Content:\n",
      "['Low Fat' 'Regular']\n",
      "\n",
      "For Item_Type:\n",
      "['Dairy' 'Soft Drinks' 'Meat' 'Fruits and Vegetables' 'Household'\n",
      " 'Baking Goods' 'Snack Foods' 'Frozen Foods' 'Breakfast'\n",
      " 'Health and Hygiene' 'Hard Drinks' 'Canned' 'Breads' 'Starchy Foods'\n",
      " 'Others' 'Seafood']\n",
      "\n",
      "For Outlet_Identifier:\n",
      "['OUT049' 'OUT018' 'OUT010' 'OUT013' 'OUT027' 'OUT045' 'OUT017' 'OUT046'\n",
      " 'OUT035' 'OUT019']\n",
      "\n",
      "For Outlet_Size:\n",
      "['Medium' nan 'High' 'Small']\n",
      "\n",
      "For Outlet_Type:\n",
      "['Supermarket Type1' 'Supermarket Type2' 'Grocery Store'\n",
      " 'Supermarket Type3']\n",
      "\n"
     ]
    }
   ],
   "source": [
    "#verifying unique values for columns that will be onehotencoded\n",
    "for col in cat_sel(X):\n",
    "    print(f\"For {col}:\\n{X[col].unique()}\\n\")"
   ]
  },
  {
   "cell_type": "code",
   "execution_count": 30,
   "metadata": {
    "executionInfo": {
     "elapsed": 14,
     "status": "ok",
     "timestamp": 1685078462162,
     "user": {
      "displayName": "Daisy Rivera",
      "userId": "10557679735270633011"
     },
     "user_tz": 300
    },
    "id": "_BXfu68B7_v9"
   },
   "outputs": [],
   "source": [
    "drop_cats = ['Regular', 'Others', 'OUT049','Unknown','Grocery Store']"
   ]
  },
  {
   "cell_type": "code",
   "execution_count": 31,
   "metadata": {
    "executionInfo": {
     "elapsed": 14,
     "status": "ok",
     "timestamp": 1685078462163,
     "user": {
      "displayName": "Daisy Rivera",
      "userId": "10557679735270633011"
     },
     "user_tz": 300
    },
    "id": "cr6Az-wZyz0G"
   },
   "outputs": [],
   "source": [
    "## instantiate transformers and make pipelines for categorical vs numeric data #drop=drop_cats or #handle_unknown='ignore'\n",
    "cat_pipe = make_pipeline(SimpleImputer(strategy='constant', fill_value='Unknown'),\n",
    "                         OneHotEncoder(drop=drop_cats, sparse_output=False))\n",
    "num_pipe = make_pipeline(SimpleImputer(strategy='mean'),StandardScaler())"
   ]
  },
  {
   "cell_type": "code",
   "execution_count": 32,
   "metadata": {
    "colab": {
     "base_uri": "https://localhost:8080/",
     "height": 152
    },
    "executionInfo": {
     "elapsed": 14,
     "status": "ok",
     "timestamp": 1685078462163,
     "user": {
      "displayName": "Daisy Rivera",
      "userId": "10557679735270633011"
     },
     "user_tz": 300
    },
    "id": "8kFbuVUv2v3i",
    "outputId": "1ae2f26e-342f-42fe-adad-769f2338a4dd"
   },
   "outputs": [
    {
     "data": {
      "text/html": [
       "<style>#sk-container-id-1 {color: black;background-color: white;}#sk-container-id-1 pre{padding: 0;}#sk-container-id-1 div.sk-toggleable {background-color: white;}#sk-container-id-1 label.sk-toggleable__label {cursor: pointer;display: block;width: 100%;margin-bottom: 0;padding: 0.3em;box-sizing: border-box;text-align: center;}#sk-container-id-1 label.sk-toggleable__label-arrow:before {content: \"▸\";float: left;margin-right: 0.25em;color: #696969;}#sk-container-id-1 label.sk-toggleable__label-arrow:hover:before {color: black;}#sk-container-id-1 div.sk-estimator:hover label.sk-toggleable__label-arrow:before {color: black;}#sk-container-id-1 div.sk-toggleable__content {max-height: 0;max-width: 0;overflow: hidden;text-align: left;background-color: #f0f8ff;}#sk-container-id-1 div.sk-toggleable__content pre {margin: 0.2em;color: black;border-radius: 0.25em;background-color: #f0f8ff;}#sk-container-id-1 input.sk-toggleable__control:checked~div.sk-toggleable__content {max-height: 200px;max-width: 100%;overflow: auto;}#sk-container-id-1 input.sk-toggleable__control:checked~label.sk-toggleable__label-arrow:before {content: \"▾\";}#sk-container-id-1 div.sk-estimator input.sk-toggleable__control:checked~label.sk-toggleable__label {background-color: #d4ebff;}#sk-container-id-1 div.sk-label input.sk-toggleable__control:checked~label.sk-toggleable__label {background-color: #d4ebff;}#sk-container-id-1 input.sk-hidden--visually {border: 0;clip: rect(1px 1px 1px 1px);clip: rect(1px, 1px, 1px, 1px);height: 1px;margin: -1px;overflow: hidden;padding: 0;position: absolute;width: 1px;}#sk-container-id-1 div.sk-estimator {font-family: monospace;background-color: #f0f8ff;border: 1px dotted black;border-radius: 0.25em;box-sizing: border-box;margin-bottom: 0.5em;}#sk-container-id-1 div.sk-estimator:hover {background-color: #d4ebff;}#sk-container-id-1 div.sk-parallel-item::after {content: \"\";width: 100%;border-bottom: 1px solid gray;flex-grow: 1;}#sk-container-id-1 div.sk-label:hover label.sk-toggleable__label {background-color: #d4ebff;}#sk-container-id-1 div.sk-serial::before {content: \"\";position: absolute;border-left: 1px solid gray;box-sizing: border-box;top: 0;bottom: 0;left: 50%;z-index: 0;}#sk-container-id-1 div.sk-serial {display: flex;flex-direction: column;align-items: center;background-color: white;padding-right: 0.2em;padding-left: 0.2em;position: relative;}#sk-container-id-1 div.sk-item {position: relative;z-index: 1;}#sk-container-id-1 div.sk-parallel {display: flex;align-items: stretch;justify-content: center;background-color: white;position: relative;}#sk-container-id-1 div.sk-item::before, #sk-container-id-1 div.sk-parallel-item::before {content: \"\";position: absolute;border-left: 1px solid gray;box-sizing: border-box;top: 0;bottom: 0;left: 50%;z-index: -1;}#sk-container-id-1 div.sk-parallel-item {display: flex;flex-direction: column;z-index: 1;position: relative;background-color: white;}#sk-container-id-1 div.sk-parallel-item:first-child::after {align-self: flex-end;width: 50%;}#sk-container-id-1 div.sk-parallel-item:last-child::after {align-self: flex-start;width: 50%;}#sk-container-id-1 div.sk-parallel-item:only-child::after {width: 0;}#sk-container-id-1 div.sk-dashed-wrapped {border: 1px dashed gray;margin: 0 0.4em 0.5em 0.4em;box-sizing: border-box;padding-bottom: 0.4em;background-color: white;}#sk-container-id-1 div.sk-label label {font-family: monospace;font-weight: bold;display: inline-block;line-height: 1.2em;}#sk-container-id-1 div.sk-label-container {text-align: center;}#sk-container-id-1 div.sk-container {/* jupyter's `normalize.less` sets `[hidden] { display: none; }` but bootstrap.min.css set `[hidden] { display: none !important; }` so we also need the `!important` here to be able to override the default hidden behavior on the sphinx rendered scikit-learn.org. See: https://github.com/scikit-learn/scikit-learn/issues/21755 */display: inline-block !important;position: relative;}#sk-container-id-1 div.sk-text-repr-fallback {display: none;}</style><div id=\"sk-container-id-1\" class=\"sk-top-container\"><div class=\"sk-text-repr-fallback\"><pre>ColumnTransformer(transformers=[(&#x27;pipeline-1&#x27;,\n",
       "                                 Pipeline(steps=[(&#x27;simpleimputer&#x27;,\n",
       "                                                  SimpleImputer()),\n",
       "                                                 (&#x27;standardscaler&#x27;,\n",
       "                                                  StandardScaler())]),\n",
       "                                 &lt;sklearn.compose._column_transformer.make_column_selector object at 0x7f8a40ea03d0&gt;),\n",
       "                                (&#x27;pipeline-2&#x27;,\n",
       "                                 Pipeline(steps=[(&#x27;simpleimputer&#x27;,\n",
       "                                                  SimpleImputer(fill_value=&#x27;Unknown&#x27;,\n",
       "                                                                strategy=&#x27;constant&#x27;)),\n",
       "                                                 (&#x27;onehotencoder&#x27;,\n",
       "                                                  OneHotEncoder(drop=[&#x27;Regular&#x27;,\n",
       "                                                                      &#x27;Others&#x27;,\n",
       "                                                                      &#x27;OUT049&#x27;,\n",
       "                                                                      &#x27;Unknown&#x27;,\n",
       "                                                                      &#x27;Grocery &#x27;\n",
       "                                                                      &#x27;Store&#x27;],\n",
       "                                                                sparse_output=False))]),\n",
       "                                 &lt;sklearn.compose._column_transformer.make_column_selector object at 0x7f8a3dce9fc0&gt;)],\n",
       "                  verbose_feature_names_out=False)</pre><b>In a Jupyter environment, please rerun this cell to show the HTML representation or trust the notebook. <br />On GitHub, the HTML representation is unable to render, please try loading this page with nbviewer.org.</b></div><div class=\"sk-container\" hidden><div class=\"sk-item sk-dashed-wrapped\"><div class=\"sk-label-container\"><div class=\"sk-label sk-toggleable\"><input class=\"sk-toggleable__control sk-hidden--visually\" id=\"sk-estimator-id-1\" type=\"checkbox\" ><label for=\"sk-estimator-id-1\" class=\"sk-toggleable__label sk-toggleable__label-arrow\">ColumnTransformer</label><div class=\"sk-toggleable__content\"><pre>ColumnTransformer(transformers=[(&#x27;pipeline-1&#x27;,\n",
       "                                 Pipeline(steps=[(&#x27;simpleimputer&#x27;,\n",
       "                                                  SimpleImputer()),\n",
       "                                                 (&#x27;standardscaler&#x27;,\n",
       "                                                  StandardScaler())]),\n",
       "                                 &lt;sklearn.compose._column_transformer.make_column_selector object at 0x7f8a40ea03d0&gt;),\n",
       "                                (&#x27;pipeline-2&#x27;,\n",
       "                                 Pipeline(steps=[(&#x27;simpleimputer&#x27;,\n",
       "                                                  SimpleImputer(fill_value=&#x27;Unknown&#x27;,\n",
       "                                                                strategy=&#x27;constant&#x27;)),\n",
       "                                                 (&#x27;onehotencoder&#x27;,\n",
       "                                                  OneHotEncoder(drop=[&#x27;Regular&#x27;,\n",
       "                                                                      &#x27;Others&#x27;,\n",
       "                                                                      &#x27;OUT049&#x27;,\n",
       "                                                                      &#x27;Unknown&#x27;,\n",
       "                                                                      &#x27;Grocery &#x27;\n",
       "                                                                      &#x27;Store&#x27;],\n",
       "                                                                sparse_output=False))]),\n",
       "                                 &lt;sklearn.compose._column_transformer.make_column_selector object at 0x7f8a3dce9fc0&gt;)],\n",
       "                  verbose_feature_names_out=False)</pre></div></div></div><div class=\"sk-parallel\"><div class=\"sk-parallel-item\"><div class=\"sk-item\"><div class=\"sk-label-container\"><div class=\"sk-label sk-toggleable\"><input class=\"sk-toggleable__control sk-hidden--visually\" id=\"sk-estimator-id-2\" type=\"checkbox\" ><label for=\"sk-estimator-id-2\" class=\"sk-toggleable__label sk-toggleable__label-arrow\">pipeline-1</label><div class=\"sk-toggleable__content\"><pre>&lt;sklearn.compose._column_transformer.make_column_selector object at 0x7f8a40ea03d0&gt;</pre></div></div></div><div class=\"sk-serial\"><div class=\"sk-item\"><div class=\"sk-serial\"><div class=\"sk-item\"><div class=\"sk-estimator sk-toggleable\"><input class=\"sk-toggleable__control sk-hidden--visually\" id=\"sk-estimator-id-3\" type=\"checkbox\" ><label for=\"sk-estimator-id-3\" class=\"sk-toggleable__label sk-toggleable__label-arrow\">SimpleImputer</label><div class=\"sk-toggleable__content\"><pre>SimpleImputer()</pre></div></div></div><div class=\"sk-item\"><div class=\"sk-estimator sk-toggleable\"><input class=\"sk-toggleable__control sk-hidden--visually\" id=\"sk-estimator-id-4\" type=\"checkbox\" ><label for=\"sk-estimator-id-4\" class=\"sk-toggleable__label sk-toggleable__label-arrow\">StandardScaler</label><div class=\"sk-toggleable__content\"><pre>StandardScaler()</pre></div></div></div></div></div></div></div></div><div class=\"sk-parallel-item\"><div class=\"sk-item\"><div class=\"sk-label-container\"><div class=\"sk-label sk-toggleable\"><input class=\"sk-toggleable__control sk-hidden--visually\" id=\"sk-estimator-id-5\" type=\"checkbox\" ><label for=\"sk-estimator-id-5\" class=\"sk-toggleable__label sk-toggleable__label-arrow\">pipeline-2</label><div class=\"sk-toggleable__content\"><pre>&lt;sklearn.compose._column_transformer.make_column_selector object at 0x7f8a3dce9fc0&gt;</pre></div></div></div><div class=\"sk-serial\"><div class=\"sk-item\"><div class=\"sk-serial\"><div class=\"sk-item\"><div class=\"sk-estimator sk-toggleable\"><input class=\"sk-toggleable__control sk-hidden--visually\" id=\"sk-estimator-id-6\" type=\"checkbox\" ><label for=\"sk-estimator-id-6\" class=\"sk-toggleable__label sk-toggleable__label-arrow\">SimpleImputer</label><div class=\"sk-toggleable__content\"><pre>SimpleImputer(fill_value=&#x27;Unknown&#x27;, strategy=&#x27;constant&#x27;)</pre></div></div></div><div class=\"sk-item\"><div class=\"sk-estimator sk-toggleable\"><input class=\"sk-toggleable__control sk-hidden--visually\" id=\"sk-estimator-id-7\" type=\"checkbox\" ><label for=\"sk-estimator-id-7\" class=\"sk-toggleable__label sk-toggleable__label-arrow\">OneHotEncoder</label><div class=\"sk-toggleable__content\"><pre>OneHotEncoder(drop=[&#x27;Regular&#x27;, &#x27;Others&#x27;, &#x27;OUT049&#x27;, &#x27;Unknown&#x27;, &#x27;Grocery Store&#x27;],\n",
       "              sparse_output=False)</pre></div></div></div></div></div></div></div></div></div></div></div></div>"
      ],
      "text/plain": [
       "ColumnTransformer(transformers=[('pipeline-1',\n",
       "                                 Pipeline(steps=[('simpleimputer',\n",
       "                                                  SimpleImputer()),\n",
       "                                                 ('standardscaler',\n",
       "                                                  StandardScaler())]),\n",
       "                                 <sklearn.compose._column_transformer.make_column_selector object at 0x7f8a40ea03d0>),\n",
       "                                ('pipeline-2',\n",
       "                                 Pipeline(steps=[('simpleimputer',\n",
       "                                                  SimpleImputer(fill_value='Unknown',\n",
       "                                                                strategy='constant')),\n",
       "                                                 ('onehotencoder',\n",
       "                                                  OneHotEncoder(drop=['Regular',\n",
       "                                                                      'Others',\n",
       "                                                                      'OUT049',\n",
       "                                                                      'Unknown',\n",
       "                                                                      'Grocery '\n",
       "                                                                      'Store'],\n",
       "                                                                sparse_output=False))]),\n",
       "                                 <sklearn.compose._column_transformer.make_column_selector object at 0x7f8a3dce9fc0>)],\n",
       "                  verbose_feature_names_out=False)"
      ]
     },
     "execution_count": 32,
     "metadata": {},
     "output_type": "execute_result"
    }
   ],
   "source": [
    "## make the preprocessing column transformer\n",
    "preprocessor = make_column_transformer((num_pipe, num_sel),\n",
    "                                       (cat_pipe,cat_sel),                                      \n",
    "                                       verbose_feature_names_out=False, remainder='drop')\n",
    "preprocessor"
   ]
  },
  {
   "cell_type": "code",
   "execution_count": 33,
   "metadata": {
    "colab": {
     "base_uri": "https://localhost:8080/"
    },
    "executionInfo": {
     "elapsed": 13,
     "status": "ok",
     "timestamp": 1685078462163,
     "user": {
      "displayName": "Daisy Rivera",
      "userId": "10557679735270633011"
     },
     "user_tz": 300
    },
    "id": "GnYsHOyD254e",
    "outputId": "6146385e-88d6-4570-cebe-c482cba640ae"
   },
   "outputs": [
    {
     "data": {
      "text/plain": [
       "array(['Item_Weight', 'Item_Visibility', 'Item_MRP',\n",
       "       'Outlet_Establishment_Year', 'Outlet_Location_Type',\n",
       "       'Item_Fat_Content_Low Fat', 'Item_Type_Baking Goods',\n",
       "       'Item_Type_Breads', 'Item_Type_Breakfast', 'Item_Type_Canned',\n",
       "       'Item_Type_Dairy', 'Item_Type_Frozen Foods',\n",
       "       'Item_Type_Fruits and Vegetables', 'Item_Type_Hard Drinks',\n",
       "       'Item_Type_Health and Hygiene', 'Item_Type_Household',\n",
       "       'Item_Type_Meat', 'Item_Type_Seafood', 'Item_Type_Snack Foods',\n",
       "       'Item_Type_Soft Drinks', 'Item_Type_Starchy Foods',\n",
       "       'Outlet_Identifier_OUT010', 'Outlet_Identifier_OUT013',\n",
       "       'Outlet_Identifier_OUT017', 'Outlet_Identifier_OUT018',\n",
       "       'Outlet_Identifier_OUT019', 'Outlet_Identifier_OUT027',\n",
       "       'Outlet_Identifier_OUT035', 'Outlet_Identifier_OUT045',\n",
       "       'Outlet_Identifier_OUT046', 'Outlet_Size_High',\n",
       "       'Outlet_Size_Medium', 'Outlet_Size_Small',\n",
       "       'Outlet_Type_Supermarket Type1', 'Outlet_Type_Supermarket Type2',\n",
       "       'Outlet_Type_Supermarket Type3'], dtype=object)"
      ]
     },
     "execution_count": 33,
     "metadata": {},
     "output_type": "execute_result"
    }
   ],
   "source": [
    "## fit column transformer and run get_feature_names_out\n",
    "preprocessor.fit(X_train)\n",
    "feature_names = preprocessor.get_feature_names_out()\n",
    "feature_names"
   ]
  },
  {
   "cell_type": "code",
   "execution_count": 34,
   "metadata": {
    "colab": {
     "base_uri": "https://localhost:8080/",
     "height": 225
    },
    "executionInfo": {
     "elapsed": 11,
     "status": "ok",
     "timestamp": 1685078462163,
     "user": {
      "displayName": "Daisy Rivera",
      "userId": "10557679735270633011"
     },
     "user_tz": 300
    },
    "id": "EWd6XZp09ePx",
    "outputId": "19aeee5b-c63a-4ccc-f3d6-63342f72992f"
   },
   "outputs": [
    {
     "data": {
      "text/html": [
       "\n",
       "  <div id=\"df-52a1e710-e3c9-473c-a6d8-e3ca51eb9d0a\">\n",
       "    <div class=\"colab-df-container\">\n",
       "      <div>\n",
       "<style scoped>\n",
       "    .dataframe tbody tr th:only-of-type {\n",
       "        vertical-align: middle;\n",
       "    }\n",
       "\n",
       "    .dataframe tbody tr th {\n",
       "        vertical-align: top;\n",
       "    }\n",
       "\n",
       "    .dataframe thead th {\n",
       "        text-align: right;\n",
       "    }\n",
       "</style>\n",
       "<table border=\"1\" class=\"dataframe\">\n",
       "  <thead>\n",
       "    <tr style=\"text-align: right;\">\n",
       "      <th></th>\n",
       "      <th>Item_Weight</th>\n",
       "      <th>Item_Visibility</th>\n",
       "      <th>Item_MRP</th>\n",
       "      <th>Outlet_Establishment_Year</th>\n",
       "      <th>Outlet_Location_Type</th>\n",
       "      <th>Item_Fat_Content_Low Fat</th>\n",
       "      <th>Item_Type_Baking Goods</th>\n",
       "      <th>Item_Type_Breads</th>\n",
       "      <th>Item_Type_Breakfast</th>\n",
       "      <th>Item_Type_Canned</th>\n",
       "      <th>Item_Type_Dairy</th>\n",
       "      <th>Item_Type_Frozen Foods</th>\n",
       "      <th>Item_Type_Fruits and Vegetables</th>\n",
       "      <th>Item_Type_Hard Drinks</th>\n",
       "      <th>Item_Type_Health and Hygiene</th>\n",
       "      <th>Item_Type_Household</th>\n",
       "      <th>Item_Type_Meat</th>\n",
       "      <th>Item_Type_Seafood</th>\n",
       "      <th>Item_Type_Snack Foods</th>\n",
       "      <th>Item_Type_Soft Drinks</th>\n",
       "      <th>Item_Type_Starchy Foods</th>\n",
       "      <th>Outlet_Identifier_OUT010</th>\n",
       "      <th>Outlet_Identifier_OUT013</th>\n",
       "      <th>Outlet_Identifier_OUT017</th>\n",
       "      <th>Outlet_Identifier_OUT018</th>\n",
       "      <th>Outlet_Identifier_OUT019</th>\n",
       "      <th>Outlet_Identifier_OUT027</th>\n",
       "      <th>Outlet_Identifier_OUT035</th>\n",
       "      <th>Outlet_Identifier_OUT045</th>\n",
       "      <th>Outlet_Identifier_OUT046</th>\n",
       "      <th>Outlet_Size_High</th>\n",
       "      <th>Outlet_Size_Medium</th>\n",
       "      <th>Outlet_Size_Small</th>\n",
       "      <th>Outlet_Type_Supermarket Type1</th>\n",
       "      <th>Outlet_Type_Supermarket Type2</th>\n",
       "      <th>Outlet_Type_Supermarket Type3</th>\n",
       "    </tr>\n",
       "  </thead>\n",
       "  <tbody>\n",
       "    <tr>\n",
       "      <th>8269</th>\n",
       "      <td>-1.32</td>\n",
       "      <td>-0.04</td>\n",
       "      <td>-1.27</td>\n",
       "      <td>0.03</td>\n",
       "      <td>1.10</td>\n",
       "      <td>0.00</td>\n",
       "      <td>1.00</td>\n",
       "      <td>0.00</td>\n",
       "      <td>0.00</td>\n",
       "      <td>0.00</td>\n",
       "      <td>0.00</td>\n",
       "      <td>0.00</td>\n",
       "      <td>0.00</td>\n",
       "      <td>0.00</td>\n",
       "      <td>0.00</td>\n",
       "      <td>0.00</td>\n",
       "      <td>0.00</td>\n",
       "      <td>0.00</td>\n",
       "      <td>0.00</td>\n",
       "      <td>0.00</td>\n",
       "      <td>0.00</td>\n",
       "      <td>1.00</td>\n",
       "      <td>0.00</td>\n",
       "      <td>0.00</td>\n",
       "      <td>0.00</td>\n",
       "      <td>0.00</td>\n",
       "      <td>0.00</td>\n",
       "      <td>0.00</td>\n",
       "      <td>0.00</td>\n",
       "      <td>0.00</td>\n",
       "      <td>0.00</td>\n",
       "      <td>0.00</td>\n",
       "      <td>0.00</td>\n",
       "      <td>0.00</td>\n",
       "      <td>0.00</td>\n",
       "      <td>0.00</td>\n",
       "    </tr>\n",
       "    <tr>\n",
       "      <th>7604</th>\n",
       "      <td>-1.57</td>\n",
       "      <td>0.25</td>\n",
       "      <td>-0.46</td>\n",
       "      <td>1.34</td>\n",
       "      <td>1.10</td>\n",
       "      <td>1.00</td>\n",
       "      <td>0.00</td>\n",
       "      <td>0.00</td>\n",
       "      <td>0.00</td>\n",
       "      <td>0.00</td>\n",
       "      <td>0.00</td>\n",
       "      <td>0.00</td>\n",
       "      <td>0.00</td>\n",
       "      <td>0.00</td>\n",
       "      <td>0.00</td>\n",
       "      <td>0.00</td>\n",
       "      <td>0.00</td>\n",
       "      <td>0.00</td>\n",
       "      <td>0.00</td>\n",
       "      <td>1.00</td>\n",
       "      <td>0.00</td>\n",
       "      <td>0.00</td>\n",
       "      <td>0.00</td>\n",
       "      <td>0.00</td>\n",
       "      <td>1.00</td>\n",
       "      <td>0.00</td>\n",
       "      <td>0.00</td>\n",
       "      <td>0.00</td>\n",
       "      <td>0.00</td>\n",
       "      <td>0.00</td>\n",
       "      <td>0.00</td>\n",
       "      <td>1.00</td>\n",
       "      <td>0.00</td>\n",
       "      <td>0.00</td>\n",
       "      <td>1.00</td>\n",
       "      <td>0.00</td>\n",
       "    </tr>\n",
       "    <tr>\n",
       "      <th>2762</th>\n",
       "      <td>-0.16</td>\n",
       "      <td>-0.73</td>\n",
       "      <td>0.18</td>\n",
       "      <td>0.74</td>\n",
       "      <td>-0.13</td>\n",
       "      <td>1.00</td>\n",
       "      <td>0.00</td>\n",
       "      <td>0.00</td>\n",
       "      <td>0.00</td>\n",
       "      <td>0.00</td>\n",
       "      <td>0.00</td>\n",
       "      <td>0.00</td>\n",
       "      <td>0.00</td>\n",
       "      <td>0.00</td>\n",
       "      <td>0.00</td>\n",
       "      <td>1.00</td>\n",
       "      <td>0.00</td>\n",
       "      <td>0.00</td>\n",
       "      <td>0.00</td>\n",
       "      <td>0.00</td>\n",
       "      <td>0.00</td>\n",
       "      <td>0.00</td>\n",
       "      <td>0.00</td>\n",
       "      <td>0.00</td>\n",
       "      <td>0.00</td>\n",
       "      <td>0.00</td>\n",
       "      <td>0.00</td>\n",
       "      <td>1.00</td>\n",
       "      <td>0.00</td>\n",
       "      <td>0.00</td>\n",
       "      <td>0.00</td>\n",
       "      <td>0.00</td>\n",
       "      <td>1.00</td>\n",
       "      <td>1.00</td>\n",
       "      <td>0.00</td>\n",
       "      <td>0.00</td>\n",
       "    </tr>\n",
       "  </tbody>\n",
       "</table>\n",
       "</div>\n",
       "      <button class=\"colab-df-convert\" onclick=\"convertToInteractive('df-52a1e710-e3c9-473c-a6d8-e3ca51eb9d0a')\"\n",
       "              title=\"Convert this dataframe to an interactive table.\"\n",
       "              style=\"display:none;\">\n",
       "        \n",
       "  <svg xmlns=\"http://www.w3.org/2000/svg\" height=\"24px\"viewBox=\"0 0 24 24\"\n",
       "       width=\"24px\">\n",
       "    <path d=\"M0 0h24v24H0V0z\" fill=\"none\"/>\n",
       "    <path d=\"M18.56 5.44l.94 2.06.94-2.06 2.06-.94-2.06-.94-.94-2.06-.94 2.06-2.06.94zm-11 1L8.5 8.5l.94-2.06 2.06-.94-2.06-.94L8.5 2.5l-.94 2.06-2.06.94zm10 10l.94 2.06.94-2.06 2.06-.94-2.06-.94-.94-2.06-.94 2.06-2.06.94z\"/><path d=\"M17.41 7.96l-1.37-1.37c-.4-.4-.92-.59-1.43-.59-.52 0-1.04.2-1.43.59L10.3 9.45l-7.72 7.72c-.78.78-.78 2.05 0 2.83L4 21.41c.39.39.9.59 1.41.59.51 0 1.02-.2 1.41-.59l7.78-7.78 2.81-2.81c.8-.78.8-2.07 0-2.86zM5.41 20L4 18.59l7.72-7.72 1.47 1.35L5.41 20z\"/>\n",
       "  </svg>\n",
       "      </button>\n",
       "      \n",
       "  <style>\n",
       "    .colab-df-container {\n",
       "      display:flex;\n",
       "      flex-wrap:wrap;\n",
       "      gap: 12px;\n",
       "    }\n",
       "\n",
       "    .colab-df-convert {\n",
       "      background-color: #E8F0FE;\n",
       "      border: none;\n",
       "      border-radius: 50%;\n",
       "      cursor: pointer;\n",
       "      display: none;\n",
       "      fill: #1967D2;\n",
       "      height: 32px;\n",
       "      padding: 0 0 0 0;\n",
       "      width: 32px;\n",
       "    }\n",
       "\n",
       "    .colab-df-convert:hover {\n",
       "      background-color: #E2EBFA;\n",
       "      box-shadow: 0px 1px 2px rgba(60, 64, 67, 0.3), 0px 1px 3px 1px rgba(60, 64, 67, 0.15);\n",
       "      fill: #174EA6;\n",
       "    }\n",
       "\n",
       "    [theme=dark] .colab-df-convert {\n",
       "      background-color: #3B4455;\n",
       "      fill: #D2E3FC;\n",
       "    }\n",
       "\n",
       "    [theme=dark] .colab-df-convert:hover {\n",
       "      background-color: #434B5C;\n",
       "      box-shadow: 0px 1px 3px 1px rgba(0, 0, 0, 0.15);\n",
       "      filter: drop-shadow(0px 1px 2px rgba(0, 0, 0, 0.3));\n",
       "      fill: #FFFFFF;\n",
       "    }\n",
       "  </style>\n",
       "\n",
       "      <script>\n",
       "        const buttonEl =\n",
       "          document.querySelector('#df-52a1e710-e3c9-473c-a6d8-e3ca51eb9d0a button.colab-df-convert');\n",
       "        buttonEl.style.display =\n",
       "          google.colab.kernel.accessAllowed ? 'block' : 'none';\n",
       "\n",
       "        async function convertToInteractive(key) {\n",
       "          const element = document.querySelector('#df-52a1e710-e3c9-473c-a6d8-e3ca51eb9d0a');\n",
       "          const dataTable =\n",
       "            await google.colab.kernel.invokeFunction('convertToInteractive',\n",
       "                                                     [key], {});\n",
       "          if (!dataTable) return;\n",
       "\n",
       "          const docLinkHtml = 'Like what you see? Visit the ' +\n",
       "            '<a target=\"_blank\" href=https://colab.research.google.com/notebooks/data_table.ipynb>data table notebook</a>'\n",
       "            + ' to learn more about interactive tables.';\n",
       "          element.innerHTML = '';\n",
       "          dataTable['output_type'] = 'display_data';\n",
       "          await google.colab.output.renderOutput(dataTable, element);\n",
       "          const docLink = document.createElement('div');\n",
       "          docLink.innerHTML = docLinkHtml;\n",
       "          element.appendChild(docLink);\n",
       "        }\n",
       "      </script>\n",
       "    </div>\n",
       "  </div>\n",
       "  "
      ],
      "text/plain": [
       "      Item_Weight  Item_Visibility  Item_MRP  Outlet_Establishment_Year  \\\n",
       "8269        -1.32            -0.04     -1.27                       0.03   \n",
       "7604        -1.57             0.25     -0.46                       1.34   \n",
       "2762        -0.16            -0.73      0.18                       0.74   \n",
       "\n",
       "      Outlet_Location_Type  Item_Fat_Content_Low Fat  Item_Type_Baking Goods  \\\n",
       "8269                  1.10                      0.00                    1.00   \n",
       "7604                  1.10                      1.00                    0.00   \n",
       "2762                 -0.13                      1.00                    0.00   \n",
       "\n",
       "      Item_Type_Breads  Item_Type_Breakfast  Item_Type_Canned  \\\n",
       "8269              0.00                 0.00              0.00   \n",
       "7604              0.00                 0.00              0.00   \n",
       "2762              0.00                 0.00              0.00   \n",
       "\n",
       "      Item_Type_Dairy  Item_Type_Frozen Foods  \\\n",
       "8269             0.00                    0.00   \n",
       "7604             0.00                    0.00   \n",
       "2762             0.00                    0.00   \n",
       "\n",
       "      Item_Type_Fruits and Vegetables  Item_Type_Hard Drinks  \\\n",
       "8269                             0.00                   0.00   \n",
       "7604                             0.00                   0.00   \n",
       "2762                             0.00                   0.00   \n",
       "\n",
       "      Item_Type_Health and Hygiene  Item_Type_Household  Item_Type_Meat  \\\n",
       "8269                          0.00                 0.00            0.00   \n",
       "7604                          0.00                 0.00            0.00   \n",
       "2762                          0.00                 1.00            0.00   \n",
       "\n",
       "      Item_Type_Seafood  Item_Type_Snack Foods  Item_Type_Soft Drinks  \\\n",
       "8269               0.00                   0.00                   0.00   \n",
       "7604               0.00                   0.00                   1.00   \n",
       "2762               0.00                   0.00                   0.00   \n",
       "\n",
       "      Item_Type_Starchy Foods  Outlet_Identifier_OUT010  \\\n",
       "8269                     0.00                      1.00   \n",
       "7604                     0.00                      0.00   \n",
       "2762                     0.00                      0.00   \n",
       "\n",
       "      Outlet_Identifier_OUT013  Outlet_Identifier_OUT017  \\\n",
       "8269                      0.00                      0.00   \n",
       "7604                      0.00                      0.00   \n",
       "2762                      0.00                      0.00   \n",
       "\n",
       "      Outlet_Identifier_OUT018  Outlet_Identifier_OUT019  \\\n",
       "8269                      0.00                      0.00   \n",
       "7604                      1.00                      0.00   \n",
       "2762                      0.00                      0.00   \n",
       "\n",
       "      Outlet_Identifier_OUT027  Outlet_Identifier_OUT035  \\\n",
       "8269                      0.00                      0.00   \n",
       "7604                      0.00                      0.00   \n",
       "2762                      0.00                      1.00   \n",
       "\n",
       "      Outlet_Identifier_OUT045  Outlet_Identifier_OUT046  Outlet_Size_High  \\\n",
       "8269                      0.00                      0.00              0.00   \n",
       "7604                      0.00                      0.00              0.00   \n",
       "2762                      0.00                      0.00              0.00   \n",
       "\n",
       "      Outlet_Size_Medium  Outlet_Size_Small  Outlet_Type_Supermarket Type1  \\\n",
       "8269                0.00               0.00                           0.00   \n",
       "7604                1.00               0.00                           0.00   \n",
       "2762                0.00               1.00                           1.00   \n",
       "\n",
       "      Outlet_Type_Supermarket Type2  Outlet_Type_Supermarket Type3  \n",
       "8269                           0.00                           0.00  \n",
       "7604                           1.00                           0.00  \n",
       "2762                           0.00                           0.00  "
      ]
     },
     "execution_count": 34,
     "metadata": {},
     "output_type": "execute_result"
    }
   ],
   "source": [
    "# create a preprocessed DataFrame for training set\n",
    "X_train_df = pd.DataFrame(preprocessor.transform(X_train),\n",
    "                           columns = feature_names, index = X_train.index)\n",
    "X_train_df.head(3)"
   ]
  },
  {
   "cell_type": "code",
   "execution_count": 35,
   "metadata": {
    "colab": {
     "base_uri": "https://localhost:8080/",
     "height": 225
    },
    "executionInfo": {
     "elapsed": 270,
     "status": "ok",
     "timestamp": 1685078462423,
     "user": {
      "displayName": "Daisy Rivera",
      "userId": "10557679735270633011"
     },
     "user_tz": 300
    },
    "id": "ZRllGsnH-kj6",
    "outputId": "ce30254d-3351-4502-aae2-b2737ab39cbb"
   },
   "outputs": [
    {
     "data": {
      "text/html": [
       "\n",
       "  <div id=\"df-2a4a6da8-3482-46bc-8cf4-14ef1f55d7cd\">\n",
       "    <div class=\"colab-df-container\">\n",
       "      <div>\n",
       "<style scoped>\n",
       "    .dataframe tbody tr th:only-of-type {\n",
       "        vertical-align: middle;\n",
       "    }\n",
       "\n",
       "    .dataframe tbody tr th {\n",
       "        vertical-align: top;\n",
       "    }\n",
       "\n",
       "    .dataframe thead th {\n",
       "        text-align: right;\n",
       "    }\n",
       "</style>\n",
       "<table border=\"1\" class=\"dataframe\">\n",
       "  <thead>\n",
       "    <tr style=\"text-align: right;\">\n",
       "      <th></th>\n",
       "      <th>Item_Weight</th>\n",
       "      <th>Item_Visibility</th>\n",
       "      <th>Item_MRP</th>\n",
       "      <th>Outlet_Establishment_Year</th>\n",
       "      <th>Outlet_Location_Type</th>\n",
       "      <th>Item_Fat_Content_Low Fat</th>\n",
       "      <th>Item_Type_Baking Goods</th>\n",
       "      <th>Item_Type_Breads</th>\n",
       "      <th>Item_Type_Breakfast</th>\n",
       "      <th>Item_Type_Canned</th>\n",
       "      <th>Item_Type_Dairy</th>\n",
       "      <th>Item_Type_Frozen Foods</th>\n",
       "      <th>Item_Type_Fruits and Vegetables</th>\n",
       "      <th>Item_Type_Hard Drinks</th>\n",
       "      <th>Item_Type_Health and Hygiene</th>\n",
       "      <th>Item_Type_Household</th>\n",
       "      <th>Item_Type_Meat</th>\n",
       "      <th>Item_Type_Seafood</th>\n",
       "      <th>Item_Type_Snack Foods</th>\n",
       "      <th>Item_Type_Soft Drinks</th>\n",
       "      <th>Item_Type_Starchy Foods</th>\n",
       "      <th>Outlet_Identifier_OUT010</th>\n",
       "      <th>Outlet_Identifier_OUT013</th>\n",
       "      <th>Outlet_Identifier_OUT017</th>\n",
       "      <th>Outlet_Identifier_OUT018</th>\n",
       "      <th>Outlet_Identifier_OUT019</th>\n",
       "      <th>Outlet_Identifier_OUT027</th>\n",
       "      <th>Outlet_Identifier_OUT035</th>\n",
       "      <th>Outlet_Identifier_OUT045</th>\n",
       "      <th>Outlet_Identifier_OUT046</th>\n",
       "      <th>Outlet_Size_High</th>\n",
       "      <th>Outlet_Size_Medium</th>\n",
       "      <th>Outlet_Size_Small</th>\n",
       "      <th>Outlet_Type_Supermarket Type1</th>\n",
       "      <th>Outlet_Type_Supermarket Type2</th>\n",
       "      <th>Outlet_Type_Supermarket Type3</th>\n",
       "    </tr>\n",
       "  </thead>\n",
       "  <tbody>\n",
       "    <tr>\n",
       "      <th>8077</th>\n",
       "      <td>0.57</td>\n",
       "      <td>-0.09</td>\n",
       "      <td>-0.12</td>\n",
       "      <td>1.10</td>\n",
       "      <td>-0.13</td>\n",
       "      <td>1.00</td>\n",
       "      <td>0.00</td>\n",
       "      <td>0.00</td>\n",
       "      <td>0.00</td>\n",
       "      <td>0.00</td>\n",
       "      <td>0.00</td>\n",
       "      <td>0.00</td>\n",
       "      <td>0.00</td>\n",
       "      <td>0.00</td>\n",
       "      <td>0.00</td>\n",
       "      <td>1.00</td>\n",
       "      <td>0.00</td>\n",
       "      <td>0.00</td>\n",
       "      <td>0.00</td>\n",
       "      <td>0.00</td>\n",
       "      <td>0.00</td>\n",
       "      <td>0.00</td>\n",
       "      <td>0.00</td>\n",
       "      <td>1.00</td>\n",
       "      <td>0.00</td>\n",
       "      <td>0.00</td>\n",
       "      <td>0.00</td>\n",
       "      <td>0.00</td>\n",
       "      <td>0.00</td>\n",
       "      <td>0.00</td>\n",
       "      <td>0.00</td>\n",
       "      <td>0.00</td>\n",
       "      <td>0.00</td>\n",
       "      <td>1.00</td>\n",
       "      <td>0.00</td>\n",
       "      <td>0.00</td>\n",
       "    </tr>\n",
       "    <tr>\n",
       "      <th>2391</th>\n",
       "      <td>1.18</td>\n",
       "      <td>-0.42</td>\n",
       "      <td>-0.20</td>\n",
       "      <td>-0.09</td>\n",
       "      <td>-1.36</td>\n",
       "      <td>1.00</td>\n",
       "      <td>0.00</td>\n",
       "      <td>0.00</td>\n",
       "      <td>0.00</td>\n",
       "      <td>0.00</td>\n",
       "      <td>0.00</td>\n",
       "      <td>0.00</td>\n",
       "      <td>0.00</td>\n",
       "      <td>0.00</td>\n",
       "      <td>0.00</td>\n",
       "      <td>0.00</td>\n",
       "      <td>0.00</td>\n",
       "      <td>0.00</td>\n",
       "      <td>1.00</td>\n",
       "      <td>0.00</td>\n",
       "      <td>0.00</td>\n",
       "      <td>0.00</td>\n",
       "      <td>0.00</td>\n",
       "      <td>0.00</td>\n",
       "      <td>0.00</td>\n",
       "      <td>0.00</td>\n",
       "      <td>0.00</td>\n",
       "      <td>0.00</td>\n",
       "      <td>0.00</td>\n",
       "      <td>1.00</td>\n",
       "      <td>0.00</td>\n",
       "      <td>0.00</td>\n",
       "      <td>1.00</td>\n",
       "      <td>1.00</td>\n",
       "      <td>0.00</td>\n",
       "      <td>0.00</td>\n",
       "    </tr>\n",
       "    <tr>\n",
       "      <th>163</th>\n",
       "      <td>-1.31</td>\n",
       "      <td>0.09</td>\n",
       "      <td>-0.41</td>\n",
       "      <td>-0.09</td>\n",
       "      <td>-1.36</td>\n",
       "      <td>1.00</td>\n",
       "      <td>0.00</td>\n",
       "      <td>0.00</td>\n",
       "      <td>0.00</td>\n",
       "      <td>0.00</td>\n",
       "      <td>0.00</td>\n",
       "      <td>0.00</td>\n",
       "      <td>0.00</td>\n",
       "      <td>0.00</td>\n",
       "      <td>0.00</td>\n",
       "      <td>0.00</td>\n",
       "      <td>0.00</td>\n",
       "      <td>0.00</td>\n",
       "      <td>0.00</td>\n",
       "      <td>1.00</td>\n",
       "      <td>0.00</td>\n",
       "      <td>0.00</td>\n",
       "      <td>0.00</td>\n",
       "      <td>0.00</td>\n",
       "      <td>0.00</td>\n",
       "      <td>0.00</td>\n",
       "      <td>0.00</td>\n",
       "      <td>0.00</td>\n",
       "      <td>0.00</td>\n",
       "      <td>1.00</td>\n",
       "      <td>0.00</td>\n",
       "      <td>0.00</td>\n",
       "      <td>1.00</td>\n",
       "      <td>1.00</td>\n",
       "      <td>0.00</td>\n",
       "      <td>0.00</td>\n",
       "    </tr>\n",
       "  </tbody>\n",
       "</table>\n",
       "</div>\n",
       "      <button class=\"colab-df-convert\" onclick=\"convertToInteractive('df-2a4a6da8-3482-46bc-8cf4-14ef1f55d7cd')\"\n",
       "              title=\"Convert this dataframe to an interactive table.\"\n",
       "              style=\"display:none;\">\n",
       "        \n",
       "  <svg xmlns=\"http://www.w3.org/2000/svg\" height=\"24px\"viewBox=\"0 0 24 24\"\n",
       "       width=\"24px\">\n",
       "    <path d=\"M0 0h24v24H0V0z\" fill=\"none\"/>\n",
       "    <path d=\"M18.56 5.44l.94 2.06.94-2.06 2.06-.94-2.06-.94-.94-2.06-.94 2.06-2.06.94zm-11 1L8.5 8.5l.94-2.06 2.06-.94-2.06-.94L8.5 2.5l-.94 2.06-2.06.94zm10 10l.94 2.06.94-2.06 2.06-.94-2.06-.94-.94-2.06-.94 2.06-2.06.94z\"/><path d=\"M17.41 7.96l-1.37-1.37c-.4-.4-.92-.59-1.43-.59-.52 0-1.04.2-1.43.59L10.3 9.45l-7.72 7.72c-.78.78-.78 2.05 0 2.83L4 21.41c.39.39.9.59 1.41.59.51 0 1.02-.2 1.41-.59l7.78-7.78 2.81-2.81c.8-.78.8-2.07 0-2.86zM5.41 20L4 18.59l7.72-7.72 1.47 1.35L5.41 20z\"/>\n",
       "  </svg>\n",
       "      </button>\n",
       "      \n",
       "  <style>\n",
       "    .colab-df-container {\n",
       "      display:flex;\n",
       "      flex-wrap:wrap;\n",
       "      gap: 12px;\n",
       "    }\n",
       "\n",
       "    .colab-df-convert {\n",
       "      background-color: #E8F0FE;\n",
       "      border: none;\n",
       "      border-radius: 50%;\n",
       "      cursor: pointer;\n",
       "      display: none;\n",
       "      fill: #1967D2;\n",
       "      height: 32px;\n",
       "      padding: 0 0 0 0;\n",
       "      width: 32px;\n",
       "    }\n",
       "\n",
       "    .colab-df-convert:hover {\n",
       "      background-color: #E2EBFA;\n",
       "      box-shadow: 0px 1px 2px rgba(60, 64, 67, 0.3), 0px 1px 3px 1px rgba(60, 64, 67, 0.15);\n",
       "      fill: #174EA6;\n",
       "    }\n",
       "\n",
       "    [theme=dark] .colab-df-convert {\n",
       "      background-color: #3B4455;\n",
       "      fill: #D2E3FC;\n",
       "    }\n",
       "\n",
       "    [theme=dark] .colab-df-convert:hover {\n",
       "      background-color: #434B5C;\n",
       "      box-shadow: 0px 1px 3px 1px rgba(0, 0, 0, 0.15);\n",
       "      filter: drop-shadow(0px 1px 2px rgba(0, 0, 0, 0.3));\n",
       "      fill: #FFFFFF;\n",
       "    }\n",
       "  </style>\n",
       "\n",
       "      <script>\n",
       "        const buttonEl =\n",
       "          document.querySelector('#df-2a4a6da8-3482-46bc-8cf4-14ef1f55d7cd button.colab-df-convert');\n",
       "        buttonEl.style.display =\n",
       "          google.colab.kernel.accessAllowed ? 'block' : 'none';\n",
       "\n",
       "        async function convertToInteractive(key) {\n",
       "          const element = document.querySelector('#df-2a4a6da8-3482-46bc-8cf4-14ef1f55d7cd');\n",
       "          const dataTable =\n",
       "            await google.colab.kernel.invokeFunction('convertToInteractive',\n",
       "                                                     [key], {});\n",
       "          if (!dataTable) return;\n",
       "\n",
       "          const docLinkHtml = 'Like what you see? Visit the ' +\n",
       "            '<a target=\"_blank\" href=https://colab.research.google.com/notebooks/data_table.ipynb>data table notebook</a>'\n",
       "            + ' to learn more about interactive tables.';\n",
       "          element.innerHTML = '';\n",
       "          dataTable['output_type'] = 'display_data';\n",
       "          await google.colab.output.renderOutput(dataTable, element);\n",
       "          const docLink = document.createElement('div');\n",
       "          docLink.innerHTML = docLinkHtml;\n",
       "          element.appendChild(docLink);\n",
       "        }\n",
       "      </script>\n",
       "    </div>\n",
       "  </div>\n",
       "  "
      ],
      "text/plain": [
       "      Item_Weight  Item_Visibility  Item_MRP  Outlet_Establishment_Year  \\\n",
       "8077         0.57            -0.09     -0.12                       1.10   \n",
       "2391         1.18            -0.42     -0.20                      -0.09   \n",
       "163         -1.31             0.09     -0.41                      -0.09   \n",
       "\n",
       "      Outlet_Location_Type  Item_Fat_Content_Low Fat  Item_Type_Baking Goods  \\\n",
       "8077                 -0.13                      1.00                    0.00   \n",
       "2391                 -1.36                      1.00                    0.00   \n",
       "163                  -1.36                      1.00                    0.00   \n",
       "\n",
       "      Item_Type_Breads  Item_Type_Breakfast  Item_Type_Canned  \\\n",
       "8077              0.00                 0.00              0.00   \n",
       "2391              0.00                 0.00              0.00   \n",
       "163               0.00                 0.00              0.00   \n",
       "\n",
       "      Item_Type_Dairy  Item_Type_Frozen Foods  \\\n",
       "8077             0.00                    0.00   \n",
       "2391             0.00                    0.00   \n",
       "163              0.00                    0.00   \n",
       "\n",
       "      Item_Type_Fruits and Vegetables  Item_Type_Hard Drinks  \\\n",
       "8077                             0.00                   0.00   \n",
       "2391                             0.00                   0.00   \n",
       "163                              0.00                   0.00   \n",
       "\n",
       "      Item_Type_Health and Hygiene  Item_Type_Household  Item_Type_Meat  \\\n",
       "8077                          0.00                 1.00            0.00   \n",
       "2391                          0.00                 0.00            0.00   \n",
       "163                           0.00                 0.00            0.00   \n",
       "\n",
       "      Item_Type_Seafood  Item_Type_Snack Foods  Item_Type_Soft Drinks  \\\n",
       "8077               0.00                   0.00                   0.00   \n",
       "2391               0.00                   1.00                   0.00   \n",
       "163                0.00                   0.00                   1.00   \n",
       "\n",
       "      Item_Type_Starchy Foods  Outlet_Identifier_OUT010  \\\n",
       "8077                     0.00                      0.00   \n",
       "2391                     0.00                      0.00   \n",
       "163                      0.00                      0.00   \n",
       "\n",
       "      Outlet_Identifier_OUT013  Outlet_Identifier_OUT017  \\\n",
       "8077                      0.00                      1.00   \n",
       "2391                      0.00                      0.00   \n",
       "163                       0.00                      0.00   \n",
       "\n",
       "      Outlet_Identifier_OUT018  Outlet_Identifier_OUT019  \\\n",
       "8077                      0.00                      0.00   \n",
       "2391                      0.00                      0.00   \n",
       "163                       0.00                      0.00   \n",
       "\n",
       "      Outlet_Identifier_OUT027  Outlet_Identifier_OUT035  \\\n",
       "8077                      0.00                      0.00   \n",
       "2391                      0.00                      0.00   \n",
       "163                       0.00                      0.00   \n",
       "\n",
       "      Outlet_Identifier_OUT045  Outlet_Identifier_OUT046  Outlet_Size_High  \\\n",
       "8077                      0.00                      0.00              0.00   \n",
       "2391                      0.00                      1.00              0.00   \n",
       "163                       0.00                      1.00              0.00   \n",
       "\n",
       "      Outlet_Size_Medium  Outlet_Size_Small  Outlet_Type_Supermarket Type1  \\\n",
       "8077                0.00               0.00                           1.00   \n",
       "2391                0.00               1.00                           1.00   \n",
       "163                 0.00               1.00                           1.00   \n",
       "\n",
       "      Outlet_Type_Supermarket Type2  Outlet_Type_Supermarket Type3  \n",
       "8077                           0.00                           0.00  \n",
       "2391                           0.00                           0.00  \n",
       "163                            0.00                           0.00  "
      ]
     },
     "execution_count": 35,
     "metadata": {},
     "output_type": "execute_result"
    }
   ],
   "source": [
    "# create a preprocessed DataFrame for test set\n",
    "X_test_df = pd.DataFrame(preprocessor.transform(X_test),\n",
    "                           columns = feature_names, index = X_test.index)\n",
    "X_test_df.head(3)"
   ]
  },
  {
   "cell_type": "code",
   "execution_count": 36,
   "metadata": {
    "colab": {
     "base_uri": "https://localhost:8080/"
    },
    "executionInfo": {
     "elapsed": 10,
     "status": "ok",
     "timestamp": 1685078462423,
     "user": {
      "displayName": "Daisy Rivera",
      "userId": "10557679735270633011"
     },
     "user_tz": 300
    },
    "id": "nmuEt9HF-ps8",
    "outputId": "fc225c02-4f3a-4959-e8f5-050df2a8a339"
   },
   "outputs": [
    {
     "data": {
      "text/plain": [
       "8077   1,696.46\n",
       "2391   2,024.03\n",
       "163    2,618.59\n",
       "Name: Item_Outlet_Sales, dtype: float64"
      ]
     },
     "execution_count": 36,
     "metadata": {},
     "output_type": "execute_result"
    }
   ],
   "source": [
    "## confirm the first 3 rows index in y_test matches X_test_df\n",
    "y_test.head(3)"
   ]
  },
  {
   "cell_type": "markdown",
   "metadata": {
    "id": "5XHUNm-N4XX5"
   },
   "source": [
    "## Modeling"
   ]
  },
  {
   "cell_type": "markdown",
   "metadata": {
    "id": "CU9HjtQW4aBG"
   },
   "source": [
    "### Model 1 - Linear Regression"
   ]
  },
  {
   "cell_type": "code",
   "execution_count": 37,
   "metadata": {
    "colab": {
     "base_uri": "https://localhost:8080/"
    },
    "executionInfo": {
     "elapsed": 9,
     "status": "ok",
     "timestamp": 1685078462424,
     "user": {
      "displayName": "Daisy Rivera",
      "userId": "10557679735270633011"
     },
     "user_tz": 300
    },
    "id": "xcFELzGnP1J9",
    "outputId": "56c21e37-3702-4994-f232-41dc5130d32b"
   },
   "outputs": [
    {
     "name": "stdout",
     "output_type": "stream",
     "text": [
      "Training Data:\tR^2= 0.56\tRMSE= 1114.99\n",
      "Test Data:\tR^2= 0.56\tRMSE= 1164.40\n"
     ]
    }
   ],
   "source": [
    "## fitting default linear regression model\n",
    "lin_reg = LinearRegression()\n",
    "lin_reg.fit(X_train_df, y_train)\n",
    "evaluate_regression(lin_reg, X_train_df, y_train, X_test_df,y_test)"
   ]
  },
  {
   "cell_type": "code",
   "execution_count": 38,
   "metadata": {
    "colab": {
     "base_uri": "https://localhost:8080/",
     "height": 492
    },
    "executionInfo": {
     "elapsed": 758,
     "status": "ok",
     "timestamp": 1685078463175,
     "user": {
      "displayName": "Daisy Rivera",
      "userId": "10557679735270633011"
     },
     "user_tz": 300
    },
    "id": "bAyqjm13WiDM",
    "outputId": "a06e8466-d44d-4027-e2fa-1ff012bb6c4e"
   },
   "outputs": [
    {
     "data": {
      "image/png": "[encoded data removed]",
      "text/plain": [
       "<Figure size 400x500 with 1 Axes>"
      ]
     },
     "metadata": {},
     "output_type": "display_data"
    }
   ],
   "source": [
    "#extracting coefficients using function\n",
    "coeffs = get_coeffs_linreg(lin_reg)\n",
    "## plotting all coefficients and intercept\n",
    "plot_coeffs(coeffs, intercept=True);"
   ]
  },
  {
   "cell_type": "code",
   "execution_count": 39,
   "metadata": {
    "colab": {
     "base_uri": "https://localhost:8080/",
     "height": 492
    },
    "executionInfo": {
     "elapsed": 142,
     "status": "ok",
     "timestamp": 1685078463313,
     "user": {
      "displayName": "Daisy Rivera",
      "userId": "10557679735270633011"
     },
     "user_tz": 300
    },
    "id": "T5aXDkbyW0Xm",
    "outputId": "723a7499-fb33-4d76-bfc5-48e1645a8823"
   },
   "outputs": [
    {
     "data": {
      "image/png": "[encoded data removed]",
      "text/plain": [
       "<Figure size 400x500 with 1 Axes>"
      ]
     },
     "metadata": {},
     "output_type": "display_data"
    }
   ],
   "source": [
    "#plotting top 3 coefficients excluding intercept\n",
    "plot_coeffs(coeffs, top_n=3, annotate=True);"
   ]
  },
  {
   "cell_type": "markdown",
   "metadata": {
    "id": "QgOQszamBB1D"
   },
   "source": [
    "###Evaluating Coefficients"
   ]
  },
  {
   "cell_type": "markdown",
   "metadata": {
    "id": "TWZoKaN-Y94f"
   },
   "source": [
    "All of my coefficients were categorical items. The 3 largest coefficients I have are: OUtlet_Size_Medium, Outlet_Identifier_OUT019 and Outlet_Type_Supermarket Type3. Belonging to these categories will have the following changes to the target:\n",
    "- Outlet_Size_Medium : 33577528470196481 \n",
    "- Outlet_Identifier_OUT019 : 3137133190522628\n",
    "- Outlet_Type_Supermarket Type3 : (-3068332354615559.5)"
   ]
  },
  {
   "cell_type": "markdown",
   "metadata": {
    "id": "N63WG1GXZXP9"
   },
   "source": [
    "### Serializing and Saving Model"
   ]
  },
  {
   "cell_type": "code",
   "execution_count": 40,
   "metadata": {
    "colab": {
     "base_uri": "https://localhost:8080/"
    },
    "executionInfo": {
     "elapsed": 16,
     "status": "ok",
     "timestamp": 1685078463314,
     "user": {
      "displayName": "Daisy Rivera",
      "userId": "10557679735270633011"
     },
     "user_tz": 300
    },
    "id": "zRTXQ39d5ZDr",
    "outputId": "9e757aab-7b2f-4dc1-ba2d-1ce170dddcf2"
   },
   "outputs": [
    {
     "data": {
      "text/plain": [
       "['linear_regressor.joblib']"
      ]
     },
     "execution_count": 40,
     "metadata": {},
     "output_type": "execute_result"
    }
   ],
   "source": [
    "## creating a dictionary of all of the variables to save for later\n",
    "export_linreg = {'X_train':X_train_df,\n",
    "         'y_train': y_train,\n",
    "         'X_test':X_test_df,\n",
    "          \"y_test\": y_test,\n",
    "         'preprocessor':preprocessor,\n",
    "         'LinearRegressor':lin_reg}\n",
    "joblib.dump(export_linreg, 'linear_regressor.joblib')"
   ]
  },
  {
   "cell_type": "markdown",
   "metadata": {
    "id": "USLNAPTz4ef1"
   },
   "source": [
    "### Model 2 - DecisionTree"
   ]
  },
  {
   "cell_type": "code",
   "execution_count": 41,
   "metadata": {
    "colab": {
     "base_uri": "https://localhost:8080/"
    },
    "executionInfo": {
     "elapsed": 12,
     "status": "ok",
     "timestamp": 1685078463314,
     "user": {
      "displayName": "Daisy Rivera",
      "userId": "10557679735270633011"
     },
     "user_tz": 300
    },
    "id": "VeRY4K4QcFk9",
    "outputId": "bc9e6744-57fa-4b04-e3f8-a2b2897d8d67"
   },
   "outputs": [
    {
     "name": "stdout",
     "output_type": "stream",
     "text": [
      "Training Data:\tR^2= 1.00\tRMSE= 0.00\n",
      "Test Data:\tR^2= 0.21\tRMSE= 1558.44\n"
     ]
    }
   ],
   "source": [
    "#instantiating model\n",
    "dec = DecisionTreeRegressor(random_state=SEED)\n",
    "#fitting data on processed training dataframe\n",
    "dec.fit(X_train_df,y_train)\n",
    "#evaluating model using function\n",
    "evaluate_regression(dec, X_train_df, y_train, X_test_df, y_test)"
   ]
  },
  {
   "cell_type": "markdown",
   "metadata": {
    "id": "l0ZCpRuVx7Cc"
   },
   "source": [
    "### Tuning Model Using GridSearchCV"
   ]
  },
  {
   "cell_type": "code",
   "execution_count": 42,
   "metadata": {
    "colab": {
     "base_uri": "https://localhost:8080/"
    },
    "executionInfo": {
     "elapsed": 9,
     "status": "ok",
     "timestamp": 1685078463314,
     "user": {
      "displayName": "Daisy Rivera",
      "userId": "10557679735270633011"
     },
     "user_tz": 300
    },
    "id": "VOwoypXux7Cd",
    "outputId": "3a2435e5-e111-43ca-b9e3-160e7353fb32"
   },
   "outputs": [
    {
     "data": {
      "text/plain": [
       "{'ccp_alpha': 0.0,\n",
       " 'criterion': 'squared_error',\n",
       " 'max_depth': None,\n",
       " 'max_features': None,\n",
       " 'max_leaf_nodes': None,\n",
       " 'min_impurity_decrease': 0.0,\n",
       " 'min_samples_leaf': 1,\n",
       " 'min_samples_split': 2,\n",
       " 'min_weight_fraction_leaf': 0.0,\n",
       " 'random_state': 321,\n",
       " 'splitter': 'best'}"
      ]
     },
     "execution_count": 42,
     "metadata": {},
     "output_type": "execute_result"
    }
   ],
   "source": [
    "#viewing available parametors for this model\n",
    "dec.get_params()"
   ]
  },
  {
   "cell_type": "code",
   "execution_count": 43,
   "metadata": {
    "colab": {
     "base_uri": "https://localhost:8080/"
    },
    "executionInfo": {
     "elapsed": 9,
     "status": "ok",
     "timestamp": 1685078463316,
     "user": {
      "displayName": "Daisy Rivera",
      "userId": "10557679735270633011"
     },
     "user_tz": 300
    },
    "id": "K04RqYVE1PK6",
    "outputId": "6d06f1db-86f1-4322-fa58-8df906ced8f1"
   },
   "outputs": [
    {
     "data": {
      "text/plain": [
       "36"
      ]
     },
     "execution_count": 43,
     "metadata": {},
     "output_type": "execute_result"
    }
   ],
   "source": [
    "#verify the decision tree depth\n",
    "dec.get_depth()"
   ]
  },
  {
   "cell_type": "code",
   "execution_count": 44,
   "metadata": {
    "executionInfo": {
     "elapsed": 7,
     "status": "ok",
     "timestamp": 1685078463316,
     "user": {
      "displayName": "Daisy Rivera",
      "userId": "10557679735270633011"
     },
     "user_tz": 300
    },
    "id": "O9nt4onTx7Ce"
   },
   "outputs": [],
   "source": [
    "#creating parameter grid to test\n",
    "dec_param_grid = {'max_depth': list(range(0, 44)),\n",
    "              'max_features': list(range(0, 13))}"
   ]
  },
  {
   "cell_type": "code",
   "execution_count": 45,
   "metadata": {
    "executionInfo": {
     "elapsed": 7,
     "status": "ok",
     "timestamp": 1685078463316,
     "user": {
      "displayName": "Daisy Rivera",
      "userId": "10557679735270633011"
     },
     "user_tz": 300
    },
    "id": "98X8qSDtx7Ce"
   },
   "outputs": [],
   "source": [
    "#creating grid search\n",
    "dec_gs = GridSearchCV(dec, dec_param_grid)"
   ]
  },
  {
   "cell_type": "code",
   "execution_count": 46,
   "metadata": {
    "colab": {
     "base_uri": "https://localhost:8080/",
     "height": 1000
    },
    "executionInfo": {
     "elapsed": 40516,
     "status": "ok",
     "timestamp": 1685078503826,
     "user": {
      "displayName": "Daisy Rivera",
      "userId": "10557679735270633011"
     },
     "user_tz": 300
    },
    "id": "c49gdjC6x7Cf",
    "outputId": "d026c565-2fa2-4226-ff76-135aed9d5514"
   },
   "outputs": [
    {
     "name": "stderr",
     "output_type": "stream",
     "text": [
      "/usr/local/lib/python3.10/dist-packages/sklearn/model_selection/_validation.py:378: FitFailedWarning: \n",
      "280 fits failed out of a total of 2860.\n",
      "The score on these train-test partitions for these parameters will be set to nan.\n",
      "If these failures are not expected, you can try to debug them by setting error_score='raise'.\n",
      "\n",
      "Below are more details about the failures:\n",
      "--------------------------------------------------------------------------------\n",
      "65 fits failed with the following error:\n",
      "Traceback (most recent call last):\n",
      "  File \"/usr/local/lib/python3.10/dist-packages/sklearn/model_selection/_validation.py\", line 686, in _fit_and_score\n",
      "    estimator.fit(X_train, y_train, **fit_params)\n",
      "  File \"/usr/local/lib/python3.10/dist-packages/sklearn/tree/_classes.py\", line 1247, in fit\n",
      "    super().fit(\n",
      "  File \"/usr/local/lib/python3.10/dist-packages/sklearn/tree/_classes.py\", line 177, in fit\n",
      "    self._validate_params()\n",
      "  File \"/usr/local/lib/python3.10/dist-packages/sklearn/base.py\", line 600, in _validate_params\n",
      "    validate_parameter_constraints(\n",
      "  File \"/usr/local/lib/python3.10/dist-packages/sklearn/utils/_param_validation.py\", line 97, in validate_parameter_constraints\n",
      "    raise InvalidParameterError(\n",
      "sklearn.utils._param_validation.InvalidParameterError: The 'max_depth' parameter of DecisionTreeRegressor must be an int in the range [1, inf) or None. Got 0 instead.\n",
      "\n",
      "--------------------------------------------------------------------------------\n",
      "215 fits failed with the following error:\n",
      "Traceback (most recent call last):\n",
      "  File \"/usr/local/lib/python3.10/dist-packages/sklearn/model_selection/_validation.py\", line 686, in _fit_and_score\n",
      "    estimator.fit(X_train, y_train, **fit_params)\n",
      "  File \"/usr/local/lib/python3.10/dist-packages/sklearn/tree/_classes.py\", line 1247, in fit\n",
      "    super().fit(\n",
      "  File \"/usr/local/lib/python3.10/dist-packages/sklearn/tree/_classes.py\", line 177, in fit\n",
      "    self._validate_params()\n",
      "  File \"/usr/local/lib/python3.10/dist-packages/sklearn/base.py\", line 600, in _validate_params\n",
      "    validate_parameter_constraints(\n",
      "  File \"/usr/local/lib/python3.10/dist-packages/sklearn/utils/_param_validation.py\", line 97, in validate_parameter_constraints\n",
      "    raise InvalidParameterError(\n",
      "sklearn.utils._param_validation.InvalidParameterError: The 'max_features' parameter of DecisionTreeRegressor must be an int in the range [1, inf), a float in the range (0.0, 1.0], a str among {'sqrt', 'auto' (deprecated), 'log2'} or None. Got 0 instead.\n",
      "\n",
      "  warnings.warn(some_fits_failed_message, FitFailedWarning)\n",
      "/usr/local/lib/python3.10/dist-packages/sklearn/model_selection/_search.py:952: UserWarning: One or more of the test scores are non-finite: [            nan             nan             nan             nan\n",
      "             nan             nan             nan             nan\n",
      "             nan             nan             nan             nan\n",
      "             nan             nan -1.44965926e-03  7.73592176e-03\n",
      "  7.87289581e-02  7.87289581e-02  7.87289581e-02  7.87289581e-02\n",
      "  7.87289581e-02  7.74465562e-02  7.74465562e-02  7.74465562e-02\n",
      "  2.33530906e-01  2.33530906e-01             nan  2.77669602e-02\n",
      "  8.73047999e-02  7.90495037e-02  9.85565816e-02  1.70627654e-01\n",
      "  8.28844911e-02  1.70637295e-01  8.33045073e-02  2.90716930e-01\n",
      "  1.47806041e-01  3.19261303e-01  2.86748550e-01             nan\n",
      "  2.98712351e-02  1.03464500e-01  8.08244018e-02  1.17199849e-01\n",
      "  1.84156790e-01  1.78529879e-01  2.29751764e-01  1.54019264e-01\n",
      "  3.26363021e-01  4.12312589e-01  3.97242356e-01  3.96795247e-01\n",
      "             nan  8.45919078e-02  2.08233559e-01  2.04508349e-01\n",
      "  1.67903350e-01  2.31726682e-01  4.13176437e-01  2.52813967e-01\n",
      "  3.25549383e-01  3.22007846e-01  3.47759004e-01  4.49647397e-01\n",
      "  4.72524200e-01             nan  1.12887284e-01  1.86465214e-01\n",
      "  2.35425737e-01  2.63207179e-01  2.28769868e-01  4.45836222e-01\n",
      "  2.26421447e-01  2.92720443e-01  4.50496963e-01  4.42048361e-01\n",
      "  5.27715974e-01  5.42721533e-01             nan  7.81733786e-02\n",
      "  2.02565501e-01  2.38151826e-01  2.43656405e-01  2.26214009e-01\n",
      "  4.73418414e-01  2.48106224e-01  3.61770474e-01  4.88104663e-01\n",
      "  4.81484626e-01  5.34150750e-01  5.55484808e-01             nan\n",
      "  1.63964618e-01  2.32859060e-01  3.71911405e-01  2.84564553e-01\n",
      "  3.33909216e-01  4.80316945e-01  4.07147244e-01  3.98555522e-01\n",
      "  4.83429816e-01  4.74418143e-01  5.49232315e-01  5.61730701e-01\n",
      "             nan  1.55151781e-01  2.79011538e-01  2.90904966e-01\n",
      "  3.26569485e-01  3.78042753e-01  5.15158373e-01  3.84727803e-01\n",
      "  3.63819098e-01  5.11444772e-01  4.62763875e-01  5.31515463e-01\n",
      "  5.57305134e-01             nan  2.18102710e-01  2.66914687e-01\n",
      "  2.97471766e-01  3.22943189e-01  3.31372912e-01  5.13217781e-01\n",
      "  3.73791229e-01  4.30704870e-01  5.20691949e-01  4.65742396e-01\n",
      "  5.22671020e-01  5.51723772e-01             nan  2.06818091e-01\n",
      "  2.24391603e-01  3.95274528e-01  3.35663019e-01  4.28371970e-01\n",
      "  5.05538904e-01  4.19714629e-01  4.00218167e-01  5.02585991e-01\n",
      "  4.78055720e-01  4.67846351e-01  5.05780430e-01             nan\n",
      "  1.99361472e-01  2.35572029e-01  3.53331675e-01  3.15127028e-01\n",
      "  3.31361437e-01  4.89674739e-01  3.72994339e-01  4.16168199e-01\n",
      "  4.76358749e-01  5.05714434e-01  4.70703191e-01  4.84680514e-01\n",
      "             nan  2.06947849e-01  2.44005896e-01  2.75273180e-01\n",
      "  3.20495218e-01  3.39434186e-01  4.93793740e-01  4.19044451e-01\n",
      "  3.94287810e-01  4.63407375e-01  4.62307005e-01  4.52308310e-01\n",
      "  4.66080102e-01             nan  1.94970808e-01  2.14868025e-01\n",
      "  3.30990478e-01  2.73899422e-01  3.78634389e-01  4.82447784e-01\n",
      "  3.98164670e-01  3.64020246e-01  4.75094281e-01  4.49571074e-01\n",
      "  4.31222278e-01  4.37013587e-01             nan  2.28414958e-01\n",
      "  2.35951713e-01  3.10228516e-01  2.48333218e-01  3.69117639e-01\n",
      "  4.32160579e-01  3.44630401e-01  3.66288138e-01  3.95286703e-01\n",
      "  4.03031234e-01  3.61076265e-01  4.12212828e-01             nan\n",
      "  1.97688764e-01  2.18048906e-01  3.21891214e-01  2.71781033e-01\n",
      "  3.09969314e-01  4.35559078e-01  3.56654699e-01  3.17686279e-01\n",
      "  3.53740505e-01  4.02755815e-01  3.88798125e-01  3.75599526e-01\n",
      "             nan  1.74306122e-01  2.15048970e-01  2.39135616e-01\n",
      "  2.47317146e-01  3.66525260e-01  3.94219547e-01  3.62292300e-01\n",
      "  3.17340232e-01  3.68390174e-01  3.45761567e-01  3.08974289e-01\n",
      "  3.82324854e-01             nan  1.65301840e-01  1.94998866e-01\n",
      "  1.87084697e-01  2.28224685e-01  3.02365173e-01  3.58005786e-01\n",
      "  3.10491703e-01  2.75949547e-01  3.41892727e-01  3.24104765e-01\n",
      "  3.12177686e-01  3.46322394e-01             nan  1.50286356e-01\n",
      "  1.42173294e-01  1.89525006e-01  2.48358613e-01  2.60548677e-01\n",
      "  3.48725044e-01  2.91582121e-01  2.54055682e-01  2.96216511e-01\n",
      "  3.08059939e-01  2.61993506e-01  2.98737366e-01             nan\n",
      "  1.50694631e-01  1.78061381e-01  2.09737432e-01  1.62430172e-01\n",
      "  2.78002792e-01  2.94316429e-01  2.48514937e-01  2.21987146e-01\n",
      "  2.91847315e-01  2.86787609e-01  2.63401516e-01  2.43243036e-01\n",
      "             nan  9.03474949e-02  1.22965630e-01  1.77361087e-01\n",
      "  1.72230697e-01  2.12949557e-01  2.99034631e-01  2.23751820e-01\n",
      "  1.98975476e-01  2.41517122e-01  2.58420142e-01  2.09801979e-01\n",
      "  2.35569316e-01             nan  9.25340398e-02  8.45345723e-02\n",
      "  1.04684697e-01  1.78242689e-01  1.94563562e-01  2.45838437e-01\n",
      "  2.34802224e-01  1.88411465e-01  2.41529935e-01  2.34530474e-01\n",
      "  2.23600572e-01  2.36577067e-01             nan  3.25292757e-02\n",
      "  9.52655635e-02  1.48153301e-01  1.47514554e-01  1.66936321e-01\n",
      "  2.36900193e-01  1.87872658e-01  1.69901653e-01  2.46067543e-01\n",
      "  2.04498341e-01  2.06678845e-01  2.17979579e-01             nan\n",
      "  7.02855425e-02  7.33292078e-02  1.13797750e-01  1.11162593e-01\n",
      "  1.46821653e-01  2.53567585e-01  1.68956989e-01  1.83686375e-01\n",
      "  1.98142699e-01  2.25113841e-01  1.93687205e-01  2.29829995e-01\n",
      "             nan  1.28001111e-02  5.63703299e-02  1.18943584e-01\n",
      "  1.09886079e-01  1.24747841e-01  1.99486169e-01  1.55423782e-01\n",
      "  1.84335751e-01  1.90044518e-01  2.02086022e-01  1.91716353e-01\n",
      "  2.16874512e-01             nan  5.39324509e-02  4.05863629e-02\n",
      "  9.74177312e-02  1.18254805e-01  1.70908652e-01  2.10082163e-01\n",
      "  1.42821983e-01  1.33241095e-01  2.05127052e-01  2.02571655e-01\n",
      "  1.79201949e-01  1.73097185e-01             nan  3.07795257e-02\n",
      "  4.94563603e-02  9.47149551e-02  8.59682517e-02  1.61267152e-01\n",
      "  1.85279033e-01  1.23230032e-01  1.72931234e-01  1.67403118e-01\n",
      "  1.96222686e-01  1.75888688e-01  2.18314598e-01             nan\n",
      " -1.61937318e-02  8.84803863e-02  1.01731043e-01  1.02649820e-01\n",
      "  1.42684111e-01  1.41831510e-01  1.47413015e-01  1.44476853e-01\n",
      "  1.64243210e-01  1.65681132e-01  1.95106804e-01  1.80933785e-01\n",
      "             nan  3.18585255e-03  4.44834912e-02  1.08861605e-01\n",
      "  8.69076853e-02  1.06130401e-01  1.78099028e-01  1.34170357e-01\n",
      "  9.95778585e-02  1.61459774e-01  1.71684322e-01  1.85320815e-01\n",
      "  1.70562775e-01             nan  1.93057230e-02  7.64119893e-02\n",
      "  4.36607505e-02  7.61106821e-02  1.27497751e-01  1.89061061e-01\n",
      "  1.47588327e-01  1.49501085e-01  1.48527273e-01  1.63000177e-01\n",
      "  1.84244875e-01  1.52135950e-01             nan -1.90039861e-02\n",
      "  1.04841070e-02  7.46592017e-02  1.00069539e-01  1.23946313e-01\n",
      "  1.50926088e-01  1.40251483e-01  1.74191123e-01  1.47684509e-01\n",
      "  1.75802931e-01  1.84552948e-01  1.75576579e-01             nan\n",
      " -2.25552222e-02  5.96403373e-02  9.61583177e-02  1.02224417e-01\n",
      "  1.01784581e-01  2.02013838e-01  1.69392790e-01  1.65465987e-01\n",
      "  1.76148788e-01  1.74757134e-01  2.04813787e-01  1.69865051e-01\n",
      "             nan  1.66666646e-02  2.86109127e-02  7.33824907e-02\n",
      "  9.66132377e-02  1.14492706e-01  1.81113322e-01  1.75535772e-01\n",
      "  1.57606505e-01  1.68099929e-01  1.41486486e-01  1.90535014e-01\n",
      "  1.83629039e-01             nan -3.20015485e-03  4.21608545e-02\n",
      "  8.80721807e-02  9.33532424e-02  1.01726002e-01  1.70761975e-01\n",
      "  1.19292656e-01  1.43607836e-01  1.71876785e-01  1.83517884e-01\n",
      "  1.90789942e-01  1.90836204e-01             nan  5.28098023e-04\n",
      "  9.36886356e-03  7.69251823e-02  1.15787999e-01  1.40554556e-01\n",
      "  1.91940883e-01  1.40136517e-01  1.54386665e-01  1.61729446e-01\n",
      "  1.72931670e-01  1.86903960e-01  1.78281307e-01             nan\n",
      " -3.98978947e-03  2.33228609e-02  7.85760617e-02  1.04681092e-01\n",
      "  1.07758991e-01  1.58184741e-01  1.71268851e-01  1.52780331e-01\n",
      "  1.62065091e-01  1.86255191e-01  1.82452123e-01  1.72340655e-01\n",
      "             nan -3.98978947e-03  8.27444075e-03  7.85760617e-02\n",
      "  1.04681092e-01  1.11525979e-01  1.56739841e-01  1.27284556e-01\n",
      "  1.62593810e-01  1.64932431e-01  1.87779999e-01  1.81164592e-01\n",
      "  1.74164691e-01             nan -3.98978947e-03  1.68109733e-02\n",
      "  7.85760617e-02  1.04681092e-01  1.17657141e-01  1.74316359e-01\n",
      "  1.32192890e-01  1.59982341e-01  1.70102179e-01  1.86029793e-01\n",
      "  1.75228395e-01  1.74164691e-01             nan -3.98978947e-03\n",
      "  1.68109733e-02  7.85760617e-02  1.04681092e-01  1.17657141e-01\n",
      "  1.61063308e-01  1.32192890e-01  1.59982341e-01  1.59318909e-01\n",
      "  1.73925477e-01  1.75228395e-01  1.74164691e-01             nan\n",
      " -3.98978947e-03  1.68109733e-02  7.85760617e-02  1.04681092e-01\n",
      "  1.17657141e-01  1.61063308e-01  1.32192890e-01  1.59982341e-01\n",
      "  1.65400733e-01  1.73925477e-01  1.75228395e-01  1.74164691e-01\n",
      "             nan -3.98978947e-03  1.68109733e-02  7.85760617e-02\n",
      "  1.04681092e-01  1.17657141e-01  1.61063308e-01  1.32192890e-01\n",
      "  1.59982341e-01  1.62801032e-01  1.73925477e-01  1.75228395e-01\n",
      "  1.74164691e-01             nan -3.98978947e-03  1.68109733e-02\n",
      "  7.85760617e-02  1.04681092e-01  1.17657141e-01  1.61063308e-01\n",
      "  1.32192890e-01  1.59982341e-01  1.56471958e-01  1.73925477e-01\n",
      "  1.75228395e-01  1.74164691e-01             nan -3.98978947e-03\n",
      "  1.68109733e-02  7.85760617e-02  1.04681092e-01  1.17657141e-01\n",
      "  1.61063308e-01  1.32192890e-01  1.59982341e-01  1.48756565e-01\n",
      "  1.73925477e-01  1.75228395e-01  1.74164691e-01             nan\n",
      " -3.98978947e-03  1.68109733e-02  7.85760617e-02  1.04681092e-01\n",
      "  1.17657141e-01  1.61063308e-01  1.32192890e-01  1.59982341e-01\n",
      "  1.58077554e-01  1.73925477e-01  1.75228395e-01  1.74164691e-01]\n",
      "  warnings.warn(\n"
     ]
    },
    {
     "data": {
      "text/html": [
       "<style>#sk-container-id-2 {color: black;background-color: white;}#sk-container-id-2 pre{padding: 0;}#sk-container-id-2 div.sk-toggleable {background-color: white;}#sk-container-id-2 label.sk-toggleable__label {cursor: pointer;display: block;width: 100%;margin-bottom: 0;padding: 0.3em;box-sizing: border-box;text-align: center;}#sk-container-id-2 label.sk-toggleable__label-arrow:before {content: \"▸\";float: left;margin-right: 0.25em;color: #696969;}#sk-container-id-2 label.sk-toggleable__label-arrow:hover:before {color: black;}#sk-container-id-2 div.sk-estimator:hover label.sk-toggleable__label-arrow:before {color: black;}#sk-container-id-2 div.sk-toggleable__content {max-height: 0;max-width: 0;overflow: hidden;text-align: left;background-color: #f0f8ff;}#sk-container-id-2 div.sk-toggleable__content pre {margin: 0.2em;color: black;border-radius: 0.25em;background-color: #f0f8ff;}#sk-container-id-2 input.sk-toggleable__control:checked~div.sk-toggleable__content {max-height: 200px;max-width: 100%;overflow: auto;}#sk-container-id-2 input.sk-toggleable__control:checked~label.sk-toggleable__label-arrow:before {content: \"▾\";}#sk-container-id-2 div.sk-estimator input.sk-toggleable__control:checked~label.sk-toggleable__label {background-color: #d4ebff;}#sk-container-id-2 div.sk-label input.sk-toggleable__control:checked~label.sk-toggleable__label {background-color: #d4ebff;}#sk-container-id-2 input.sk-hidden--visually {border: 0;clip: rect(1px 1px 1px 1px);clip: rect(1px, 1px, 1px, 1px);height: 1px;margin: -1px;overflow: hidden;padding: 0;position: absolute;width: 1px;}#sk-container-id-2 div.sk-estimator {font-family: monospace;background-color: #f0f8ff;border: 1px dotted black;border-radius: 0.25em;box-sizing: border-box;margin-bottom: 0.5em;}#sk-container-id-2 div.sk-estimator:hover {background-color: #d4ebff;}#sk-container-id-2 div.sk-parallel-item::after {content: \"\";width: 100%;border-bottom: 1px solid gray;flex-grow: 1;}#sk-container-id-2 div.sk-label:hover label.sk-toggleable__label {background-color: #d4ebff;}#sk-container-id-2 div.sk-serial::before {content: \"\";position: absolute;border-left: 1px solid gray;box-sizing: border-box;top: 0;bottom: 0;left: 50%;z-index: 0;}#sk-container-id-2 div.sk-serial {display: flex;flex-direction: column;align-items: center;background-color: white;padding-right: 0.2em;padding-left: 0.2em;position: relative;}#sk-container-id-2 div.sk-item {position: relative;z-index: 1;}#sk-container-id-2 div.sk-parallel {display: flex;align-items: stretch;justify-content: center;background-color: white;position: relative;}#sk-container-id-2 div.sk-item::before, #sk-container-id-2 div.sk-parallel-item::before {content: \"\";position: absolute;border-left: 1px solid gray;box-sizing: border-box;top: 0;bottom: 0;left: 50%;z-index: -1;}#sk-container-id-2 div.sk-parallel-item {display: flex;flex-direction: column;z-index: 1;position: relative;background-color: white;}#sk-container-id-2 div.sk-parallel-item:first-child::after {align-self: flex-end;width: 50%;}#sk-container-id-2 div.sk-parallel-item:last-child::after {align-self: flex-start;width: 50%;}#sk-container-id-2 div.sk-parallel-item:only-child::after {width: 0;}#sk-container-id-2 div.sk-dashed-wrapped {border: 1px dashed gray;margin: 0 0.4em 0.5em 0.4em;box-sizing: border-box;padding-bottom: 0.4em;background-color: white;}#sk-container-id-2 div.sk-label label {font-family: monospace;font-weight: bold;display: inline-block;line-height: 1.2em;}#sk-container-id-2 div.sk-label-container {text-align: center;}#sk-container-id-2 div.sk-container {/* jupyter's `normalize.less` sets `[hidden] { display: none; }` but bootstrap.min.css set `[hidden] { display: none !important; }` so we also need the `!important` here to be able to override the default hidden behavior on the sphinx rendered scikit-learn.org. See: https://github.com/scikit-learn/scikit-learn/issues/21755 */display: inline-block !important;position: relative;}#sk-container-id-2 div.sk-text-repr-fallback {display: none;}</style><div id=\"sk-container-id-2\" class=\"sk-top-container\"><div class=\"sk-text-repr-fallback\"><pre>GridSearchCV(estimator=DecisionTreeRegressor(random_state=321),\n",
       "             param_grid={&#x27;max_depth&#x27;: [0, 1, 2, 3, 4, 5, 6, 7, 8, 9, 10, 11, 12,\n",
       "                                       13, 14, 15, 16, 17, 18, 19, 20, 21, 22,\n",
       "                                       23, 24, 25, 26, 27, 28, 29, ...],\n",
       "                         &#x27;max_features&#x27;: [0, 1, 2, 3, 4, 5, 6, 7, 8, 9, 10, 11,\n",
       "                                          12]})</pre><b>In a Jupyter environment, please rerun this cell to show the HTML representation or trust the notebook. <br />On GitHub, the HTML representation is unable to render, please try loading this page with nbviewer.org.</b></div><div class=\"sk-container\" hidden><div class=\"sk-item sk-dashed-wrapped\"><div class=\"sk-label-container\"><div class=\"sk-label sk-toggleable\"><input class=\"sk-toggleable__control sk-hidden--visually\" id=\"sk-estimator-id-8\" type=\"checkbox\" ><label for=\"sk-estimator-id-8\" class=\"sk-toggleable__label sk-toggleable__label-arrow\">GridSearchCV</label><div class=\"sk-toggleable__content\"><pre>GridSearchCV(estimator=DecisionTreeRegressor(random_state=321),\n",
       "             param_grid={&#x27;max_depth&#x27;: [0, 1, 2, 3, 4, 5, 6, 7, 8, 9, 10, 11, 12,\n",
       "                                       13, 14, 15, 16, 17, 18, 19, 20, 21, 22,\n",
       "                                       23, 24, 25, 26, 27, 28, 29, ...],\n",
       "                         &#x27;max_features&#x27;: [0, 1, 2, 3, 4, 5, 6, 7, 8, 9, 10, 11,\n",
       "                                          12]})</pre></div></div></div><div class=\"sk-parallel\"><div class=\"sk-parallel-item\"><div class=\"sk-item\"><div class=\"sk-label-container\"><div class=\"sk-label sk-toggleable\"><input class=\"sk-toggleable__control sk-hidden--visually\" id=\"sk-estimator-id-9\" type=\"checkbox\" ><label for=\"sk-estimator-id-9\" class=\"sk-toggleable__label sk-toggleable__label-arrow\">estimator: DecisionTreeRegressor</label><div class=\"sk-toggleable__content\"><pre>DecisionTreeRegressor(random_state=321)</pre></div></div></div><div class=\"sk-serial\"><div class=\"sk-item\"><div class=\"sk-estimator sk-toggleable\"><input class=\"sk-toggleable__control sk-hidden--visually\" id=\"sk-estimator-id-10\" type=\"checkbox\" ><label for=\"sk-estimator-id-10\" class=\"sk-toggleable__label sk-toggleable__label-arrow\">DecisionTreeRegressor</label><div class=\"sk-toggleable__content\"><pre>DecisionTreeRegressor(random_state=321)</pre></div></div></div></div></div></div></div></div></div></div>"
      ],
      "text/plain": [
       "GridSearchCV(estimator=DecisionTreeRegressor(random_state=321),\n",
       "             param_grid={'max_depth': [0, 1, 2, 3, 4, 5, 6, 7, 8, 9, 10, 11, 12,\n",
       "                                       13, 14, 15, 16, 17, 18, 19, 20, 21, 22,\n",
       "                                       23, 24, 25, 26, 27, 28, 29, ...],\n",
       "                         'max_features': [0, 1, 2, 3, 4, 5, 6, 7, 8, 9, 10, 11,\n",
       "                                          12]})"
      ]
     },
     "execution_count": 46,
     "metadata": {},
     "output_type": "execute_result"
    }
   ],
   "source": [
    "#fitting grid search\n",
    "dec_gs.fit(X_train_df, y_train)"
   ]
  },
  {
   "cell_type": "code",
   "execution_count": 47,
   "metadata": {
    "colab": {
     "base_uri": "https://localhost:8080/"
    },
    "executionInfo": {
     "elapsed": 12,
     "status": "ok",
     "timestamp": 1685078503828,
     "user": {
      "displayName": "Daisy Rivera",
      "userId": "10557679735270633011"
     },
     "user_tz": 300
    },
    "id": "_4zCEj_qx7Cf",
    "outputId": "e5fe0d41-fb80-4e94-fda0-0d9fe9f3574e"
   },
   "outputs": [
    {
     "data": {
      "text/plain": [
       "{'max_depth': 7, 'max_features': 12}"
      ]
     },
     "execution_count": 47,
     "metadata": {},
     "output_type": "execute_result"
    }
   ],
   "source": [
    "#displaying best parameters\n",
    "dec_gs.best_params_"
   ]
  },
  {
   "cell_type": "markdown",
   "metadata": {
    "id": "1cCHKYsNx7Cg"
   },
   "source": [
    "### Optimized DecisionTree Model"
   ]
  },
  {
   "cell_type": "code",
   "execution_count": 48,
   "metadata": {
    "colab": {
     "base_uri": "https://localhost:8080/"
    },
    "executionInfo": {
     "elapsed": 10,
     "status": "ok",
     "timestamp": 1685078503829,
     "user": {
      "displayName": "Daisy Rivera",
      "userId": "10557679735270633011"
     },
     "user_tz": 300
    },
    "id": "tS4kSXyCyGE1",
    "outputId": "f1ec5c00-028c-4730-af64-dd1add355ded"
   },
   "outputs": [
    {
     "name": "stdout",
     "output_type": "stream",
     "text": [
      "Training Data:\tR^2= 0.61\tRMSE= 1054.65\n",
      "Test Data:\tR^2= 0.59\tRMSE= 1131.28\n"
     ]
    }
   ],
   "source": [
    "#instantiating model\n",
    "dec = DecisionTreeRegressor(max_depth=7, max_features=12, random_state=SEED)\n",
    "#fitting data on processed training dataframe\n",
    "dec.fit(X_train_df,y_train)\n",
    "#evaluating model using function\n",
    "evaluate_regression(dec, X_train_df, y_train, X_test_df, y_test)"
   ]
  },
  {
   "cell_type": "markdown",
   "metadata": {
    "id": "ZVqmmSWZdDMF"
   },
   "source": [
    "### Feature Importances"
   ]
  },
  {
   "cell_type": "code",
   "execution_count": 49,
   "metadata": {
    "colab": {
     "base_uri": "https://localhost:8080/",
     "height": 569
    },
    "executionInfo": {
     "elapsed": 587,
     "status": "ok",
     "timestamp": 1685078504409,
     "user": {
      "displayName": "Daisy Rivera",
      "userId": "10557679735270633011"
     },
     "user_tz": 300
    },
    "id": "QAXNkSe_cndG",
    "outputId": "d262791e-957c-42bc-f7e8-4e9e96d5b0c5"
   },
   "outputs": [
    {
     "data": {
      "image/png": "[encoded data removed]",
      "text/plain": [
       "<Figure size 800x600 with 1 Axes>"
      ]
     },
     "metadata": {},
     "output_type": "display_data"
    }
   ],
   "source": [
    "## Saving the feature importances using function\n",
    "importances = get_importances(dec)\n",
    "#plotting the top 5 important features using function\n",
    "plot_importance(importances, top_n=5);"
   ]
  },
  {
   "cell_type": "markdown",
   "metadata": {
    "id": "NhGB-MW-dG2p"
   },
   "source": [
    "### Permutation Importances"
   ]
  },
  {
   "cell_type": "code",
   "execution_count": 50,
   "metadata": {
    "colab": {
     "base_uri": "https://localhost:8080/"
    },
    "executionInfo": {
     "elapsed": 440,
     "status": "ok",
     "timestamp": 1685078504844,
     "user": {
      "displayName": "Daisy Rivera",
      "userId": "10557679735270633011"
     },
     "user_tz": 300
    },
    "id": "dlwrghGfcwIY",
    "outputId": "6c8be30d-15db-417b-c061-b78a34c5e3a3"
   },
   "outputs": [
    {
     "data": {
      "text/plain": [
       "dict_keys(['importances_mean', 'importances_std', 'importances'])"
      ]
     },
     "execution_count": 50,
     "metadata": {},
     "output_type": "execute_result"
    }
   ],
   "source": [
    "## Permutation importance takes a fit model and the test data.\n",
    "r = permutation_importance(dec, X_test_df, y_test,n_repeats =5)\n",
    "r.keys()"
   ]
  },
  {
   "cell_type": "code",
   "execution_count": 51,
   "metadata": {
    "colab": {
     "base_uri": "https://localhost:8080/"
    },
    "executionInfo": {
     "elapsed": 5,
     "status": "ok",
     "timestamp": 1685078504844,
     "user": {
      "displayName": "Daisy Rivera",
      "userId": "10557679735270633011"
     },
     "user_tz": 300
    },
    "id": "9iImtxIKdvhp",
    "outputId": "8a6b70e7-ddab-4126-9645-7d64f5b89c9f"
   },
   "outputs": [
    {
     "data": {
      "text/plain": [
       "Item_MRP                           0.70\n",
       "Outlet_Type_Supermarket Type3      0.21\n",
       "Outlet_Identifier_OUT010           0.17\n",
       "Outlet_Identifier_OUT019           0.14\n",
       "Outlet_Type_Supermarket Type1      0.08\n",
       "Outlet_Identifier_OUT018           0.02\n",
       "Outlet_Size_Medium                 0.00\n",
       "Outlet_Establishment_Year          0.00\n",
       "Item_Fat_Content_Low Fat           0.00\n",
       "Item_Type_Breakfast                0.00\n",
       "Item_Weight                        0.00\n",
       "Outlet_Identifier_OUT045           0.00\n",
       "Outlet_Identifier_OUT017           0.00\n",
       "Item_Type_Hard Drinks              0.00\n",
       "Item_Type_Household                0.00\n",
       "Item_Type_Soft Drinks              0.00\n",
       "Outlet_Identifier_OUT027           0.00\n",
       "Outlet_Type_Supermarket Type2      0.00\n",
       "Outlet_Location_Type               0.00\n",
       "Outlet_Size_Small                  0.00\n",
       "Outlet_Size_High                   0.00\n",
       "Item_Type_Starchy Foods            0.00\n",
       "Outlet_Identifier_OUT046           0.00\n",
       "Outlet_Identifier_OUT013           0.00\n",
       "Outlet_Identifier_OUT035           0.00\n",
       "Item_Type_Breads                   0.00\n",
       "Item_Type_Frozen Foods            -0.00\n",
       "Item_Type_Seafood                 -0.00\n",
       "Item_Type_Baking Goods            -0.00\n",
       "Item_Type_Fruits and Vegetables   -0.00\n",
       "Item_Type_Meat                    -0.00\n",
       "Item_Type_Canned                  -0.00\n",
       "Item_Type_Snack Foods             -0.00\n",
       "Item_Type_Health and Hygiene      -0.00\n",
       "Item_Visibility                   -0.00\n",
       "Item_Type_Dairy                   -0.00\n",
       "Name: permutation importance, dtype: float64"
      ]
     },
     "execution_count": 51,
     "metadata": {},
     "output_type": "execute_result"
    }
   ],
   "source": [
    "## pull out mean importances from above dictionary and convert into a series\n",
    "permutation_importances = pd.Series(r['importances_mean'],index=X_test_df.columns,\n",
    "                           name = 'permutation importance')\n",
    "permutation_importances = permutation_importances.sort_values(ascending=False)\n",
    "permutation_importances"
   ]
  },
  {
   "cell_type": "code",
   "execution_count": 52,
   "metadata": {
    "colab": {
     "base_uri": "https://localhost:8080/",
     "height": 569
    },
    "executionInfo": {
     "elapsed": 304,
     "status": "ok",
     "timestamp": 1685078505146,
     "user": {
      "displayName": "Daisy Rivera",
      "userId": "10557679735270633011"
     },
     "user_tz": 300
    },
    "id": "AXc6NkxGd-Ve",
    "outputId": "12cfb704-251f-4114-9278-0129170c151e"
   },
   "outputs": [
    {
     "data": {
      "image/png": "[encoded data removed]",
      "text/plain": [
       "<Figure size 800x600 with 1 Axes>"
      ]
     },
     "metadata": {},
     "output_type": "display_data"
    }
   ],
   "source": [
    "#use function to plot top 5 permutation importance\n",
    "ax = plot_importance(permutation_importances,top_n=5)\n",
    "ax.set(xlabel='Permutation Importance');"
   ]
  },
  {
   "cell_type": "markdown",
   "metadata": {
    "id": "mDzTwNbbeKCC"
   },
   "source": [
    "### Serializing and Saving Model"
   ]
  },
  {
   "cell_type": "code",
   "execution_count": 53,
   "metadata": {
    "colab": {
     "base_uri": "https://localhost:8080/"
    },
    "executionInfo": {
     "elapsed": 10,
     "status": "ok",
     "timestamp": 1685078505147,
     "user": {
      "displayName": "Daisy Rivera",
      "userId": "10557679735270633011"
     },
     "user_tz": 300
    },
    "id": "BZFJqvk95Qno",
    "outputId": "d50451bb-d9bc-4338-8bbd-82ad6598583e"
   },
   "outputs": [
    {
     "data": {
      "text/plain": [
       "['decision_tree.joblib']"
      ]
     },
     "execution_count": 53,
     "metadata": {},
     "output_type": "execute_result"
    }
   ],
   "source": [
    "## creating a dictionary of all of the variables to save for later\n",
    "export_dec = {'X_train':X_train_df,\n",
    "         'y_train': y_train,\n",
    "         'X_test':X_test_df,\n",
    "          \"y_test\": y_test,\n",
    "         'preprocessor':preprocessor,\n",
    "         'DecisionTree':dec}\n",
    "joblib.dump(export_dec, 'decision_tree.joblib')"
   ]
  },
  {
   "cell_type": "markdown",
   "metadata": {
    "id": "rkuh7b09Av_v"
   },
   "source": [
    "Comparing both the Decision Tree and Linear Regression models, the Decision Tree Model performed better overall. I utilized various regression metrics to evaluate and compare both models and the Decision Tree model had better results.\n",
    "\n",
    "Although I was able to improve the Decision tree model in its prediction perfomance, I would hightly recommned gathering other relevant features that would help with Item Sales predictions. It can be concluded that this model has a high bias which would not be super reliable when making predictions."
   ]
  }
 ],
 "metadata": {
  "colab": {
   "authorship_tag": "ABX9TyO5q7Rt4uj4tjhnOjuAA+Qg",
   "provenance": []
  },
  "kernelspec": {
   "display_name": "Python 3 (ipykernel)",
   "language": "python",
   "name": "python3"
  },
  "language_info": {
   "codemirror_mode": {
    "name": "ipython",
    "version": 3
   },
   "file_extension": ".py",
   "mimetype": "text/x-python",
   "name": "python",
   "nbconvert_exporter": "python",
   "pygments_lexer": "ipython3",
   "version": "3.9.15"
  },
  "toc": {
   "base_numbering": 1,
   "nav_menu": {},
   "number_sections": false,
   "sideBar": true,
   "skip_h1_title": false,
   "title_cell": "Table of Contents",
   "title_sidebar": "Contents",
   "toc_cell": false,
   "toc_position": {},
   "toc_section_display": true,
   "toc_window_display": false
  }
 },
 "nbformat": 4,
 "nbformat_minor": 1
}
