{
  "nbformat": 4,
  "nbformat_minor": 0,
  "metadata": {
    "colab": {
      "provenance": [],
      "authorship_tag": "ABX9TyN9vKMFYQAzcPg4TyTtv5ew",
      "include_colab_link": true
    },
    "kernelspec": {
      "name": "python3",
      "display_name": "Python 3"
    },
    "language_info": {
      "name": "python"
    }
  },
  "cells": [
    {
      "cell_type": "markdown",
      "metadata": {
        "id": "view-in-github",
        "colab_type": "text"
      },
      "source": [
        "<a href=\"https://colab.research.google.com/github/daisy-rivera/Sales-Predictions/blob/main/Project1_Part1.ipynb\" target=\"_parent\"><img src=\"https://colab.research.google.com/assets/colab-badge.svg\" alt=\"Open In Colab\"/></a>"
      ]
    },
    {
      "cell_type": "markdown",
      "source": [
        "#Project 1- Part 1\n"
      ],
      "metadata": {
        "id": "ckAAQlQCM8de"
      }
    },
    {
      "cell_type": "code",
      "source": [],
      "metadata": {
        "id": "G1sVRYCdOXjG"
      },
      "execution_count": null,
      "outputs": []
    },
    {
      "cell_type": "markdown",
      "source": [
        "Daisy Rivera"
      ],
      "metadata": {
        "id": "A9mJjE6UNWjx"
      }
    },
    {
      "cell_type": "markdown",
      "source": [
        "##Loading Data\n",
        "\n"
      ],
      "metadata": {
        "id": "5_9Fejt_NV8M"
      }
    },
    {
      "cell_type": "code",
      "source": [],
      "metadata": {
        "id": "v-lba6LgNuNe"
      },
      "execution_count": null,
      "outputs": []
    },
    {
      "cell_type": "markdown",
      "source": [
        "## Data Cleaning\n",
        "\n"
      ],
      "metadata": {
        "id": "-YoWWi43NsPi"
      }
    },
    {
      "cell_type": "code",
      "source": [],
      "metadata": {
        "id": "XS8ZZNpSN9PA"
      },
      "execution_count": null,
      "outputs": []
    },
    {
      "cell_type": "markdown",
      "source": [
        "## Exploratory Visuals\n",
        "\n",
        "\n"
      ],
      "metadata": {
        "id": "5wUDxxFyOCGe"
      }
    },
    {
      "cell_type": "code",
      "source": [],
      "metadata": {
        "id": "iTyfv0luOLBl"
      },
      "execution_count": null,
      "outputs": []
    },
    {
      "cell_type": "markdown",
      "source": [
        "## Explanatory Visuals\n",
        "\n"
      ],
      "metadata": {
        "id": "kuVwuQE2OLsk"
      }
    },
    {
      "cell_type": "code",
      "source": [],
      "metadata": {
        "id": "TXvNUsEMOPlx"
      },
      "execution_count": null,
      "outputs": []
    }
  ]
}