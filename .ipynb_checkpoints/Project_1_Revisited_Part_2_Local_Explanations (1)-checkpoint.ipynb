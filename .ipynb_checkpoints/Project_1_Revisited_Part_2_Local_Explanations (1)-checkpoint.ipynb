{
 "cells": [
  {
   "cell_type": "markdown",
   "metadata": {
    "id": "4MYLWNATYfJO"
   },
   "source": [
    "#Project 1 - Revisited\n",
    "- Part 2: Local Explanations\n",
    "\n",
    "\n"
   ]
  },
  {
   "cell_type": "markdown",
   "metadata": {
    "id": "st-CUWZiZXGx"
   },
   "source": [
    "The goal of this project is to help the retailer understand the properties of products and outlets that play crucial roles in increasing sales.\n",
    "\n",
    "Link to original datasource [Here](https://datahack.analyticsvidhya.com/contest/practice-problem-big-mart-sales-iii/)"
   ]
  },
  {
   "cell_type": "markdown",
   "metadata": {
    "id": "1CPyINtFZZp6"
   },
   "source": [
    "### Import Libraries\n"
   ]
  },
  {
   "cell_type": "code",
   "execution_count": 1,
   "metadata": {
    "id": "Z4-AKb1FYUqT"
   },
   "outputs": [],
   "source": [
    "# standard imports\n",
    "import pandas as pd\n",
    "import numpy as np\n",
    "\n",
    "#Visualization\n",
    "import seaborn as sns\n",
    "import matplotlib.pyplot as plt\n",
    "\n",
    "## Preprocessing\n",
    "from sklearn.model_selection import train_test_split,GridSearchCV\n",
    "from sklearn.compose import make_column_selector, make_column_transformer\n",
    "from sklearn.preprocessing import StandardScaler, OneHotEncoder\n",
    "from sklearn.pipeline import make_pipeline\n",
    "from sklearn.impute import SimpleImputer\n",
    "\n",
    "## Models\n",
    "from sklearn.linear_model import LinearRegression\n",
    "from sklearn.tree import DecisionTreeRegressor\n",
    "\n",
    "## Regression Metrics\n",
    "from sklearn import metrics\n",
    "\n",
    "#permutation Importance\n",
    "from sklearn.inspection import permutation_importance\n",
    "\n",
    "#saving model\n",
    "import joblib\n",
    "\n",
    "## setting random state for reproducibility\n",
    "SEED = 321\n",
    "np.random.seed(SEED)\n",
    "\n",
    "## Set global scikit-learn configuration \n",
    "from sklearn import set_config\n",
    "## Display estimators as a diagram\n",
    "set_config(display='diagram') # 'text' or 'diagram'}\n",
    "\n",
    "## set pandas to display more columns\n",
    "pd.set_option('display.max_columns',50)\n",
    "\n",
    "#suppressing scientific notation, add comma & round 2 decimal pts\n",
    "pd.set_option('display.float_format', lambda x: f\"{x:,.2f}\")"
   ]
  },
  {
   "cell_type": "markdown",
   "metadata": {
    "id": "TOorby1dbLTo"
   },
   "source": [
    "### Functions"
   ]
  },
  {
   "cell_type": "code",
   "execution_count": 2,
   "metadata": {
    "id": "wic3x1VzbNjN"
   },
   "outputs": [],
   "source": [
    "\"\"\"Evaluates regression model with MAE, r-squared and RMSE and prints Dataframe\"\"\" \n",
    "def model_metrics(pipe, X_train, y_train, X_test, y_test, \n",
    "                       model_name='Regression Model', ):\n",
    "  train_pred = pipe.predict(X_train)\n",
    "  test_preds = pipe.predict(X_test)\n",
    "  \n",
    "  metrics = ['train_MAE','test_MAE', \n",
    "             'train_RMSE', 'test_RMSE', \n",
    "             'train_R2', 'test_R2']\n",
    "  \n",
    "  ## Train\n",
    "  train_mae = round(mean_absolute_error(y_train, train_pred),4)\n",
    "  train_rmse = round(np.sqrt(mean_squared_error(y_train, train_pred)),4)\n",
    "  train_r2 = round(r2_score(y_train, train_pred),7)\n",
    "\n",
    "  ## Test\n",
    "  test_mae = round(mean_absolute_error(y_test, test_preds),4)\n",
    "  test_rmse = round(np.sqrt(mean_squared_error(y_test, test_preds)),4)\n",
    "  test_r2 = round(r2_score(y_test, test_preds),7)\n",
    "\n",
    "  ## Output Dataframe\n",
    "  scores = pd.DataFrame(index=metrics, columns=[f'{model_name}_test'])\n",
    "  scores.loc[metrics, f'{model_name}_test'] = [train_mae, test_mae,\n",
    "                                               train_rmse, test_rmse,\n",
    "                                               train_r2, test_r2]\n",
    "\n",
    "  return scores\n",
    "\n",
    "\n",
    "\"\"\"Evaluates a scikit learn regression model using r-squared and RMSE\"\"\"    \n",
    "def evaluate_regression(model, X_train,y_train, X_test, y_test): \n",
    "    \n",
    "    ## Training Data\n",
    "    y_pred_train = model.predict(X_train)\n",
    "    r2_train = metrics.r2_score(y_train, y_pred_train)\n",
    "    rmse_train = metrics.mean_squared_error(y_train, y_pred_train, \n",
    "                                            squared=False)\n",
    "    \n",
    "    print(f\"Training Data:\\tR^2= {r2_train:.2f}\\tRMSE= {rmse_train:.2f}\")\n",
    "        \n",
    "    \n",
    "    ## Test Data\n",
    "    y_pred_test = model.predict(X_test)\n",
    "    r2_test = metrics.r2_score(y_test, y_pred_test)\n",
    "    rmse_test = metrics.mean_squared_error(y_test, y_pred_test, \n",
    "                                            squared=False)\n",
    "    \n",
    "    print(f\"Test Data:\\tR^2= {r2_test:.2f}\\tRMSE= {rmse_test:.2f}\")\n",
    "\n",
    "\n",
    "\"\"\" Function for extracting important features\"\"\"\n",
    "def get_importances(model, feature_names=None,name='Feature Importance',\n",
    "                   sort=False, ascending=True):\n",
    "    \n",
    "    ## checking for feature names\n",
    "    if feature_names == None:\n",
    "        feature_names = model.feature_names_in_\n",
    "        \n",
    "    ## Saving the feature importances\n",
    "    importances = pd.Series(model.feature_importances_, index= feature_names,\n",
    "                           name=name)\n",
    "    \n",
    "    # sort importances\n",
    "    if sort == True:\n",
    "        importances = importances.sort_values(ascending=ascending)\n",
    "        \n",
    "    return importances\n",
    "\n",
    "\n",
    "\"\"\" Function for plotting important features\"\"\"\n",
    "def plot_importance(importances, top_n=None,  figsize=(8,6)):\n",
    "    # sorting with asc=false for correct order of bars\n",
    "    if top_n==None:\n",
    "        ## sort all features and set title\n",
    "        plot_vals = importances.sort_values()\n",
    "        title = \"All Features - Ranked by Importance\"\n",
    "    else:\n",
    "        ## sort features and keep top_n and set title\n",
    "        plot_vals = importances.sort_values().tail(top_n)\n",
    "        title = f\"Top {top_n} Most Important Features\"\n",
    "    ## plotting top N importances\n",
    "    ax = plot_vals.plot(kind='barh', figsize=figsize)\n",
    "    ax.set(xlabel='Importance',\n",
    "            ylabel='Feature Names',\n",
    "            title=title)\n",
    "    ## return ax in case want to continue to update/modify figure\n",
    "    return ax\n",
    "\n",
    "\n",
    "\"\"\" Function to get coefficients from a linear regression model\"\"\"\n",
    "def get_coeffs_linreg(lin_reg, feature_names = None, sort=True,ascending=True,\n",
    "                     name='LinearRegression Coefficients'):\n",
    "    if feature_names is None:\n",
    "        feature_names = lin_reg.feature_names_in_\n",
    "    ## Saving the coefficients\n",
    "    coeffs = pd.Series(lin_reg.coef_, index= feature_names)\n",
    "    coeffs['intercept'] = lin_reg.intercept_\n",
    "    if sort==True:\n",
    "        coeffs = coeffs.sort_values(ascending=ascending)\n",
    "    return coeffs\n",
    "\n",
    "\"\"\" Function to annotate horizontal bars in coefficient graph\"\"\"\n",
    "def annotate_hbars(ax, ha='left', va='center', size=12, xytext=(4,0),\n",
    "                  textcoords='offset points'):\n",
    "    for bar in ax.patches:\n",
    "    \n",
    "        ## calculate center of bar\n",
    "        bar_ax = bar.get_y() + bar.get_height() / 2\n",
    "        ## get the value to annotate\n",
    "        val = bar.get_width()\n",
    "        if val < 0:\n",
    "            val_pos = 0\n",
    "        else:\n",
    "            val_pos = val\n",
    "        # ha and va stand for the horizontal and vertical alignment\n",
    "        ax.annotate(f\"{val:.3f}\", (val_pos,bar_ax), ha=ha, va=va, size=size,\n",
    "                        xytext=xytext, textcoords=textcoords)\n",
    "\n",
    "\n",
    "\"\"\" Function to plot coefficients\"\"\"\n",
    "def plot_coeffs(coeffs, top_n=None, figsize=(4,5), \n",
    "                intercept=False, intercept_name=\"intercept\", \n",
    "                annotate=False, ha='left', va='center', size=12, \n",
    "                xytext=(4,0), textcoords='offset points'):\n",
    "    \"\"\" Plots the top_n coefficients from a Series, with optional annotations.\n",
    "    \"\"\"\n",
    "    # Drop intercept if intercept=False and \n",
    "    if (intercept == False) & (intercept_name in coeffs.index):\n",
    "        coeffs = coeffs.drop(intercept_name)\n",
    "    if top_n == None:\n",
    "        ## sort all features and set title\n",
    "        plot_vals = coeffs.sort_values()\n",
    "        title = \"All Coefficients - Ranked by Magnitude\"\n",
    "    else:\n",
    "        ## rank the coeffs and select the top_n\n",
    "        coeff_rank = coeffs.abs().rank().sort_values(ascending=False)\n",
    "        top_n_features = coeff_rank.head(top_n)\n",
    "        \n",
    "        ## sort features and keep top_n and set title\n",
    "        plot_vals = coeffs.loc[top_n_features.index].sort_values()\n",
    "        title = f\"Top {top_n} Largest Coefficients\"\n",
    "    ## plotting top N importances\n",
    "    ax = plot_vals.plot(kind='barh', figsize=figsize)\n",
    "    ax.set(xlabel='Coefficient', \n",
    "            ylabel='Feature Names', \n",
    "            title=title)\n",
    "    ax.axvline(0, color='k')\n",
    "    if annotate == True:\n",
    "        annotate_hbars(ax, ha=ha, va=va, size=size, xytext=xytext, textcoords=textcoords)\n",
    "    return ax"
   ]
  },
  {
   "cell_type": "markdown",
   "metadata": {
    "id": "KntP1almZbyq"
   },
   "source": [
    "### Upload Data"
   ]
  },
  {
   "cell_type": "code",
   "execution_count": 3,
   "metadata": {
    "colab": {
     "base_uri": "https://localhost:8080/"
    },
    "id": "yBwp1fXAZeQX",
    "outputId": "d572abc5-efa4-4c5c-c5cd-b49e81b5d6d3"
   },
   "outputs": [
    {
     "ename": "ModuleNotFoundError",
     "evalue": "No module named 'google.colab'",
     "output_type": "error",
     "traceback": [
      "\u001b[1;31m---------------------------------------------------------------------------\u001b[0m",
      "\u001b[1;31mModuleNotFoundError\u001b[0m                       Traceback (most recent call last)",
      "Cell \u001b[1;32mIn [3], line 2\u001b[0m\n\u001b[0;32m      1\u001b[0m \u001b[38;5;66;03m#Mounting drive\u001b[39;00m\n\u001b[1;32m----> 2\u001b[0m \u001b[38;5;28;01mfrom\u001b[39;00m \u001b[38;5;21;01mgoogle\u001b[39;00m\u001b[38;5;21;01m.\u001b[39;00m\u001b[38;5;21;01mcolab\u001b[39;00m \u001b[38;5;28;01mimport\u001b[39;00m drive\n\u001b[0;32m      3\u001b[0m drive\u001b[38;5;241m.\u001b[39mmount(\u001b[38;5;124m'\u001b[39m\u001b[38;5;124m/content/drive\u001b[39m\u001b[38;5;124m'\u001b[39m)\n",
      "\u001b[1;31mModuleNotFoundError\u001b[0m: No module named 'google.colab'"
     ]
    }
   ],
   "source": [
    "#Mounting drive\n",
    "from google.colab import drive\n",
    "drive.mount('/content/drive')"
   ]
  },
  {
   "cell_type": "code",
   "execution_count": 4,
   "metadata": {
    "colab": {
     "base_uri": "https://localhost:8080/",
     "height": 187
    },
    "id": "LLMooqwqizXI",
    "outputId": "b5ea9f5e-b6c1-4429-fd48-33befb756aeb"
   },
   "outputs": [
    {
     "ename": "FileNotFoundError",
     "evalue": "[Errno 2] No such file or directory: 'Data/Sales_Predictions.csv'",
     "output_type": "error",
     "traceback": [
      "\u001b[1;31m---------------------------------------------------------------------------\u001b[0m",
      "\u001b[1;31mFileNotFoundError\u001b[0m                         Traceback (most recent call last)",
      "Cell \u001b[1;32mIn [4], line 2\u001b[0m\n\u001b[0;32m      1\u001b[0m filename \u001b[38;5;241m=\u001b[39m \u001b[38;5;124m'\u001b[39m\u001b[38;5;124mData/Sales_Predictions.csv\u001b[39m\u001b[38;5;124m'\u001b[39m\n\u001b[1;32m----> 2\u001b[0m df \u001b[38;5;241m=\u001b[39m \u001b[43mpd\u001b[49m\u001b[38;5;241;43m.\u001b[39;49m\u001b[43mread_csv\u001b[49m\u001b[43m(\u001b[49m\u001b[43mfilename\u001b[49m\u001b[43m)\u001b[49m\n\u001b[0;32m      3\u001b[0m \u001b[38;5;66;03m#displaying first 3 rows\u001b[39;00m\n\u001b[0;32m      4\u001b[0m df\u001b[38;5;241m.\u001b[39mhead(\u001b[38;5;241m3\u001b[39m)\n",
      "File \u001b[1;32m~\\anaconda3\\envs\\dojo-env\\lib\\site-packages\\pandas\\util\\_decorators.py:211\u001b[0m, in \u001b[0;36mdeprecate_kwarg.<locals>._deprecate_kwarg.<locals>.wrapper\u001b[1;34m(*args, **kwargs)\u001b[0m\n\u001b[0;32m    209\u001b[0m     \u001b[38;5;28;01melse\u001b[39;00m:\n\u001b[0;32m    210\u001b[0m         kwargs[new_arg_name] \u001b[38;5;241m=\u001b[39m new_arg_value\n\u001b[1;32m--> 211\u001b[0m \u001b[38;5;28;01mreturn\u001b[39;00m func(\u001b[38;5;241m*\u001b[39margs, \u001b[38;5;241m*\u001b[39m\u001b[38;5;241m*\u001b[39mkwargs)\n",
      "File \u001b[1;32m~\\anaconda3\\envs\\dojo-env\\lib\\site-packages\\pandas\\util\\_decorators.py:331\u001b[0m, in \u001b[0;36mdeprecate_nonkeyword_arguments.<locals>.decorate.<locals>.wrapper\u001b[1;34m(*args, **kwargs)\u001b[0m\n\u001b[0;32m    325\u001b[0m \u001b[38;5;28;01mif\u001b[39;00m \u001b[38;5;28mlen\u001b[39m(args) \u001b[38;5;241m>\u001b[39m num_allow_args:\n\u001b[0;32m    326\u001b[0m     warnings\u001b[38;5;241m.\u001b[39mwarn(\n\u001b[0;32m    327\u001b[0m         msg\u001b[38;5;241m.\u001b[39mformat(arguments\u001b[38;5;241m=\u001b[39m_format_argument_list(allow_args)),\n\u001b[0;32m    328\u001b[0m         \u001b[38;5;167;01mFutureWarning\u001b[39;00m,\n\u001b[0;32m    329\u001b[0m         stacklevel\u001b[38;5;241m=\u001b[39mfind_stack_level(),\n\u001b[0;32m    330\u001b[0m     )\n\u001b[1;32m--> 331\u001b[0m \u001b[38;5;28;01mreturn\u001b[39;00m func(\u001b[38;5;241m*\u001b[39margs, \u001b[38;5;241m*\u001b[39m\u001b[38;5;241m*\u001b[39mkwargs)\n",
      "File \u001b[1;32m~\\anaconda3\\envs\\dojo-env\\lib\\site-packages\\pandas\\io\\parsers\\readers.py:950\u001b[0m, in \u001b[0;36mread_csv\u001b[1;34m(filepath_or_buffer, sep, delimiter, header, names, index_col, usecols, squeeze, prefix, mangle_dupe_cols, dtype, engine, converters, true_values, false_values, skipinitialspace, skiprows, skipfooter, nrows, na_values, keep_default_na, na_filter, verbose, skip_blank_lines, parse_dates, infer_datetime_format, keep_date_col, date_parser, dayfirst, cache_dates, iterator, chunksize, compression, thousands, decimal, lineterminator, quotechar, quoting, doublequote, escapechar, comment, encoding, encoding_errors, dialect, error_bad_lines, warn_bad_lines, on_bad_lines, delim_whitespace, low_memory, memory_map, float_precision, storage_options)\u001b[0m\n\u001b[0;32m    935\u001b[0m kwds_defaults \u001b[38;5;241m=\u001b[39m _refine_defaults_read(\n\u001b[0;32m    936\u001b[0m     dialect,\n\u001b[0;32m    937\u001b[0m     delimiter,\n\u001b[1;32m   (...)\u001b[0m\n\u001b[0;32m    946\u001b[0m     defaults\u001b[38;5;241m=\u001b[39m{\u001b[38;5;124m\"\u001b[39m\u001b[38;5;124mdelimiter\u001b[39m\u001b[38;5;124m\"\u001b[39m: \u001b[38;5;124m\"\u001b[39m\u001b[38;5;124m,\u001b[39m\u001b[38;5;124m\"\u001b[39m},\n\u001b[0;32m    947\u001b[0m )\n\u001b[0;32m    948\u001b[0m kwds\u001b[38;5;241m.\u001b[39mupdate(kwds_defaults)\n\u001b[1;32m--> 950\u001b[0m \u001b[38;5;28;01mreturn\u001b[39;00m \u001b[43m_read\u001b[49m\u001b[43m(\u001b[49m\u001b[43mfilepath_or_buffer\u001b[49m\u001b[43m,\u001b[49m\u001b[43m \u001b[49m\u001b[43mkwds\u001b[49m\u001b[43m)\u001b[49m\n",
      "File \u001b[1;32m~\\anaconda3\\envs\\dojo-env\\lib\\site-packages\\pandas\\io\\parsers\\readers.py:605\u001b[0m, in \u001b[0;36m_read\u001b[1;34m(filepath_or_buffer, kwds)\u001b[0m\n\u001b[0;32m    602\u001b[0m _validate_names(kwds\u001b[38;5;241m.\u001b[39mget(\u001b[38;5;124m\"\u001b[39m\u001b[38;5;124mnames\u001b[39m\u001b[38;5;124m\"\u001b[39m, \u001b[38;5;28;01mNone\u001b[39;00m))\n\u001b[0;32m    604\u001b[0m \u001b[38;5;66;03m# Create the parser.\u001b[39;00m\n\u001b[1;32m--> 605\u001b[0m parser \u001b[38;5;241m=\u001b[39m TextFileReader(filepath_or_buffer, \u001b[38;5;241m*\u001b[39m\u001b[38;5;241m*\u001b[39mkwds)\n\u001b[0;32m    607\u001b[0m \u001b[38;5;28;01mif\u001b[39;00m chunksize \u001b[38;5;129;01mor\u001b[39;00m iterator:\n\u001b[0;32m    608\u001b[0m     \u001b[38;5;28;01mreturn\u001b[39;00m parser\n",
      "File \u001b[1;32m~\\anaconda3\\envs\\dojo-env\\lib\\site-packages\\pandas\\io\\parsers\\readers.py:1442\u001b[0m, in \u001b[0;36mTextFileReader.__init__\u001b[1;34m(self, f, engine, **kwds)\u001b[0m\n\u001b[0;32m   1439\u001b[0m     \u001b[38;5;28mself\u001b[39m\u001b[38;5;241m.\u001b[39moptions[\u001b[38;5;124m\"\u001b[39m\u001b[38;5;124mhas_index_names\u001b[39m\u001b[38;5;124m\"\u001b[39m] \u001b[38;5;241m=\u001b[39m kwds[\u001b[38;5;124m\"\u001b[39m\u001b[38;5;124mhas_index_names\u001b[39m\u001b[38;5;124m\"\u001b[39m]\n\u001b[0;32m   1441\u001b[0m \u001b[38;5;28mself\u001b[39m\u001b[38;5;241m.\u001b[39mhandles: IOHandles \u001b[38;5;241m|\u001b[39m \u001b[38;5;28;01mNone\u001b[39;00m \u001b[38;5;241m=\u001b[39m \u001b[38;5;28;01mNone\u001b[39;00m\n\u001b[1;32m-> 1442\u001b[0m \u001b[38;5;28mself\u001b[39m\u001b[38;5;241m.\u001b[39m_engine \u001b[38;5;241m=\u001b[39m \u001b[38;5;28;43mself\u001b[39;49m\u001b[38;5;241;43m.\u001b[39;49m\u001b[43m_make_engine\u001b[49m\u001b[43m(\u001b[49m\u001b[43mf\u001b[49m\u001b[43m,\u001b[49m\u001b[43m \u001b[49m\u001b[38;5;28;43mself\u001b[39;49m\u001b[38;5;241;43m.\u001b[39;49m\u001b[43mengine\u001b[49m\u001b[43m)\u001b[49m\n",
      "File \u001b[1;32m~\\anaconda3\\envs\\dojo-env\\lib\\site-packages\\pandas\\io\\parsers\\readers.py:1735\u001b[0m, in \u001b[0;36mTextFileReader._make_engine\u001b[1;34m(self, f, engine)\u001b[0m\n\u001b[0;32m   1733\u001b[0m     \u001b[38;5;28;01mif\u001b[39;00m \u001b[38;5;124m\"\u001b[39m\u001b[38;5;124mb\u001b[39m\u001b[38;5;124m\"\u001b[39m \u001b[38;5;129;01mnot\u001b[39;00m \u001b[38;5;129;01min\u001b[39;00m mode:\n\u001b[0;32m   1734\u001b[0m         mode \u001b[38;5;241m+\u001b[39m\u001b[38;5;241m=\u001b[39m \u001b[38;5;124m\"\u001b[39m\u001b[38;5;124mb\u001b[39m\u001b[38;5;124m\"\u001b[39m\n\u001b[1;32m-> 1735\u001b[0m \u001b[38;5;28mself\u001b[39m\u001b[38;5;241m.\u001b[39mhandles \u001b[38;5;241m=\u001b[39m \u001b[43mget_handle\u001b[49m\u001b[43m(\u001b[49m\n\u001b[0;32m   1736\u001b[0m \u001b[43m    \u001b[49m\u001b[43mf\u001b[49m\u001b[43m,\u001b[49m\n\u001b[0;32m   1737\u001b[0m \u001b[43m    \u001b[49m\u001b[43mmode\u001b[49m\u001b[43m,\u001b[49m\n\u001b[0;32m   1738\u001b[0m \u001b[43m    \u001b[49m\u001b[43mencoding\u001b[49m\u001b[38;5;241;43m=\u001b[39;49m\u001b[38;5;28;43mself\u001b[39;49m\u001b[38;5;241;43m.\u001b[39;49m\u001b[43moptions\u001b[49m\u001b[38;5;241;43m.\u001b[39;49m\u001b[43mget\u001b[49m\u001b[43m(\u001b[49m\u001b[38;5;124;43m\"\u001b[39;49m\u001b[38;5;124;43mencoding\u001b[39;49m\u001b[38;5;124;43m\"\u001b[39;49m\u001b[43m,\u001b[49m\u001b[43m \u001b[49m\u001b[38;5;28;43;01mNone\u001b[39;49;00m\u001b[43m)\u001b[49m\u001b[43m,\u001b[49m\n\u001b[0;32m   1739\u001b[0m \u001b[43m    \u001b[49m\u001b[43mcompression\u001b[49m\u001b[38;5;241;43m=\u001b[39;49m\u001b[38;5;28;43mself\u001b[39;49m\u001b[38;5;241;43m.\u001b[39;49m\u001b[43moptions\u001b[49m\u001b[38;5;241;43m.\u001b[39;49m\u001b[43mget\u001b[49m\u001b[43m(\u001b[49m\u001b[38;5;124;43m\"\u001b[39;49m\u001b[38;5;124;43mcompression\u001b[39;49m\u001b[38;5;124;43m\"\u001b[39;49m\u001b[43m,\u001b[49m\u001b[43m \u001b[49m\u001b[38;5;28;43;01mNone\u001b[39;49;00m\u001b[43m)\u001b[49m\u001b[43m,\u001b[49m\n\u001b[0;32m   1740\u001b[0m \u001b[43m    \u001b[49m\u001b[43mmemory_map\u001b[49m\u001b[38;5;241;43m=\u001b[39;49m\u001b[38;5;28;43mself\u001b[39;49m\u001b[38;5;241;43m.\u001b[39;49m\u001b[43moptions\u001b[49m\u001b[38;5;241;43m.\u001b[39;49m\u001b[43mget\u001b[49m\u001b[43m(\u001b[49m\u001b[38;5;124;43m\"\u001b[39;49m\u001b[38;5;124;43mmemory_map\u001b[39;49m\u001b[38;5;124;43m\"\u001b[39;49m\u001b[43m,\u001b[49m\u001b[43m \u001b[49m\u001b[38;5;28;43;01mFalse\u001b[39;49;00m\u001b[43m)\u001b[49m\u001b[43m,\u001b[49m\n\u001b[0;32m   1741\u001b[0m \u001b[43m    \u001b[49m\u001b[43mis_text\u001b[49m\u001b[38;5;241;43m=\u001b[39;49m\u001b[43mis_text\u001b[49m\u001b[43m,\u001b[49m\n\u001b[0;32m   1742\u001b[0m \u001b[43m    \u001b[49m\u001b[43merrors\u001b[49m\u001b[38;5;241;43m=\u001b[39;49m\u001b[38;5;28;43mself\u001b[39;49m\u001b[38;5;241;43m.\u001b[39;49m\u001b[43moptions\u001b[49m\u001b[38;5;241;43m.\u001b[39;49m\u001b[43mget\u001b[49m\u001b[43m(\u001b[49m\u001b[38;5;124;43m\"\u001b[39;49m\u001b[38;5;124;43mencoding_errors\u001b[39;49m\u001b[38;5;124;43m\"\u001b[39;49m\u001b[43m,\u001b[49m\u001b[43m \u001b[49m\u001b[38;5;124;43m\"\u001b[39;49m\u001b[38;5;124;43mstrict\u001b[39;49m\u001b[38;5;124;43m\"\u001b[39;49m\u001b[43m)\u001b[49m\u001b[43m,\u001b[49m\n\u001b[0;32m   1743\u001b[0m \u001b[43m    \u001b[49m\u001b[43mstorage_options\u001b[49m\u001b[38;5;241;43m=\u001b[39;49m\u001b[38;5;28;43mself\u001b[39;49m\u001b[38;5;241;43m.\u001b[39;49m\u001b[43moptions\u001b[49m\u001b[38;5;241;43m.\u001b[39;49m\u001b[43mget\u001b[49m\u001b[43m(\u001b[49m\u001b[38;5;124;43m\"\u001b[39;49m\u001b[38;5;124;43mstorage_options\u001b[39;49m\u001b[38;5;124;43m\"\u001b[39;49m\u001b[43m,\u001b[49m\u001b[43m \u001b[49m\u001b[38;5;28;43;01mNone\u001b[39;49;00m\u001b[43m)\u001b[49m\u001b[43m,\u001b[49m\n\u001b[0;32m   1744\u001b[0m \u001b[43m\u001b[49m\u001b[43m)\u001b[49m\n\u001b[0;32m   1745\u001b[0m \u001b[38;5;28;01massert\u001b[39;00m \u001b[38;5;28mself\u001b[39m\u001b[38;5;241m.\u001b[39mhandles \u001b[38;5;129;01mis\u001b[39;00m \u001b[38;5;129;01mnot\u001b[39;00m \u001b[38;5;28;01mNone\u001b[39;00m\n\u001b[0;32m   1746\u001b[0m f \u001b[38;5;241m=\u001b[39m \u001b[38;5;28mself\u001b[39m\u001b[38;5;241m.\u001b[39mhandles\u001b[38;5;241m.\u001b[39mhandle\n",
      "File \u001b[1;32m~\\anaconda3\\envs\\dojo-env\\lib\\site-packages\\pandas\\io\\common.py:856\u001b[0m, in \u001b[0;36mget_handle\u001b[1;34m(path_or_buf, mode, encoding, compression, memory_map, is_text, errors, storage_options)\u001b[0m\n\u001b[0;32m    851\u001b[0m \u001b[38;5;28;01melif\u001b[39;00m \u001b[38;5;28misinstance\u001b[39m(handle, \u001b[38;5;28mstr\u001b[39m):\n\u001b[0;32m    852\u001b[0m     \u001b[38;5;66;03m# Check whether the filename is to be opened in binary mode.\u001b[39;00m\n\u001b[0;32m    853\u001b[0m     \u001b[38;5;66;03m# Binary mode does not support 'encoding' and 'newline'.\u001b[39;00m\n\u001b[0;32m    854\u001b[0m     \u001b[38;5;28;01mif\u001b[39;00m ioargs\u001b[38;5;241m.\u001b[39mencoding \u001b[38;5;129;01mand\u001b[39;00m \u001b[38;5;124m\"\u001b[39m\u001b[38;5;124mb\u001b[39m\u001b[38;5;124m\"\u001b[39m \u001b[38;5;129;01mnot\u001b[39;00m \u001b[38;5;129;01min\u001b[39;00m ioargs\u001b[38;5;241m.\u001b[39mmode:\n\u001b[0;32m    855\u001b[0m         \u001b[38;5;66;03m# Encoding\u001b[39;00m\n\u001b[1;32m--> 856\u001b[0m         handle \u001b[38;5;241m=\u001b[39m \u001b[38;5;28;43mopen\u001b[39;49m\u001b[43m(\u001b[49m\n\u001b[0;32m    857\u001b[0m \u001b[43m            \u001b[49m\u001b[43mhandle\u001b[49m\u001b[43m,\u001b[49m\n\u001b[0;32m    858\u001b[0m \u001b[43m            \u001b[49m\u001b[43mioargs\u001b[49m\u001b[38;5;241;43m.\u001b[39;49m\u001b[43mmode\u001b[49m\u001b[43m,\u001b[49m\n\u001b[0;32m    859\u001b[0m \u001b[43m            \u001b[49m\u001b[43mencoding\u001b[49m\u001b[38;5;241;43m=\u001b[39;49m\u001b[43mioargs\u001b[49m\u001b[38;5;241;43m.\u001b[39;49m\u001b[43mencoding\u001b[49m\u001b[43m,\u001b[49m\n\u001b[0;32m    860\u001b[0m \u001b[43m            \u001b[49m\u001b[43merrors\u001b[49m\u001b[38;5;241;43m=\u001b[39;49m\u001b[43merrors\u001b[49m\u001b[43m,\u001b[49m\n\u001b[0;32m    861\u001b[0m \u001b[43m            \u001b[49m\u001b[43mnewline\u001b[49m\u001b[38;5;241;43m=\u001b[39;49m\u001b[38;5;124;43m\"\u001b[39;49m\u001b[38;5;124;43m\"\u001b[39;49m\u001b[43m,\u001b[49m\n\u001b[0;32m    862\u001b[0m \u001b[43m        \u001b[49m\u001b[43m)\u001b[49m\n\u001b[0;32m    863\u001b[0m     \u001b[38;5;28;01melse\u001b[39;00m:\n\u001b[0;32m    864\u001b[0m         \u001b[38;5;66;03m# Binary mode\u001b[39;00m\n\u001b[0;32m    865\u001b[0m         handle \u001b[38;5;241m=\u001b[39m \u001b[38;5;28mopen\u001b[39m(handle, ioargs\u001b[38;5;241m.\u001b[39mmode)\n",
      "\u001b[1;31mFileNotFoundError\u001b[0m: [Errno 2] No such file or directory: 'Data/Sales_Predictions.csv'"
     ]
    }
   ],
   "source": [
    "filename = 'Data/Sales_Predictions.csv'\n",
    "df = pd.read_csv(filename)\n",
    "#displaying first 3 rows\n",
    "df.head(3)"
   ]
  },
  {
   "cell_type": "markdown",
   "metadata": {
    "id": "THz25dj7i1P2"
   },
   "source": [
    "##Inspecting Data"
   ]
  },
  {
   "cell_type": "code",
   "execution_count": null,
   "metadata": {
    "colab": {
     "base_uri": "https://localhost:8080/"
    },
    "id": "_VzkWap6jIEM",
    "outputId": "322ac17a-868c-4283-b2bc-8c2a1e1124d1"
   },
   "outputs": [],
   "source": [
    "#verifying how many rows/columns, datatypes, missing items and duplicate rows\n",
    "print(df.info())\n",
    "print(('-'*30))\n",
    "print(f'There are {df.duplicated().sum()} duplicate rows.')\n",
    "print(('-'*30))\n",
    "print(f'There are {df.isna().sum().sum()} missing values.')"
   ]
  },
  {
   "cell_type": "markdown",
   "metadata": {
    "id": "Ire78_pGn3r6"
   },
   "source": [
    "###Checking for any outliers or odd values in the data"
   ]
  },
  {
   "cell_type": "code",
   "execution_count": null,
   "metadata": {
    "colab": {
     "base_uri": "https://localhost:8080/",
     "height": 300
    },
    "id": "FU0u3v4tmccj",
    "outputId": "6f8c5804-2ad6-472a-ca1c-c708d9c1d2f9"
   },
   "outputs": [],
   "source": [
    "#Summary statistics for the integer values\n",
    "df.describe().round(4)"
   ]
  },
  {
   "cell_type": "code",
   "execution_count": null,
   "metadata": {
    "colab": {
     "base_uri": "https://localhost:8080/",
     "height": 175
    },
    "id": "RsDkbC01mfr7",
    "outputId": "bc5f4e63-6337-42d9-8fc0-5901e6f1b6f5"
   },
   "outputs": [],
   "source": [
    "#Summary statistics for the object values\n",
    "df.describe(include=object)"
   ]
  },
  {
   "cell_type": "markdown",
   "metadata": {
    "id": "Noi-YqQVj-VG"
   },
   "source": [
    "###Checking for inconsistencies in categorical columns and their counts"
   ]
  },
  {
   "cell_type": "code",
   "execution_count": null,
   "metadata": {
    "id": "Cda2inkwlqaG"
   },
   "outputs": [],
   "source": [
    "#creating a list of object columns\n",
    "object_list = list(df.select_dtypes(include='object'))"
   ]
  },
  {
   "cell_type": "code",
   "execution_count": null,
   "metadata": {
    "colab": {
     "base_uri": "https://localhost:8080/"
    },
    "id": "XVQPu9oEmwoh",
    "outputId": "d85556bf-9a5a-4f5f-b632-8632f7f55ca5"
   },
   "outputs": [],
   "source": [
    "#looping thru object columns to verify inconsistencies and how many categories in each\n",
    "for each in object_list:\n",
    "  print(f'Column Name: {each}')\n",
    "  print(df[each].value_counts())\n",
    "  print('\\n')"
   ]
  },
  {
   "cell_type": "code",
   "execution_count": null,
   "metadata": {
    "colab": {
     "base_uri": "https://localhost:8080/"
    },
    "id": "Rir0ku85nFJo",
    "outputId": "38530d84-7044-4cb7-b299-95aec797fc73"
   },
   "outputs": [],
   "source": [
    "#Addressing inconsistencies in 'Item_Fat_Content' columnn\n",
    "df.replace({'LF': 'Low Fat', 'reg': 'Regular', 'low fat': 'Low Fat'}, inplace = True)\n",
    "#verifying changes were made\n",
    "df['Item_Fat_Content'].value_counts()"
   ]
  },
  {
   "cell_type": "markdown",
   "metadata": {
    "id": "XazUt4FBoKlH"
   },
   "source": [
    "###Types of Values\n",
    "\n",
    "Numeric Values\n",
    "- Item_Visibility\n",
    "- Item_Weight (Will be addressing missing values using Mean weight value)\n",
    "- Item_MRP\n",
    "- Outlet_Establishment_Year\n",
    "\n",
    "Ordinal Values\n",
    "- Outlet_Location_Type (Tier1,Tier2,Tier3)\n",
    "\n",
    "Nominal Values\n",
    "- Item_Identifier (Will be dropping column due to high cardinality)                           \n",
    "- Item_Fat_Content\n",
    "- Item_Type\n",
    "- Outlet_Identifier\n",
    "- Outlet_Size (This is Small, Medium and High but I will be filling missing items with a new Unknown category)\n",
    "- Outlet_Type "
   ]
  },
  {
   "cell_type": "markdown",
   "metadata": {
    "id": "zmU6nLaeoRUr"
   },
   "source": [
    "##Exploratory Data Analysis"
   ]
  },
  {
   "cell_type": "markdown",
   "metadata": {
    "id": "rU7Q9palouI5"
   },
   "source": [
    "###Correlation Heat Map"
   ]
  },
  {
   "cell_type": "code",
   "execution_count": null,
   "metadata": {
    "colab": {
     "base_uri": "https://localhost:8080/",
     "height": 755
    },
    "id": "ycVH8eNcoz63",
    "outputId": "d438f9e6-da4d-4012-de14-685d8ba47085"
   },
   "outputs": [],
   "source": [
    "#creating a heat map\n",
    "plt.style.use('ggplot')\n",
    "plt.figure(figsize=(11.45,6))\n",
    "sns.heatmap(df.corr(),annot=True,cmap='Blues');"
   ]
  },
  {
   "cell_type": "markdown",
   "metadata": {
    "id": "IFPtQjwGo3Ig"
   },
   "source": [
    ">From the Correlation Heatmap above the only decent correlation I see is between the Item_Outlet_Sales and the Item_MRP (0.57). Besides that, there is pretty much no correlation between any of the other columns."
   ]
  },
  {
   "cell_type": "markdown",
   "metadata": {
    "id": "Ud0yKReIpp-_"
   },
   "source": [
    "###Creating a graph to show Item Outlet Sales by Item Type"
   ]
  },
  {
   "cell_type": "code",
   "execution_count": null,
   "metadata": {
    "colab": {
     "base_uri": "https://localhost:8080/"
    },
    "id": "5rTS8myypzZy",
    "outputId": "96c9c37d-29be-4317-9685-a9c27817e580"
   },
   "outputs": [],
   "source": [
    "#filtering data\n",
    "SalesbyItemType = df.groupby('Item_Type')['Item_Outlet_Sales'].mean().round(2)\n",
    "#sorting data\n",
    "SortedSalesbyItemType = SalesbyItemType.sort_values()\n",
    "SortedSalesbyItemType"
   ]
  },
  {
   "cell_type": "code",
   "execution_count": null,
   "metadata": {
    "colab": {
     "base_uri": "https://localhost:8080/",
     "height": 1000
    },
    "id": "gEAyYUhcqQl6",
    "outputId": "44444f14-5787-425e-85ba-7948e92ee28f"
   },
   "outputs": [],
   "source": [
    "#plot graph\n",
    "plt.figure(figsize=(15,10))\n",
    "plt.bar(SortedSalesbyItemType.index, SortedSalesbyItemType.values)\n",
    "plt.ylabel('Item Outlet Sales')\n",
    "plt.xlabel('Item Type')\n",
    "plt.title('Item Outlet Sales by Type')\n",
    "plt.xticks(rotation=75);"
   ]
  },
  {
   "cell_type": "markdown",
   "metadata": {
    "id": "LiE2k5WCqXI2"
   },
   "source": [
    ">Based on the graph above we know that the Starchy Food Items have the most Outlet Sales and Others has the least sales. There isn't an item with overwhelmingly more sales in comparison to other items. Sales are pretty similar across the board."
   ]
  },
  {
   "cell_type": "markdown",
   "metadata": {
    "id": "f2r1403d5-JD"
   },
   "source": [
    "###Creating a graph to show Item Outlet Sales by Outlet Identifier"
   ]
  },
  {
   "cell_type": "code",
   "execution_count": null,
   "metadata": {
    "colab": {
     "base_uri": "https://localhost:8080/"
    },
    "id": "aQ9Tat8Z5SWh",
    "outputId": "78a4c0a6-4de3-4b25-bf7c-6d80f78c31f0"
   },
   "outputs": [],
   "source": [
    "#filtering data\n",
    "SalesbyOutlet = df.groupby('Outlet_Identifier')['Item_Outlet_Sales'].mean().round(2)\n",
    "#sorting data\n",
    "SortedSalesbyOutlet = SalesbyOutlet.sort_values()\n",
    "SortedSalesbyOutlet"
   ]
  },
  {
   "cell_type": "code",
   "execution_count": null,
   "metadata": {
    "colab": {
     "base_uri": "https://localhost:8080/",
     "height": 921
    },
    "id": "k6maxA0s6EoD",
    "outputId": "28d0525f-5013-4a99-9cff-8617e7c33a66"
   },
   "outputs": [],
   "source": [
    "#plot graph\n",
    "plt.figure(figsize=(15,10))\n",
    "plt.bar(SortedSalesbyOutlet.index, SortedSalesbyOutlet.values)\n",
    "plt.ylabel('Item Outlet Sales')\n",
    "plt.xlabel('Outlet Identifier')\n",
    "plt.title('Item Outlet Sales by Outlet Identifier')\n",
    "plt.xticks(rotation=75);"
   ]
  },
  {
   "cell_type": "markdown",
   "metadata": {
    "id": "dLsIsOvl6o6s"
   },
   "source": [
    "> I am showing based on the graph above that Outlet # OUT027 has the most sales while the outlets OUT010 and OUT019 have the least amount of sales. All the other outlets have somewhat similar sales compared to one another."
   ]
  },
  {
   "cell_type": "markdown",
   "metadata": {
    "id": "cuy5ei4dqle2"
   },
   "source": [
    "###Creating a graph to show Item Outlet Sales by Outlet Type"
   ]
  },
  {
   "cell_type": "code",
   "execution_count": null,
   "metadata": {
    "colab": {
     "base_uri": "https://localhost:8080/"
    },
    "id": "ZqDVRIyRqnMW",
    "outputId": "4b050393-9823-4d6d-939c-b716d6947cbc"
   },
   "outputs": [],
   "source": [
    "#filtering data\n",
    "SalesbyOutletType = df.groupby('Outlet_Type')['Item_Outlet_Sales'].mean().round(2)\n",
    "#sorting data\n",
    "SortedSalesbyOutletType = SalesbyOutletType.sort_values()\n",
    "SortedSalesbyOutletType"
   ]
  },
  {
   "cell_type": "code",
   "execution_count": null,
   "metadata": {
    "colab": {
     "base_uri": "https://localhost:8080/",
     "height": 997
    },
    "id": "S1KLBOv0rCPx",
    "outputId": "aac9d536-2b9e-499b-f834-30b2a81a628d"
   },
   "outputs": [],
   "source": [
    "#plot graph\n",
    "plt.figure(figsize=(15,10))\n",
    "plt.bar(SortedSalesbyOutletType.index, SortedSalesbyOutletType.values)\n",
    "plt.ylabel('Item Outlet Sales')\n",
    "plt.xlabel('Outlet Type')\n",
    "plt.title('Item Outlet Sales by Outlet Type')\n",
    "plt.xticks(rotation=75);"
   ]
  },
  {
   "cell_type": "markdown",
   "metadata": {
    "id": "eibH9jY8rOon"
   },
   "source": [
    ">I am seeing from the above graph that there is definitely a difference between the Outlet with the most and least sales. Supermarket Type 3 has the most Outlet Item Sales and Grocery Store has the least amount of Item Outlet Sales."
   ]
  },
  {
   "cell_type": "markdown",
   "metadata": {
    "id": "BlmzPrZG8wYZ"
   },
   "source": [
    "###Creating a graph to show Item Outlet Sales by Outlet Size"
   ]
  },
  {
   "cell_type": "code",
   "execution_count": null,
   "metadata": {
    "colab": {
     "base_uri": "https://localhost:8080/"
    },
    "id": "EtWM_vUW8zIF",
    "outputId": "6a4698ad-dd48-4e70-e87c-8272290142a8"
   },
   "outputs": [],
   "source": [
    "#filtering data\n",
    "SalesbyOutletSize = df.groupby('Outlet_Size')['Item_Outlet_Sales'].mean().round(2)\n",
    "#sorting data\n",
    "SortedSalesbyOutletSize = SalesbyOutletSize.sort_values()\n",
    "SortedSalesbyOutletSize"
   ]
  },
  {
   "cell_type": "code",
   "execution_count": null,
   "metadata": {
    "colab": {
     "base_uri": "https://localhost:8080/",
     "height": 920
    },
    "id": "Upm1Bt8X8zyf",
    "outputId": "c867904c-1125-493a-e927-3d02f5ae8961"
   },
   "outputs": [],
   "source": [
    "#plot graph\n",
    "plt.figure(figsize=(15,10))\n",
    "plt.bar(SortedSalesbyOutletSize.index, SortedSalesbyOutletSize.values)\n",
    "plt.ylabel('Item Outlet Sales')\n",
    "plt.xlabel('Outlet Size')\n",
    "plt.title('Item Outlet Sales by Outlet Size')\n",
    "plt.xticks(rotation=75);"
   ]
  },
  {
   "cell_type": "markdown",
   "metadata": {
    "id": "ZiWv2jWp9UF5"
   },
   "source": [
    ">The graph above shows that Medium sized outlets sell the most and Small outlets sell the least."
   ]
  },
  {
   "cell_type": "markdown",
   "metadata": {
    "id": "ZC0vRiPvrXzx"
   },
   "source": [
    "###Creating a Chart showing Sales grouped by both Item Types and the Item Fat Content"
   ]
  },
  {
   "cell_type": "code",
   "execution_count": null,
   "metadata": {
    "colab": {
     "base_uri": "https://localhost:8080/",
     "height": 262
    },
    "id": "iepuewqNralU",
    "outputId": "cae0da7f-c07e-4cf3-87a5-76f653a266d9"
   },
   "outputs": [],
   "source": [
    "#filtering data\n",
    "Itemtypes = df.groupby(['Item_Type','Item_Fat_Content']).mean().reset_index()\n",
    "#sorting data\n",
    "Itemtypes = Itemtypes.sort_values(by = 'Item_Outlet_Sales')\n",
    "#displaying last 5 rows\n",
    "Itemtypes[:5]"
   ]
  },
  {
   "cell_type": "code",
   "execution_count": null,
   "metadata": {
    "colab": {
     "base_uri": "https://localhost:8080/",
     "height": 877
    },
    "id": "4k6tR7axrbeI",
    "outputId": "adbc6887-0db8-416f-8c56-82fe7f5e2f49"
   },
   "outputs": [],
   "source": [
    "#plot graph\n",
    "plt.figure(figsize=(15,10))\n",
    "sns.barplot(data = Itemtypes, x = 'Item_Outlet_Sales', y = 'Item_Type', hue = 'Item_Fat_Content')\n",
    "plt.title('Average Item Sales by Type and Fat Content')\n",
    "plt.ylabel('Item Type')\n",
    "plt.xlabel('Item Outlet Sales');"
   ]
  },
  {
   "cell_type": "markdown",
   "metadata": {
    "id": "3Zpi6Vf1sG6d"
   },
   "source": [
    "Based on the above graph:\n",
    "\n",
    "Item Outlet Sales sell more Low Fat items in the following categories:\n",
    "- Soft Drinks\n",
    "- Breakfast\n",
    "- Snack Foods\n",
    "-Starchy Foods\n",
    "\n",
    "Item Outlet Sales sell more Regular items in the following categories:\n",
    "- Baking Goods\n",
    "- Seafood\n",
    "- Mean\n",
    "- Frozen Foods\n",
    "- Dairy\n",
    "- Fruits & Vegetables\n",
    "- Breads\n",
    "- Canned\n",
    "\n",
    "The below items only have one category of items since they would fall outside of the what is considered Low Fat and Regular:\n",
    "- Household\n",
    "- Others\n",
    "- Health & Hygiene\n",
    "- Hard Drinks"
   ]
  },
  {
   "cell_type": "markdown",
   "metadata": {
    "id": "zJkTn3jTsYXx"
   },
   "source": [
    "##Preprocessing data for ML"
   ]
  },
  {
   "cell_type": "markdown",
   "metadata": {
    "id": "b3Cav94yuiVh"
   },
   "source": [
    "###Dropping irrevelant columns"
   ]
  },
  {
   "cell_type": "code",
   "execution_count": null,
   "metadata": {
    "colab": {
     "base_uri": "https://localhost:8080/"
    },
    "id": "Ux0D2VdtsXvJ",
    "outputId": "17fac31b-caa8-4ec0-bab9-cffd6bef80b2"
   },
   "outputs": [],
   "source": [
    "#dropping Item_Identifier due to high cardinality(too many unique values)\n",
    "df.drop(columns='Item_Identifier', inplace=True)\n",
    "#confirming column was dropped\n",
    "df.columns"
   ]
  },
  {
   "cell_type": "markdown",
   "metadata": {
    "id": "fL8fdAQ6uxCC"
   },
   "source": [
    "###Addressing Ordinal Values"
   ]
  },
  {
   "cell_type": "code",
   "execution_count": null,
   "metadata": {
    "colab": {
     "base_uri": "https://localhost:8080/"
    },
    "id": "69ghu-FmsgGv",
    "outputId": "0af980ef-2c58-4e3b-ab9e-7231b2710e94"
   },
   "outputs": [],
   "source": [
    "#checking category counts prior to converting\n",
    "df['Outlet_Location_Type'].value_counts()"
   ]
  },
  {
   "cell_type": "code",
   "execution_count": null,
   "metadata": {
    "colab": {
     "base_uri": "https://localhost:8080/"
    },
    "id": "AQPPHWnUvHqk",
    "outputId": "5e36f36f-5f99-43a5-97a3-2311ad15279b"
   },
   "outputs": [],
   "source": [
    "#replacing category values\n",
    "df['Outlet_Location_Type'].replace({'Tier 1':0, 'Tier 2':1, 'Tier 3':2}, inplace=True)\n",
    "\n",
    "#confirming changes were made\n",
    "df['Outlet_Location_Type'].value_counts()"
   ]
  },
  {
   "cell_type": "markdown",
   "metadata": {
    "id": "PQhLRqq6vqPE"
   },
   "source": [
    "### Verifying Missing Values"
   ]
  },
  {
   "cell_type": "code",
   "execution_count": null,
   "metadata": {
    "colab": {
     "base_uri": "https://localhost:8080/"
    },
    "id": "h6e8yMkuvtLt",
    "outputId": "35433f04-613a-40c4-b9f1-330e42987232"
   },
   "outputs": [],
   "source": [
    "#Identifying missing values\n",
    "df.isna().sum()"
   ]
  },
  {
   "cell_type": "markdown",
   "metadata": {
    "id": "jFM_D9KAwDHs"
   },
   "source": [
    "* I will address the missing items in the 'Item_Weight' column with a Mean SimpleImputer after splitting my data. \n",
    "* For 'Outlet_Size' I decided to add an 'Unknown' category since the amount of missing data (2410) is very similar to the counts of other categories."
   ]
  },
  {
   "cell_type": "markdown",
   "metadata": {
    "id": "kfCzBAbWxdNB"
   },
   "source": [
    "##Validation Split"
   ]
  },
  {
   "cell_type": "markdown",
   "metadata": {
    "id": "XcenDFc9wM8m"
   },
   "source": [
    "###Assigning values for Features(X) and Target(y)"
   ]
  },
  {
   "cell_type": "code",
   "execution_count": null,
   "metadata": {
    "id": "n-seVT2GwOrw"
   },
   "outputs": [],
   "source": [
    "## Make X and y variables\n",
    "y = df['Item_Outlet_Sales'].copy()\n",
    "X = df.drop(columns=['Item_Outlet_Sales']).copy()"
   ]
  },
  {
   "cell_type": "markdown",
   "metadata": {
    "id": "1GNVnjSIxraO"
   },
   "source": [
    "###Splitting data into Training and Testing datasets"
   ]
  },
  {
   "cell_type": "code",
   "execution_count": null,
   "metadata": {
    "colab": {
     "base_uri": "https://localhost:8080/",
     "height": 143
    },
    "id": "dyU9rdEcxJO8",
    "outputId": "cfda859a-d755-4587-f40b-ac6d41de1a11"
   },
   "outputs": [],
   "source": [
    "## train-test-split with random state for reproducibility\n",
    "X_train, X_test, y_train, y_test = train_test_split(X,y, random_state=SEED)\n",
    "#displaying training features first 3 rows\n",
    "X_train.head(3)"
   ]
  },
  {
   "cell_type": "markdown",
   "metadata": {
    "id": "6PZd-JK0x6gq"
   },
   "source": [
    "##Creating Preprocessor"
   ]
  },
  {
   "cell_type": "code",
   "execution_count": null,
   "metadata": {
    "id": "Ja_A8tnqyflf"
   },
   "outputs": [],
   "source": [
    "## make categorical and numerical selectors\n",
    "cat_sel = make_column_selector(dtype_include='object')\n",
    "num_sel = make_column_selector(dtype_include='number')"
   ]
  },
  {
   "cell_type": "code",
   "execution_count": null,
   "metadata": {
    "colab": {
     "base_uri": "https://localhost:8080/"
    },
    "id": "cpCVxN0J7u6c",
    "outputId": "89d91295-c001-4374-abe6-0de95a9a5945"
   },
   "outputs": [],
   "source": [
    "#verifying unique values for columns that will be onehotencoded\n",
    "for col in cat_sel(X):\n",
    "    print(f\"For {col}:\\n{X[col].unique()}\\n\")"
   ]
  },
  {
   "cell_type": "code",
   "execution_count": null,
   "metadata": {
    "id": "_BXfu68B7_v9"
   },
   "outputs": [],
   "source": [
    "drop_cats = ['Regular', 'Others', 'OUT049','Unknown','Grocery Store']"
   ]
  },
  {
   "cell_type": "code",
   "execution_count": null,
   "metadata": {
    "id": "cr6Az-wZyz0G"
   },
   "outputs": [],
   "source": [
    "## instantiate transformers and make pipelines for categorical vs numeric data #drop=drop_cats or #handle_unknown='ignore'\n",
    "cat_pipe = make_pipeline(SimpleImputer(strategy='constant', fill_value='Unknown'),\n",
    "                         OneHotEncoder(drop=drop_cats, sparse_output=False))\n",
    "num_pipe = make_pipeline(SimpleImputer(strategy='mean'),StandardScaler())"
   ]
  },
  {
   "cell_type": "code",
   "execution_count": null,
   "metadata": {
    "colab": {
     "base_uri": "https://localhost:8080/",
     "height": 152
    },
    "id": "8kFbuVUv2v3i",
    "outputId": "5f7bade2-e8cc-420e-b447-d55bb65a8b51"
   },
   "outputs": [],
   "source": [
    "## make the preprocessing column transformer\n",
    "preprocessor = make_column_transformer((num_pipe, num_sel),\n",
    "                                       (cat_pipe,cat_sel),                                      \n",
    "                                       verbose_feature_names_out=False, remainder='drop')\n",
    "preprocessor"
   ]
  },
  {
   "cell_type": "code",
   "execution_count": null,
   "metadata": {
    "colab": {
     "base_uri": "https://localhost:8080/"
    },
    "id": "GnYsHOyD254e",
    "outputId": "815ac724-d991-414c-cc47-f620809ac42a"
   },
   "outputs": [],
   "source": [
    "## fit column transformer and run get_feature_names_out\n",
    "preprocessor.fit(X_train)\n",
    "feature_names = preprocessor.get_feature_names_out()\n",
    "feature_names"
   ]
  },
  {
   "cell_type": "code",
   "execution_count": null,
   "metadata": {
    "colab": {
     "base_uri": "https://localhost:8080/",
     "height": 225
    },
    "id": "EWd6XZp09ePx",
    "outputId": "0c685429-6c22-419b-bc9a-b168f5cecb3a"
   },
   "outputs": [],
   "source": [
    "# create a preprocessed DataFrame for training set\n",
    "X_train_df = pd.DataFrame(preprocessor.transform(X_train),\n",
    "                           columns = feature_names, index = X_train.index)\n",
    "X_train_df.head(3)"
   ]
  },
  {
   "cell_type": "code",
   "execution_count": null,
   "metadata": {
    "colab": {
     "base_uri": "https://localhost:8080/",
     "height": 225
    },
    "id": "ZRllGsnH-kj6",
    "outputId": "7b7904bd-fbd8-40b6-85fe-f9e1a5c0ddf1"
   },
   "outputs": [],
   "source": [
    "# create a preprocessed DataFrame for test set\n",
    "X_test_df = pd.DataFrame(preprocessor.transform(X_test),\n",
    "                           columns = feature_names, index = X_test.index)\n",
    "X_test_df.head(3)"
   ]
  },
  {
   "cell_type": "code",
   "execution_count": null,
   "metadata": {
    "colab": {
     "base_uri": "https://localhost:8080/"
    },
    "id": "nmuEt9HF-ps8",
    "outputId": "7adb2b2e-8778-4e25-ef0c-086ce616d07f"
   },
   "outputs": [],
   "source": [
    "## confirm the first 3 rows index in y_test matches X_test_df\n",
    "y_test.head(3)"
   ]
  },
  {
   "cell_type": "markdown",
   "metadata": {
    "id": "5XHUNm-N4XX5"
   },
   "source": [
    "## Modeling"
   ]
  },
  {
   "cell_type": "markdown",
   "metadata": {
    "id": "CU9HjtQW4aBG"
   },
   "source": [
    "### Model 1 - Linear Regression"
   ]
  },
  {
   "cell_type": "code",
   "execution_count": null,
   "metadata": {
    "colab": {
     "base_uri": "https://localhost:8080/"
    },
    "id": "xcFELzGnP1J9",
    "outputId": "3c569efe-daa9-46ae-be23-b2273a086445"
   },
   "outputs": [],
   "source": [
    "## fitting default linear regression model\n",
    "lin_reg = LinearRegression()\n",
    "lin_reg.fit(X_train_df, y_train)\n",
    "evaluate_regression(lin_reg, X_train_df, y_train, X_test_df,y_test)"
   ]
  },
  {
   "cell_type": "code",
   "execution_count": null,
   "metadata": {
    "colab": {
     "base_uri": "https://localhost:8080/",
     "height": 492
    },
    "id": "bAyqjm13WiDM",
    "outputId": "ae813f8b-4417-4212-b86c-9a1ba0896a41"
   },
   "outputs": [],
   "source": [
    "#extracting coefficients using function\n",
    "coeffs = get_coeffs_linreg(lin_reg)\n",
    "## plotting all coefficients and intercept\n",
    "plot_coeffs(coeffs, intercept=True);"
   ]
  },
  {
   "cell_type": "code",
   "execution_count": null,
   "metadata": {
    "colab": {
     "base_uri": "https://localhost:8080/",
     "height": 492
    },
    "id": "T5aXDkbyW0Xm",
    "outputId": "b7a0d283-4543-4f14-fa09-b9eaffc6d0c1"
   },
   "outputs": [],
   "source": [
    "#plotting top 3 coefficients excluding intercept\n",
    "plot_coeffs(coeffs, top_n=3, annotate=True);"
   ]
  },
  {
   "cell_type": "markdown",
   "metadata": {
    "id": "QgOQszamBB1D"
   },
   "source": [
    "###Evaluating Coefficients"
   ]
  },
  {
   "cell_type": "markdown",
   "metadata": {
    "id": "TWZoKaN-Y94f"
   },
   "source": [
    "All of my coefficients were categorical items. The 3 largest coefficients I have are: OUtlet_Size_Medium, Outlet_Identifier_OUT019 and Outlet_Type_Supermarket Type3. Belonging to these categories will have the following changes to the target:\n",
    "- Outlet_Size_Medium : 33577528470196481 \n",
    "- Outlet_Identifier_OUT019 : 3137133190522628\n",
    "- Outlet_Type_Supermarket Type3 : (-3068332354615559.5)"
   ]
  },
  {
   "cell_type": "markdown",
   "metadata": {
    "id": "N63WG1GXZXP9"
   },
   "source": [
    "### Serializing and Saving Model"
   ]
  },
  {
   "cell_type": "code",
   "execution_count": null,
   "metadata": {
    "colab": {
     "base_uri": "https://localhost:8080/"
    },
    "id": "zRTXQ39d5ZDr",
    "outputId": "b4c6b46e-c17a-4868-c108-a6b38f197e8c"
   },
   "outputs": [],
   "source": [
    "## creating a dictionary of all of the variables to save for later\n",
    "export_linreg = {'X_train':X_train_df,\n",
    "         'y_train': y_train,\n",
    "         'X_test':X_test_df,\n",
    "          \"y_test\": y_test,\n",
    "         'preprocessor':preprocessor,\n",
    "         'LinearRegressor':lin_reg}\n",
    "joblib.dump(export_linreg, 'linear_regressor.joblib')"
   ]
  },
  {
   "cell_type": "markdown",
   "metadata": {
    "id": "USLNAPTz4ef1"
   },
   "source": [
    "### Model 2 - DecisionTree"
   ]
  },
  {
   "cell_type": "code",
   "execution_count": null,
   "metadata": {
    "colab": {
     "base_uri": "https://localhost:8080/"
    },
    "id": "VeRY4K4QcFk9",
    "outputId": "29e6735d-a475-4b5b-8d4a-ba69b87f5143"
   },
   "outputs": [],
   "source": [
    "#instantiating model\n",
    "dec = DecisionTreeRegressor(random_state=SEED)\n",
    "#fitting data on processed training dataframe\n",
    "dec.fit(X_train_df,y_train)\n",
    "#evaluating model using function\n",
    "evaluate_regression(dec, X_train_df, y_train, X_test_df, y_test)"
   ]
  },
  {
   "cell_type": "markdown",
   "metadata": {
    "id": "l0ZCpRuVx7Cc"
   },
   "source": [
    "### Tuning Model Using GridSearchCV"
   ]
  },
  {
   "cell_type": "code",
   "execution_count": null,
   "metadata": {
    "colab": {
     "base_uri": "https://localhost:8080/"
    },
    "id": "VOwoypXux7Cd",
    "outputId": "d6f46526-d8f5-4545-801d-7ad135b233f8"
   },
   "outputs": [],
   "source": [
    "#viewing available parametors for this model\n",
    "dec.get_params()"
   ]
  },
  {
   "cell_type": "code",
   "execution_count": null,
   "metadata": {
    "colab": {
     "base_uri": "https://localhost:8080/"
    },
    "id": "K04RqYVE1PK6",
    "outputId": "b3d6c26b-a3ee-4e16-d89c-8dbc6305f59f"
   },
   "outputs": [],
   "source": [
    "#verify the decision tree depth\n",
    "dec.get_depth()"
   ]
  },
  {
   "cell_type": "code",
   "execution_count": null,
   "metadata": {
    "id": "O9nt4onTx7Ce"
   },
   "outputs": [],
   "source": [
    "#creating parameter grid to test\n",
    "dec_param_grid = {'max_depth': list(range(0, 44)),\n",
    "              'max_features': list(range(0, 13))}"
   ]
  },
  {
   "cell_type": "code",
   "execution_count": null,
   "metadata": {
    "id": "98X8qSDtx7Ce"
   },
   "outputs": [],
   "source": [
    "#creating grid search\n",
    "dec_gs = GridSearchCV(dec, dec_param_grid)"
   ]
  },
  {
   "cell_type": "code",
   "execution_count": null,
   "metadata": {
    "colab": {
     "base_uri": "https://localhost:8080/",
     "height": 1000
    },
    "id": "c49gdjC6x7Cf",
    "outputId": "39a9aaa4-59d6-47d4-a8de-1d3c37b3e754"
   },
   "outputs": [],
   "source": [
    "#fitting grid search\n",
    "dec_gs.fit(X_train_df, y_train)"
   ]
  },
  {
   "cell_type": "code",
   "execution_count": null,
   "metadata": {
    "colab": {
     "base_uri": "https://localhost:8080/"
    },
    "id": "_4zCEj_qx7Cf",
    "outputId": "5ed0b88b-dbe7-4e26-b0e1-472bf806eb7e"
   },
   "outputs": [],
   "source": [
    "#displaying best parameters\n",
    "dec_gs.best_params_"
   ]
  },
  {
   "cell_type": "markdown",
   "metadata": {
    "id": "1cCHKYsNx7Cg"
   },
   "source": [
    "### Optimized DecisionTree Model"
   ]
  },
  {
   "cell_type": "code",
   "execution_count": null,
   "metadata": {
    "colab": {
     "base_uri": "https://localhost:8080/"
    },
    "id": "tS4kSXyCyGE1",
    "outputId": "2b4b22dd-f449-43c0-ca30-164e561d749e"
   },
   "outputs": [],
   "source": [
    "#instantiating model\n",
    "dec = DecisionTreeRegressor(max_depth=7, max_features=12, random_state=SEED)\n",
    "#fitting data on processed training dataframe\n",
    "dec.fit(X_train_df,y_train)\n",
    "#evaluating model using function\n",
    "evaluate_regression(dec, X_train_df, y_train, X_test_df, y_test)"
   ]
  },
  {
   "cell_type": "markdown",
   "metadata": {
    "id": "ZVqmmSWZdDMF"
   },
   "source": [
    "### Feature Importances"
   ]
  },
  {
   "cell_type": "code",
   "execution_count": null,
   "metadata": {
    "colab": {
     "base_uri": "https://localhost:8080/",
     "height": 569
    },
    "id": "QAXNkSe_cndG",
    "outputId": "e303034e-f57c-4bc9-e676-e9bcfb5ccbb5"
   },
   "outputs": [],
   "source": [
    "## Saving the feature importances using function\n",
    "importances = get_importances(dec)\n",
    "#plotting the top 5 important features using function\n",
    "plot_importance(importances, top_n=5);"
   ]
  },
  {
   "cell_type": "markdown",
   "metadata": {
    "id": "NhGB-MW-dG2p"
   },
   "source": [
    "### Permutation Importances"
   ]
  },
  {
   "cell_type": "code",
   "execution_count": null,
   "metadata": {
    "colab": {
     "base_uri": "https://localhost:8080/"
    },
    "id": "dlwrghGfcwIY",
    "outputId": "de275094-07d2-4183-cf82-742a3b1a64e6"
   },
   "outputs": [],
   "source": [
    "## Permutation importance takes a fit model and the test data.\n",
    "r = permutation_importance(dec, X_test_df, y_test,n_repeats =5)\n",
    "r.keys()"
   ]
  },
  {
   "cell_type": "code",
   "execution_count": null,
   "metadata": {
    "colab": {
     "base_uri": "https://localhost:8080/"
    },
    "id": "9iImtxIKdvhp",
    "outputId": "0b8f8584-728b-4c0b-beee-2fea9ecfd7b2"
   },
   "outputs": [],
   "source": [
    "## pull out mean importances from above dictionary and convert into a series\n",
    "permutation_importances = pd.Series(r['importances_mean'],index=X_test_df.columns,\n",
    "                           name = 'permutation importance')\n",
    "permutation_importances = permutation_importances.sort_values(ascending=False)\n",
    "permutation_importances"
   ]
  },
  {
   "cell_type": "code",
   "execution_count": null,
   "metadata": {
    "colab": {
     "base_uri": "https://localhost:8080/",
     "height": 569
    },
    "id": "AXc6NkxGd-Ve",
    "outputId": "a5649a22-b9d3-4693-ed5f-16fab30dcdf0"
   },
   "outputs": [],
   "source": [
    "#use function to plot top 5 permutation importance\n",
    "ax = plot_importance(permutation_importances,top_n=5)\n",
    "ax.set(xlabel='Permutation Importance');"
   ]
  },
  {
   "cell_type": "markdown",
   "metadata": {
    "id": "mDzTwNbbeKCC"
   },
   "source": [
    "### Serializing and Saving Model"
   ]
  },
  {
   "cell_type": "code",
   "execution_count": null,
   "metadata": {
    "colab": {
     "base_uri": "https://localhost:8080/"
    },
    "id": "BZFJqvk95Qno",
    "outputId": "ee57cd55-f804-4ab6-a68d-ccade03837a3"
   },
   "outputs": [],
   "source": [
    "## creating a dictionary of all of the variables to save for later\n",
    "export_dec = {'X_train':X_train_df,\n",
    "         'y_train': y_train,\n",
    "         'X_test':X_test_df,\n",
    "          \"y_test\": y_test,\n",
    "         'preprocessor':preprocessor,\n",
    "         'DecisionTree':dec}\n",
    "joblib.dump(export_dec, 'decision_tree.joblib')"
   ]
  },
  {
   "cell_type": "code",
   "execution_count": null,
   "metadata": {
    "colab": {
     "base_uri": "https://localhost:8080/"
    },
    "id": "7XZm3jZ_zR3b",
    "outputId": "87c62aa3-745b-4bc0-fe06-84b05cc264ed"
   },
   "outputs": [],
   "source": [
    "loaded_joblib = joblib.load('decision_tree.joblib')\n",
    "loaded_joblib.keys()"
   ]
  },
  {
   "cell_type": "code",
   "execution_count": null,
   "metadata": {
    "id": "pMrDKIk30Ejw"
   },
   "outputs": [],
   "source": [
    "X_train_df = loaded_joblib['X_train']\n",
    "y_train = loaded_joblib['y_train']\n",
    "X_test_df = loaded_joblib['X_test']\n",
    "y_test = loaded_joblib['y_test']\n",
    "preprocessor = loaded_joblib['preprocessor']\n",
    "loaded_model = loaded_joblib['DecisionTree']"
   ]
  },
  {
   "cell_type": "markdown",
   "metadata": {
    "id": "rkuh7b09Av_v"
   },
   "source": [
    "Comparing both the Decision Tree and Linear Regression models, the Decision Tree Model performed better overall. I utilized various regression metrics to evaluate and compare both models and the Decision Tree model had better results.\n",
    "\n",
    "Although I was able to improve the Decision tree model in its prediction perfomance, I would hightly recommned gathering other relevant features that would help with Item Sales predictions. It can be concluded that this model has a high bias which would not be super reliable when making predictions."
   ]
  },
  {
   "cell_type": "markdown",
   "metadata": {
    "id": "L8_WEj6m79KF"
   },
   "source": [
    "### Global Explanation"
   ]
  },
  {
   "cell_type": "code",
   "execution_count": null,
   "metadata": {
    "colab": {
     "base_uri": "https://localhost:8080/",
     "height": 462
    },
    "id": "dFBqsis12byb",
    "outputId": "4d969751-4458-434f-e8b1-79bffa2b8b92"
   },
   "outputs": [],
   "source": [
    "# Import shap and initialize javascript:\n",
    "!pip install shap\n",
    "import shap\n",
    "shap.initjs()"
   ]
  },
  {
   "cell_type": "code",
   "execution_count": null,
   "metadata": {
    "colab": {
     "base_uri": "https://localhost:8080/"
    },
    "id": "yK1xZtmD3e-j",
    "outputId": "cc5c6156-ccec-49c3-b821-bd7f611a9d32"
   },
   "outputs": [],
   "source": [
    "len(X_train_df)"
   ]
  },
  {
   "cell_type": "code",
   "execution_count": null,
   "metadata": {
    "colab": {
     "base_uri": "https://localhost:8080/",
     "height": 287
    },
    "id": "UMoQEymH3ulr",
    "outputId": "a2b19d1b-5bbb-44aa-f5a4-4c2dbda31d1e"
   },
   "outputs": [],
   "source": [
    "X_shap = shap.sample(X_train_df,nsamples=400,random_state=321)\n",
    "X_shap.head()"
   ]
  },
  {
   "cell_type": "code",
   "execution_count": null,
   "metadata": {
    "colab": {
     "base_uri": "https://localhost:8080/"
    },
    "id": "5hsDoXEN34-N",
    "outputId": "0974f4c3-2b57-4c38-a871-48789c3e80b9"
   },
   "outputs": [],
   "source": [
    "## get the corresponding y-values\n",
    "y_shap = y_train.loc[X_shap.index]\n",
    "y_shap "
   ]
  },
  {
   "cell_type": "code",
   "execution_count": null,
   "metadata": {
    "colab": {
     "base_uri": "https://localhost:8080/"
    },
    "id": "9zbpTeEE6ETI",
    "outputId": "aecd22e5-de17-40e2-9773-8d8ee5e20abe"
   },
   "outputs": [],
   "source": [
    "#creating explainer\n",
    "explainer = shap.Explainer(loaded_model)\n",
    "explainer"
   ]
  },
  {
   "cell_type": "code",
   "execution_count": null,
   "metadata": {
    "colab": {
     "base_uri": "https://localhost:8080/"
    },
    "id": "R2SarNvM663N",
    "outputId": "b39b4cf8-51d0-4392-b245-f914948eaa90"
   },
   "outputs": [],
   "source": [
    "## Getting the shape values\n",
    "shap_values = explainer(X_shap,y_shap)\n",
    "type(shap_values)"
   ]
  },
  {
   "cell_type": "code",
   "execution_count": null,
   "metadata": {
    "colab": {
     "base_uri": "https://localhost:8080/"
    },
    "id": "IX4NE9Bk7S3j",
    "outputId": "6695d283-1770-44d9-b375-87be38fcf873"
   },
   "outputs": [],
   "source": [
    "#verifying the shape of our X_shap that we created\n",
    "X_shap.shape"
   ]
  },
  {
   "cell_type": "code",
   "execution_count": null,
   "metadata": {
    "colab": {
     "base_uri": "https://localhost:8080/"
    },
    "id": "-WSzHJ8l7ZE2",
    "outputId": "dc068b19-6d6c-44aa-e3c4-23c7abd0338d"
   },
   "outputs": [],
   "source": [
    "#Verifying the shae of our shap_values\n",
    "shap_values.shape"
   ]
  },
  {
   "cell_type": "code",
   "execution_count": null,
   "metadata": {
    "colab": {
     "base_uri": "https://localhost:8080/",
     "height": 957
    },
    "id": "AUYu017P9qeG",
    "outputId": "dbecc5eb-1837-4629-98b2-ed2034b18f10"
   },
   "outputs": [],
   "source": [
    "#plotting the summary\n",
    "shap.summary_plot(shap_values,features= X_shap, plot_type='bar')"
   ]
  },
  {
   "cell_type": "markdown",
   "metadata": {
    "id": "a5qpZkPVaSXQ"
   },
   "source": [
    "- The Feature Importances\n",
    "\n",
    "![5_most_important.png](data:image/png;base64,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)"
   ]
  },
  {
   "cell_type": "markdown",
   "metadata": {
    "id": "B4nlKFxlg0M_"
   },
   "source": [
    "> Comparing the feature importances to the shap values above, I show that I have the same exact Top 5 features only in different orders. The Item_MRP is the biggest contributor to the predictions by far. Also, the Outlet_Type_Supermarket Type1 is the 5th feature on both graphs. \n",
    "\n",
    "\n"
   ]
  },
  {
   "cell_type": "code",
   "execution_count": null,
   "metadata": {
    "colab": {
     "base_uri": "https://localhost:8080/",
     "height": 975
    },
    "id": "DoAZ_iRkdjq5",
    "outputId": "9a5e2078-091f-403b-cd56-49a417af363c"
   },
   "outputs": [],
   "source": [
    "#plotting 'dot' graph (default)\n",
    "shap.summary_plot(shap_values,X_shap);"
   ]
  },
  {
   "cell_type": "markdown",
   "metadata": {
    "id": "UD9nWfy81kbw"
   },
   "source": [
    "> The Shap Summary above shows that our 3 most important features are Item_MRP, Outlet_Type_Supermarket Type3 and Outlet_Identifier_OUT010. \n",
    "\n",
    "- Item_MRP had the largest effect on the model's predictions. This is an integer feature so looking at the graph I can see that the higher the Item_MRP was, the more positively higher the predicted price was. The lower the Item_MRP was the more negatively lower the predicted sales were.\n",
    "\n",
    "- Outlet_Type_Supermarket Type3 was a categorical feature. Based on the graph above when this category was selected it had a high positive impact on the overall sales.\n",
    "\n",
    "- Outlet_Identifier_OUT010 was also a cetgorical feature. This feature however, had a negative impact on the overall sales the more it was selected."
   ]
  },
  {
   "cell_type": "markdown",
   "metadata": {
    "id": "nlU0k7vb8SF7"
   },
   "source": [
    "### Local Explanations"
   ]
  },
  {
   "cell_type": "markdown",
   "metadata": {
    "id": "CXfzt8CMDQRa"
   },
   "source": [
    "- Using Shap"
   ]
  },
  {
   "cell_type": "code",
   "execution_count": null,
   "metadata": {
    "id": "dj0NLpNq8VfB"
   },
   "outputs": [],
   "source": [
    "## Resetting the index for sampled data to match shap_values integer index\n",
    "X_shap = X_shap.reset_index(drop=True)\n",
    "y_shap = y_shap.reset_index(drop=True)"
   ]
  },
  {
   "cell_type": "code",
   "execution_count": null,
   "metadata": {
    "colab": {
     "base_uri": "https://localhost:8080/"
    },
    "id": "nj_CNayH-3S8",
    "outputId": "7db5ff4a-94e2-4a11-c9d2-50e06739a7b0"
   },
   "outputs": [],
   "source": [
    "#overriding shap values\n",
    "shap_values = explainer(X_shap,y_shap)\n",
    "shap_values.shape"
   ]
  },
  {
   "cell_type": "markdown",
   "metadata": {
    "id": "5KrQYwLEC3uh"
   },
   "source": [
    "- I would like to explore a starchy item from a Supermarket Type 3. Starchy foods are the highest selling items and Supermarket Type 3 has the highest sales."
   ]
  },
  {
   "cell_type": "code",
   "execution_count": null,
   "metadata": {
    "colab": {
     "base_uri": "https://localhost:8080/",
     "height": 472
    },
    "id": "_MQeTrMmGZwv",
    "outputId": "00a3c403-4ed0-4078-c535-cc6065fcbe2c"
   },
   "outputs": [],
   "source": [
    "sns.histplot(X_shap['Outlet_Type_Supermarket Type3'])"
   ]
  },
  {
   "cell_type": "code",
   "execution_count": null,
   "metadata": {
    "colab": {
     "base_uri": "https://localhost:8080/"
    },
    "id": "Uc_5594uC245",
    "outputId": "c18b1fa4-6bc0-4349-c9d9-75d8ca5c6322"
   },
   "outputs": [],
   "source": [
    "## Filter for outlet type supermarket type3\n",
    "filt_sup3 = X_shap['Outlet_Type_Supermarket Type3'] == 1\n",
    "len(X_shap[filt_sup3])"
   ]
  },
  {
   "cell_type": "code",
   "execution_count": null,
   "metadata": {
    "id": "8TAjHlbTKsC-"
   },
   "outputs": [],
   "source": [
    "## filtering out supermarket type3\n",
    "sup3_examples= X_shap[filt_sup3].index\n",
    "## selecting a random index for final example\n",
    "sup3 = np.random.choice(sup3_examples)"
   ]
  },
  {
   "cell_type": "code",
   "execution_count": null,
   "metadata": {
    "colab": {
     "base_uri": "https://localhost:8080/"
    },
    "id": "vs2-csND_Z6R",
    "outputId": "a137194e-28c6-4515-bcc3-14b9b860466a"
   },
   "outputs": [],
   "source": [
    "#filtering out and displaying individual sample\n",
    "ind_sup3 = X_shap.loc[sup3]\n",
    "ind_sup3.head()"
   ]
  },
  {
   "cell_type": "code",
   "execution_count": null,
   "metadata": {
    "colab": {
     "base_uri": "https://localhost:8080/"
    },
    "id": "WyD_MngSLR_d",
    "outputId": "01a5d61c-5ed1-46cc-f69d-fc69a592e79d"
   },
   "outputs": [],
   "source": [
    "# Selecting row 131 from sample above\n",
    "row = 131\n",
    "print(f\"- Row #: {row}\")\n",
    "print(f\"- Target: {y_shap.iloc[row]}\")\n",
    "X_shap.iloc[row].round(2)"
   ]
  },
  {
   "cell_type": "code",
   "execution_count": null,
   "metadata": {
    "colab": {
     "base_uri": "https://localhost:8080/",
     "height": 69
    },
    "id": "rJlrR9LzNdfA",
    "outputId": "20fc8da9-7147-4be7-e6da-96cb9b3c203f"
   },
   "outputs": [],
   "source": [
    "## Individual forceplot\n",
    "shap.force_plot(explainer.expected_value,\n",
    "                shap_values= shap_values[row].values,\n",
    "               features=X_shap.iloc[row])"
   ]
  },
  {
   "cell_type": "code",
   "execution_count": null,
   "metadata": {
    "colab": {
     "base_uri": "https://localhost:8080/"
    },
    "id": "KbWtabFJIAjr",
    "outputId": "1ec7f780-314c-4601-b58e-f5b8eeda4a98"
   },
   "outputs": [],
   "source": [
    "## finding out starchy foods sold\n",
    "filt_starch = X_shap['Item_Type_Starchy Foods'] == 1\n",
    "len(X_shap[filt_starch])"
   ]
  },
  {
   "cell_type": "code",
   "execution_count": null,
   "metadata": {
    "id": "ckBmQs-Q_Tnk"
   },
   "outputs": [],
   "source": [
    "## filtering out starchy foods indexes\n",
    "starch_examples= X_shap[filt_starch].index\n",
    "## selecting a random index for final example\n",
    "starch = np.random.choice(starch_examples)"
   ]
  },
  {
   "cell_type": "code",
   "execution_count": null,
   "metadata": {
    "colab": {
     "base_uri": "https://localhost:8080/"
    },
    "id": "NL6b8rq6AjAN",
    "outputId": "9543f5cd-ebe1-49c3-dcc3-cdd6016c8b38"
   },
   "outputs": [],
   "source": [
    "#filtering out and displaying individual sample\n",
    "ind_starch = X_shap.loc[starch]\n",
    "ind_starch.head()"
   ]
  },
  {
   "cell_type": "code",
   "execution_count": null,
   "metadata": {
    "colab": {
     "base_uri": "https://localhost:8080/"
    },
    "id": "r0XZTVG1AuKu",
    "outputId": "d415b8eb-109f-40e0-d351-cf6dc55d7953"
   },
   "outputs": [],
   "source": [
    "# Selecting row 389 from sample above\n",
    "row = 389\n",
    "print(f\"- Row #: {row}\")\n",
    "print(f\"- Target: {y_shap.iloc[row]}\")\n",
    "X_shap.iloc[row].round(2)"
   ]
  },
  {
   "cell_type": "code",
   "execution_count": null,
   "metadata": {
    "colab": {
     "base_uri": "https://localhost:8080/",
     "height": 69
    },
    "id": "dtaK3OUwA2Di",
    "outputId": "085b6d53-a31c-41bf-fe93-ef38da5cd8b6"
   },
   "outputs": [],
   "source": [
    "## Individual forceplot\n",
    "shap.force_plot(explainer.expected_value,\n",
    "                shap_values= shap_values[row].values,\n",
    "               features=X_shap.iloc[row])"
   ]
  },
  {
   "cell_type": "markdown",
   "metadata": {
    "id": "RSxUbf9FDTRS"
   },
   "source": [
    "- Using Lime"
   ]
  },
  {
   "cell_type": "code",
   "execution_count": null,
   "metadata": {
    "colab": {
     "base_uri": "https://localhost:8080/"
    },
    "id": "p-ymVgRKDVGH",
    "outputId": "ed156c40-6c2a-4b75-bda9-94905ac065a4"
   },
   "outputs": [],
   "source": [
    "!pip install lime\n",
    "from lime.lime_tabular import LimeTabularExplainer\n",
    "lime_explainer =LimeTabularExplainer(training_data=X_shap.values, feature_names=X_shap.columns, mode='regression')\n",
    "lime_explainer"
   ]
  },
  {
   "cell_type": "code",
   "execution_count": null,
   "metadata": {
    "colab": {
     "base_uri": "https://localhost:8080/",
     "height": 350
    },
    "id": "4eTAypv2DseC",
    "outputId": "94cb18d7-903b-43d7-fcc9-b8691f914c8c"
   },
   "outputs": [],
   "source": [
    "row = 131\n",
    "exp = lime_explainer.explain_instance(X_shap.iloc[row],\n",
    "                               loaded_model.predict)\n",
    "exp.show_in_notebook()"
   ]
  },
  {
   "cell_type": "code",
   "execution_count": null,
   "metadata": {
    "colab": {
     "base_uri": "https://localhost:8080/",
     "height": 350
    },
    "id": "c75e8XtO_JUS",
    "outputId": "ab3dc7ad-ca83-45b7-d457-717a8715a923"
   },
   "outputs": [],
   "source": [
    "row = 389\n",
    "exp = lime_explainer.explain_instance(X_shap.iloc[row],\n",
    "                               loaded_model.predict)\n",
    "exp.show_in_notebook()"
   ]
  }
 ],
 "metadata": {
  "colab": {
   "provenance": []
  },
  "kernelspec": {
   "display_name": "Python 3 (ipykernel)",
   "language": "python",
   "name": "python3"
  },
  "language_info": {
   "codemirror_mode": {
    "name": "ipython",
    "version": 3
   },
   "file_extension": ".py",
   "mimetype": "text/x-python",
   "name": "python",
   "nbconvert_exporter": "python",
   "pygments_lexer": "ipython3",
   "version": "3.9.15"
  },
  "toc": {
   "base_numbering": 1,
   "nav_menu": {},
   "number_sections": false,
   "sideBar": true,
   "skip_h1_title": false,
   "title_cell": "Table of Contents",
   "title_sidebar": "Contents",
   "toc_cell": false,
   "toc_position": {},
   "toc_section_display": true,
   "toc_window_display": false
  }
 },
 "nbformat": 4,
 "nbformat_minor": 1
}
